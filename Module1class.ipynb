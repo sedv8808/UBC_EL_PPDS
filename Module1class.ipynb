{
 "cells": [
  {
   "cell_type": "markdown",
   "metadata": {},
   "source": [
    "# UBC\n",
    "## Programming in Python for DS\n",
    "\n",
    "### Week 1\n",
    "Instructor: Socorro Dominguez-Vidana"
   ]
  },
  {
   "cell_type": "markdown",
   "metadata": {},
   "source": [
    "## How does this Course Work?\n",
    "\n",
    "4 Main Components:\n",
    "- [Course Material](https://prog-learn.mds.ubc.ca/en/)\n",
    "- Jupypter Hub for assignments\n",
    "- Piazza for Questions\n",
    "- Office Hours: 2 hours a week and will be recorded. (Optional Attendance) "
   ]
  },
  {
   "cell_type": "markdown",
   "metadata": {},
   "source": [
    "### Asking Questions Etiquette:\n",
    "- If you have a question regarding the assignment, **do not** email your instructor.\n",
    "    - The idea is that the knowledge is given to all the class and not to single students.\n",
    "- Instead, go to Piazza and see if there is a discussion regarding that question already.\n",
    "- If not, ask the question on Piazza, you can ask anonymously - avoid asking privately.\n",
    "\n",
    "- e-mail your instructor or send a private message **only** if it is regarding your grades or a personal matter that needs to be discussed. e-mails regarding assignment questions will not always be responded to or will not be responded to in a timely manner."
   ]
  },
  {
   "cell_type": "markdown",
   "metadata": {},
   "source": [
    "### Piazza?\n",
    "\n",
    "- Piazza is similar to forum, for us, particularly similar to one called StackOverflow.\n",
    "\n",
    "- Its main purpose is to communicate questions among students and instructors.\n",
    "    - Collaboration in Data Science is extremely important.\n",
    "\n",
    "- Try working alone on a problem first. If you have worked on it for 15-30 minutes and you cannot figure it out, **ASK** on Piazza.\n",
    "  \n",
    "- You might want to ask a question on Piazza but not know how.\n",
    "\n",
    "    - The more details you provide, the more likely the instructors and your peers will be able to help you appropriately.\n",
    "\n",
    "    - **avoid** screenshots or uploading pictures. Instructors/peers may not always be allowed to open 'external' files and so, your question might be skipped.  \n",
    "\n",
    "    - Instead, use ``` to start a code chunk, then copy and paste the code that you are using and the error message that is coming out."
   ]
  },
  {
   "cell_type": "markdown",
   "metadata": {},
   "source": [
    "#### Example\n",
    "\n",
    "> **Title: Assignment 1 Question 3.a**  \n",
    "> Hi all, I am having troubles in Assignment 1 Question 3.a  \n",
    "> This is the code that I am trying:\n",
    ">\n",
    "> ```python\n",
    "> x + y\n",
    ">```\n",
    "> <br>\n",
    ">\n",
    "> I am receiving the error:\n",
    ">```output\n",
    ">KeyError: x is not defined\n",
    ">```\n",
    "> <br>\n",
    ">\n",
    "> I do not understand what the error means, could someone help?"
   ]
  },
  {
   "cell_type": "markdown",
   "metadata": {},
   "source": [
    "This way we can all help."
   ]
  },
  {
   "cell_type": "markdown",
   "metadata": {},
   "source": [
    "### Office Hours Expectations\n",
    "\n",
    "- Students **must** bring in questions:\n",
    "    - On Mondays we will do a Module preview - time for questions might be limited.\n",
    "    - Wednesdays, Office Hours rely entirely on the questions brought by you.\n",
    "- Office Hours are not lectures; we will not cover anything new, but we might break things into simpler steps/dive into some details.\n",
    "<br> \n",
    "\n",
    "- Try to keep your mic muted but your camera on (at least when you are speaking). Stay engaged.\n",
    "\n",
    "- Although attendance is optional, it is highly encouraged that you do at least watch the recordings, there might be announcements made during Office Hours.\n",
    "\n",
    "- To ask a question in Office Hours, be ready to share your screen and walk us through the problem where you are stalled. If you have worked through the solution partially, also give us a tour :) Do not expect to just be told how to solve the exercise - it is needed that you share your thought process.\n",
    "\n",
    "- If there are no questions on the student's side, Office Hours might finish early. Come prepared, this time is yours."
   ]
  },
  {
   "cell_type": "markdown",
   "metadata": {},
   "source": [
    "### Assignment Expectations\n",
    "- You will have one assignment per week. \n",
    "    - The first submission is on Sunday (the first assignment is more of a walkthrough).  \n",
    "    <br> \n",
    "\n",
    "- **Do not** change the names of the files. It might be tempting to add your name. Please do not as this may cause problems when grading you.\n",
    "\n",
    "- Avoid uploading data or unrelated course material into the server. This might also cause crashes with the server and we cannot guarantee that the data will be safe.\n",
    "\n",
    "- Try to submit on time. We will talk more about late submissions next week. But try to stay on track as much as possible. You will all receive an email next week regarding late submissions. If you submitted your first assignment on time, don't worry about receiving the email; it is just for your reference.\n",
    "\n",
    "- To submit, all assignments (except for the Final Project) need to be submitted on the server only. To achieve this, simply save your file changes - as simple as that."
   ]
  },
  {
   "cell_type": "markdown",
   "metadata": {},
   "source": [
    "### Hints on how to Navigate the Course\n",
    "\n",
    "- Read the Goals of the Module.\n",
    "\n",
    "- Read the Assignment (so that you have an idea of what you are expected to do)\n",
    "\n",
    "- Watch the videos and solve the exercices.\n",
    "\n",
    "- Instead of waiting to solve the whole assignment on the weekend, code along and try solving a bit every day.\n",
    "\n",
    "- Try working on a problem for 15-30 minutes before asking on Piazza.\n",
    "\n",
    "- If Piazza is not enough, bring your question to Office Hours.\n",
    "    - Maybe you got the right answer but you don't understand how/why it works. Bring the problem and we will discuss it."
   ]
  },
  {
   "cell_type": "markdown",
   "metadata": {
    "jp-MarkdownHeadingCollapsed": true
   },
   "source": [
    "### *Course Requirements?*\n",
    "\n",
    "For this course, you do not need to install anything.  \n",
    "\n",
    "The Jupyter server that loads when you start an assignment suffices for this course.\n",
    "\n",
    "If you want to install it in your computer, follow these instructions:\n",
    "[MDS Installation Guide](https://ubc-mds.github.io/resources_pages/installation_instructions/)"
   ]
  },
  {
   "cell_type": "markdown",
   "metadata": {},
   "source": [
    "## Overview Module 1\n",
    "### What is Python?"
   ]
  },
  {
   "cell_type": "markdown",
   "metadata": {},
   "source": [
    "- Python is a widely used general-purpose, high-level programming language.\n",
    "\n",
    "- Designed by Guido van Rossum in 1991 who developed by Python Software Foundation.\n",
    "\n",
    "- Developed to allow programmers express concepts in fewer lines of code.\n",
    "\n",
    "- Object-oriented programming language (can model real-world entities). \n",
    "\n",
    "- Dynamically-typed and already interpreted - we don't need to compile it.\n",
    "\n",
    "- Python 3 was released in December 2008.\n",
    "    - Currently 3.12.1\n",
    "    - Server has 3.8.5"
   ]
  },
  {
   "cell_type": "markdown",
   "metadata": {},
   "source": [
    "#### Python's Fun Facts\n",
    "\n",
    "- Firstly introduced at the National Research Institute for Mathematics and Computer Science, Netherlands, 1991. [source](https://www.journaldev.com/34415/history-of-python-programming-language)\n",
    "\n",
    "- Named after the comedy show Monty Python's Flying Circus (it's in Netflix)\n",
    "\n",
    "- Python has become the most popular coding language in the world. \n",
    "    - This makes a career in Python a great choice. Not just for Data Science/Analytics."
   ]
  },
  {
   "cell_type": "markdown",
   "metadata": {},
   "source": [
    "### Why Python for Data Science ?\n",
    "\n",
    "- Fast programming language to pick up - from a syntax point of view.\n",
    "    - For now, we will use python from a procedural/imperative perspective rather than an OOP perspective. \n",
    "\n",
    "- Active community with a vast selection of libraries (such as pandas and Altair)  and other resources.\n",
    "\n",
    "- Professionals working with Data Science applications want to focus on insights rather than on complications of language."
   ]
  },
  {
   "cell_type": "markdown",
   "metadata": {},
   "source": [
    "### What is Jupyter?\n",
    "\n",
    "- It is an IDE (integrated development environment)\n",
    "\n",
    "- We can use Python via Jupyter.\n",
    "\n",
    "- You can think of Python like a car's engine, while Jupyter is like a car's dashboard.\n",
    "    - Python is the programming language that runs computations\n",
    "    - Jupyter is the IDE that provides an interface by adding convenient features and tools.\n",
    "    \n",
    "- We can use other programs with Jupyter (R, Julia, Matlab,...)"
   ]
  },
  {
   "cell_type": "markdown",
   "metadata": {},
   "source": [
    "### Why Jupyter?\n",
    "\n",
    "- In Jupyter we can code, do plots, format text, equations, etc. in a single document.\n",
    "\n",
    "- Allows us to run Python code interactively.\n",
    "\n",
    "- Notebooks are great for exploration and for documenting a complete workflow.\n",
    "\n",
    "- Notebooks can be shared in a human readable format:\n",
    "    - Share online with nbviewer.jupyter.org\n",
    "    - Github, any notebooks you upload are automatically rendered on the site.\n",
    "    - Convert to HTML, PDF, etc."
   ]
  },
  {
   "cell_type": "markdown",
   "metadata": {},
   "source": [
    "### Characteristics of Notebooks\n",
    "\n",
    "- A notebook consists of a series of \"cells\":\n",
    "    - Code cells: execute snippets of code and display the output\n",
    "    - Markdown cells: formatted text, formatted code, equations, images, and more"
   ]
  },
  {
   "cell_type": "code",
   "execution_count": 1,
   "metadata": {},
   "outputs": [
    {
     "data": {
      "text/plain": [
       "9"
      ]
     },
     "execution_count": 1,
     "metadata": {},
     "output_type": "execute_result"
    }
   ],
   "source": [
    "# Code Cell\n",
    "\n",
    "x = 3\n",
    "x + 6"
   ]
  },
  {
   "cell_type": "code",
   "execution_count": 2,
   "metadata": {},
   "outputs": [],
   "source": [
    "import pandas as pd"
   ]
  },
  {
   "cell_type": "markdown",
   "metadata": {},
   "source": [
    "```sql\n",
    "# Markdown Cell\n",
    "SELECT * from table\n",
    "```\n",
    "\n",
    "```python\n",
    "print(\"hello\")\n",
    "```\n",
    "\n",
    "$\\sum x + y = 10$"
   ]
  },
  {
   "cell_type": "markdown",
   "metadata": {},
   "source": [
    "# This is a Header"
   ]
  },
  {
   "cell_type": "markdown",
   "metadata": {},
   "source": [
    "I ran something from a Database using\n",
    "```sql\n",
    "Select * from table1\n",
    "```"
   ]
  },
  {
   "cell_type": "markdown",
   "metadata": {},
   "source": [
    "$x + y = 10$"
   ]
  },
  {
   "cell_type": "markdown",
   "metadata": {},
   "source": [
    "Note: By default, a new cell is always a code cell."
   ]
  },
  {
   "cell_type": "code",
   "execution_count": 3,
   "metadata": {},
   "outputs": [
    {
     "data": {
      "text/plain": [
       "16"
      ]
     },
     "execution_count": 3,
     "metadata": {},
     "output_type": "execute_result"
    }
   ],
   "source": [
    "x = [4, 5, 7]\n",
    "sum(x)"
   ]
  },
  {
   "cell_type": "markdown",
   "metadata": {},
   "source": [
    "+, -, /, *"
   ]
  },
  {
   "cell_type": "markdown",
   "metadata": {},
   "source": [
    "### Python Data Science Ecosystem\n",
    "\n",
    "- Python has many uses: \n",
    "    - Web development\n",
    "    - Automation or scripting\n",
    "    - Software testing and prototyping\n",
    "    - Everyday tasks\n",
    "    - Data Analysis & Data Science\n",
    "    \n",
    "- Python has built-in functions. But that is not enough for us (we don't want to reinvent all functions).\n",
    "\n",
    "- The Python libraries for data science are developed and maintained by external \"3rd party\" development teams\n",
    "\n",
    "- Python core + 3rd party libraries = **ecosystem**\n",
    "    - To install and manage 3rd party libraries, you need to use a package manager such as conda (which comes with Anaconda/Miniconda) - More on this in the DS Toolbox\n",
    "    "
   ]
  },
  {
   "cell_type": "markdown",
   "metadata": {},
   "source": [
    "During the program, we will be working with Pandas, numPy, and Altair -  \n",
    "**You do not need to install anything.** You will all be working from the server."
   ]
  },
  {
   "cell_type": "markdown",
   "metadata": {},
   "source": [
    "## How can I follow on some of the code of the videos?\n",
    "\n",
    "I want to follow what is happening in the videos, how can I do that?"
   ]
  },
  {
   "cell_type": "markdown",
   "metadata": {},
   "source": [
    "Outside of any of the assignments folders open a new Jupyter notebook - do not add new notebooks inside the assignment folders as the autograder might fail."
   ]
  },
  {
   "cell_type": "markdown",
   "metadata": {},
   "source": [
    "Go to [https://prog-learn.mds.ubc.ca/en/](https://prog-learn.mds.ubc.ca/en/) and scroll to the bottom of the page until you see Source; click on [Source](https://github.com/UBC-MDS/programming-in-python-for-data-science)\n",
    "\n",
    "There is a folder called **data**; you can access all the datasets for the course. \n",
    "\n",
    "Open any of the datasets and then click on **raw**; you can use pd.read_csv(**insert_url**) to work ; for example:"
   ]
  },
  {
   "cell_type": "code",
   "execution_count": 4,
   "metadata": {},
   "outputs": [
    {
     "data": {
      "text/html": [
       "<div>\n",
       "<style scoped>\n",
       "    .dataframe tbody tr th:only-of-type {\n",
       "        vertical-align: middle;\n",
       "    }\n",
       "\n",
       "    .dataframe tbody tr th {\n",
       "        vertical-align: top;\n",
       "    }\n",
       "\n",
       "    .dataframe thead th {\n",
       "        text-align: right;\n",
       "    }\n",
       "</style>\n",
       "<table border=\"1\" class=\"dataframe\">\n",
       "  <thead>\n",
       "    <tr style=\"text-align: right;\">\n",
       "      <th></th>\n",
       "      <th>name</th>\n",
       "      <th>weight</th>\n",
       "      <th>chocolate</th>\n",
       "      <th>peanuts</th>\n",
       "      <th>caramel</th>\n",
       "      <th>nougat</th>\n",
       "      <th>cookie_wafer_rice</th>\n",
       "      <th>coconut</th>\n",
       "      <th>white_chocolate</th>\n",
       "      <th>multi</th>\n",
       "      <th>available_canada_america</th>\n",
       "    </tr>\n",
       "  </thead>\n",
       "  <tbody>\n",
       "    <tr>\n",
       "      <th>0</th>\n",
       "      <td>Coffee Crisp</td>\n",
       "      <td>50</td>\n",
       "      <td>1</td>\n",
       "      <td>0</td>\n",
       "      <td>0</td>\n",
       "      <td>0</td>\n",
       "      <td>1</td>\n",
       "      <td>0</td>\n",
       "      <td>0</td>\n",
       "      <td>0</td>\n",
       "      <td>Canada</td>\n",
       "    </tr>\n",
       "    <tr>\n",
       "      <th>1</th>\n",
       "      <td>Butterfinger</td>\n",
       "      <td>184</td>\n",
       "      <td>1</td>\n",
       "      <td>1</td>\n",
       "      <td>1</td>\n",
       "      <td>0</td>\n",
       "      <td>0</td>\n",
       "      <td>0</td>\n",
       "      <td>0</td>\n",
       "      <td>0</td>\n",
       "      <td>America</td>\n",
       "    </tr>\n",
       "    <tr>\n",
       "      <th>2</th>\n",
       "      <td>Skor</td>\n",
       "      <td>39</td>\n",
       "      <td>1</td>\n",
       "      <td>0</td>\n",
       "      <td>1</td>\n",
       "      <td>0</td>\n",
       "      <td>0</td>\n",
       "      <td>0</td>\n",
       "      <td>0</td>\n",
       "      <td>0</td>\n",
       "      <td>Both</td>\n",
       "    </tr>\n",
       "    <tr>\n",
       "      <th>3</th>\n",
       "      <td>Smarties</td>\n",
       "      <td>45</td>\n",
       "      <td>1</td>\n",
       "      <td>0</td>\n",
       "      <td>0</td>\n",
       "      <td>0</td>\n",
       "      <td>0</td>\n",
       "      <td>0</td>\n",
       "      <td>0</td>\n",
       "      <td>1</td>\n",
       "      <td>Canada</td>\n",
       "    </tr>\n",
       "    <tr>\n",
       "      <th>4</th>\n",
       "      <td>Twix</td>\n",
       "      <td>58</td>\n",
       "      <td>1</td>\n",
       "      <td>0</td>\n",
       "      <td>1</td>\n",
       "      <td>0</td>\n",
       "      <td>1</td>\n",
       "      <td>0</td>\n",
       "      <td>0</td>\n",
       "      <td>1</td>\n",
       "      <td>Both</td>\n",
       "    </tr>\n",
       "  </tbody>\n",
       "</table>\n",
       "</div>"
      ],
      "text/plain": [
       "           name  weight  chocolate  peanuts  caramel  nougat   \n",
       "0  Coffee Crisp      50          1        0        0       0  \\\n",
       "1  Butterfinger     184          1        1        1       0   \n",
       "2          Skor      39          1        0        1       0   \n",
       "3      Smarties      45          1        0        0       0   \n",
       "4          Twix      58          1        0        1       0   \n",
       "\n",
       "   cookie_wafer_rice  coconut  white_chocolate  multi available_canada_america  \n",
       "0                  1        0                0      0                   Canada  \n",
       "1                  0        0                0      0                  America  \n",
       "2                  0        0                0      0                     Both  \n",
       "3                  0        0                0      1                   Canada  \n",
       "4                  1        0                0      1                     Both  "
      ]
     },
     "execution_count": 4,
     "metadata": {},
     "output_type": "execute_result"
    }
   ],
   "source": [
    "import pandas as pd\n",
    "\n",
    "data = pd.read_csv('https://raw.githubusercontent.com/UBC-MDS/programming-in-python-for-data-science/master/data/candybars.csv')\n",
    "data.head()"
   ]
  },
  {
   "cell_type": "markdown",
   "metadata": {},
   "source": [
    "## Tricks with Notebooks"
   ]
  },
  {
   "cell_type": "code",
   "execution_count": 5,
   "metadata": {},
   "outputs": [
    {
     "data": {
      "text/plain": [
       "8"
      ]
     },
     "execution_count": 5,
     "metadata": {},
     "output_type": "execute_result"
    }
   ],
   "source": [
    "# This is a code cell\n",
    "\n",
    "x = 5\n",
    "3+x # Shows output"
   ]
  },
  {
   "cell_type": "code",
   "execution_count": 6,
   "metadata": {},
   "outputs": [],
   "source": [
    "y = 3"
   ]
  },
  {
   "cell_type": "markdown",
   "metadata": {},
   "source": [
    "### Writing a formula \n",
    "- Render with latex using `$`\n",
    "\n",
    "Write \n",
    ">\n",
    ">```markdown\n",
    "$x + y = 8$\n",
    ">```\n",
    "\n",
    "The output is: \n",
    "\n",
    ">$x + y = 8$"
   ]
  },
  {
   "cell_type": "markdown",
   "metadata": {},
   "source": [
    "- Loading an image:\n",
    "\n",
    "```markdown\n",
    "![](image_path)\n",
    "```"
   ]
  },
  {
   "cell_type": "markdown",
   "metadata": {},
   "source": [
    "Writing chunks of code as markdown (that doesn't execute) - type:\n",
    "```markdown\n",
    "    ```python\n",
    "        print(\"hello world!\")\n",
    "    ```\n",
    "```\n"
   ]
  },
  {
   "cell_type": "markdown",
   "metadata": {},
   "source": [
    "Renders\n",
    "\n",
    "```python\n",
    "print(\"hello world!\")\n",
    "```"
   ]
  },
  {
   "cell_type": "markdown",
   "metadata": {},
   "source": [
    "Write variables from the document between `\n",
    "\n",
    "`x`"
   ]
  }
 ],
 "metadata": {
  "kernelspec": {
   "display_name": "Python 3 (ipykernel)",
   "language": "python",
   "name": "python3"
  },
  "language_info": {
   "codemirror_mode": {
    "name": "ipython",
    "version": 3
   },
   "file_extension": ".py",
   "mimetype": "text/x-python",
   "name": "python",
   "nbconvert_exporter": "python",
   "pygments_lexer": "ipython3",
   "version": "3.11.4"
  },
  "vscode": {
   "interpreter": {
    "hash": "aee8b7b246df8f9039afb4144a1f6fd8d2ca17a180786b69acc140d282b71a49"
   }
  }
 },
 "nbformat": 4,
 "nbformat_minor": 4
}
