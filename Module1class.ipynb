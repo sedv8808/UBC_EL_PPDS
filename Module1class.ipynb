{
 "cells": [
  {
   "cell_type": "markdown",
   "metadata": {},
   "source": [
    "# UBC\n",
    "## Programming in Python for DS\n",
    "\n",
    "### Week 1\n",
    "Instructor: Socorro Dominguez-Vidana"
   ]
  },
  {
   "cell_type": "markdown",
   "metadata": {},
   "source": [
    "## How does this Course Work?\n",
    "\n",
    "4 Main Components:\n",
    "- [Course Material](https://prog-learn.mds.ubc.ca/en/)\n",
    "- Jupypter Hub for assignments\n",
    "- Piazza for Questions\n",
    "- Office Hours: 2 hours a week and will be recorded. (Optional Attendance) "
   ]
  },
  {
   "cell_type": "markdown",
   "metadata": {},
   "source": [
    "### Asking Questions Etiquette:\n",
    "- If you have a question regarding the assignment, **do not** email your instructor.\n",
    "    - The idea is that the knowledge is given to all the class and not to single students.\n",
    "- Instead, go to Piazza and see if there is a discussion regarding that question already.\n",
    "- If not, ask the question on Piazza, you can ask anonymously.\n",
    "\n",
    "- e-mail your instructor **only** if it is regarding your grades or a personal matter that needs to be discussed. e-mails regarding assignment questions will not always be responded to or will not be responded to in a timely manner."
   ]
  },
  {
   "cell_type": "markdown",
   "metadata": {},
   "source": [
    "### Piazza?\n",
    "\n",
    "- Piazza is similar to a website called StackOverflow.\n",
    "\n",
    "- Its main purpose is to communicate questions among students and instructors.\n",
    "    - Collaboration in Data Science is extremely important.\n",
    "\n",
    "- Try working alone first on a problem. If you have worked on it for 15-30 minutes and you cannot figure it out, **ASK** on Piazza.\n",
    "  \n",
    "- You might want to ask a question on Piazza but not know how.\n",
    "\n",
    "    - The more details you provide, the more likely the instructors and your peers will be able to help you appropriately.\n",
    "\n",
    "    - **avoid** screenshots or uploading pictures. Instructors/peers may not always be allowed to open 'external' files and so, your question might be skipped.  \n",
    "\n",
    "    - Instead, use ``` to start a code chunk, then copy and paste the code that you are using and the error message that is coming out."
   ]
  },
  {
   "cell_type": "markdown",
   "metadata": {},
   "source": [
    "#### Example\n",
    "\n",
    "> **Title: Assignment 1 Question 3.a**  \n",
    "> Hi all, I am having troubles in Assignment 1 Question 3.a  \n",
    "> This is the code that I am trying:\n",
    ">\n",
    "> ```python\n",
    "> x + y\n",
    ">```\n",
    "> <br>\n",
    ">\n",
    "> I am receiving the error:\n",
    ">```output\n",
    ">KeyError: x is not defined\n",
    ">```\n",
    "> <br>\n",
    ">\n",
    "> I do not understand what the error means, could someone help?"
   ]
  },
  {
   "cell_type": "markdown",
   "metadata": {},
   "source": [
    "This way we can all help."
   ]
  },
  {
   "cell_type": "markdown",
   "metadata": {},
   "source": [
    "### Office Hours Expectations\n",
    "\n",
    "- Students **must** bring in questions:\n",
    "    - On Mondays we will do a Module preview.\n",
    "    - Wednesdays, Office Hours rely entirely, on the questions brought by you. \n",
    "<br> \n",
    "\n",
    "- Try to keep your mic muted but your camera on (at least when you are speaking). Stay engaged.\n",
    "\n",
    "- Although attendance is optional, it is highly encouraged that you do at least watch the recordings, there might be announcements made during Office Hours.\n",
    "\n",
    "- To ask a question in Office Hours, be ready to share your screen and walk us through where you are stalled. If you have worked through the solution partially, also give us a tour :) Do not expect to just be told how to solve the exercise - it is needed that you share your screen.\n",
    "\n",
    "- If there are no questions on the student's side, office hours can be dismissed early. Come prepared."
   ]
  },
  {
   "cell_type": "markdown",
   "metadata": {},
   "source": [
    "### Assignment Expectations\n",
    "- You will have one assignment per week. \n",
    "    - The first submission is on Sunday (the first assignment is more of a walkthrough).  \n",
    "    <br> \n",
    "\n",
    "- **Do not** change the names of the files. It might be tempting to add your name. Please do not as this may cause problems when grading you.\n",
    "\n",
    "- Avoid uploading data or unrelated course material into the server. This might also cause crashes with the server.\n",
    "\n",
    "- Try to submit on time. We will talk more about late submissions next week. But try to stay on track as much as possible. You will all receive an email next week regarding late submissions. If you submitted your first assignment on time, don't worry about receiving the email; it is just for your reference.\n",
    "\n",
    "- To submit, all assignments (except for the Final Project) need to be submitted on the server only. To achieve this, simply save your file changes - as simple as that."
   ]
  },
  {
   "cell_type": "markdown",
   "metadata": {},
   "source": [
    "### Hints on how to Navigate the Course?\n",
    "\n",
    "- Read the Goals of the Module.\n",
    "\n",
    "- Read the Assignment (so that you have an idea of what you are expected to do)\n",
    "\n",
    "- Watch the videos and solve the exercices.\n",
    "\n",
    "- Instead of waiting to solve the whole assignment on the weekend, code along and try solving a bit every day.\n",
    "\n",
    "- Try working on a problem for 15-30 minutes before asking on Piazza.\n",
    "\n",
    "- If Piazza is not enough, bring your question to Office Hours.\n",
    "    - Maybe you got the right answer but don't understand how/why it works. Bring the problem and we will discuss it."
   ]
  },
  {
   "cell_type": "markdown",
   "metadata": {},
   "source": [
    "### What is Python?"
   ]
  },
  {
   "cell_type": "markdown",
   "metadata": {},
   "source": [
    "- Python is a widely used general-purpose, high-level programming language.\n",
    "\n",
    "- Designed by Guido van Rossum in 1991 who developed by Python Software Foundation.\n",
    "\n",
    "- Developed to allow programmers express concepts in fewer lines of code.\n",
    "\n",
    "- Object-oriented programming language (can model real-world entities). \n",
    "\n",
    "- Dynamically-typed and already interpreted - we don't need to compile it.\n",
    "\n",
    "- Python 3 was released in December 2008."
   ]
  },
  {
   "cell_type": "markdown",
   "metadata": {},
   "source": [
    "#### Python's Fun Facts\n",
    "\n",
    "- Firstly introduced at the National Research Institute for Mathematics and Computer Science, Netherlands, 1991. [source](https://www.journaldev.com/34415/history-of-python-programming-language)\n",
    "\n",
    "- Named after the comedy show Monty Python's Flying Circus (it's in Netflix)\n",
    "\n",
    "- Python has become the most popular coding language in the world. \n",
    "    - This makes a career in Python a great choice. Not just for Data Science/Analytics."
   ]
  },
  {
   "cell_type": "markdown",
   "metadata": {},
   "source": [
    "### Why Python for Data Science ?\n",
    "\n",
    "- Fast programming language to pick up - from a syntax point of view.\n",
    "    - We will use python as a functional language rather than an OOP language.\n",
    "\n",
    "- Active community with a vast selection of libraries (such as pandas and Altair)  and resources.\n",
    "\n",
    "- Professionals working with Data Science applications want to focus on insights rather than on complications of language."
   ]
  },
  {
   "cell_type": "markdown",
   "metadata": {},
   "source": [
    "### What is Jupyter?\n",
    "\n",
    "- It is an IDE (integrated development environment)\n",
    "\n",
    "- We can use Python via Jupyter.\n",
    "\n",
    "- You can think of Python like a car's engine, while Jupyter is like a car's dashboard.\n",
    "    - Python is the programming language that runs computations\n",
    "    - Jupyter is the IDE that provides an interface by adding convenient features and tools.\n",
    "    \n",
    "- We can use other programs with Jupyter (R, Julia, Matlab,...)"
   ]
  },
  {
   "cell_type": "markdown",
   "metadata": {},
   "source": [
    "### Why Jupyter?\n",
    "\n",
    "- In Jupyter we can code, do plots, format text, equations, etc. in a single document.\n",
    "\n",
    "- Allows us to run Python code interactively.\n",
    "\n",
    "- Notebooks are great for exploration and for documenting a complete workflow.\n",
    "\n",
    "- Notebooks can be shared in a human readable format:\n",
    "    - Share online with nbviewer.jupyter.org\n",
    "    - Github, any notebooks you upload are automatically rendered on the site.\n",
    "    - Convert to HTML, PDF, etc."
   ]
  },
  {
   "cell_type": "markdown",
   "metadata": {
    "jp-MarkdownHeadingCollapsed": true
   },
   "source": [
    "### *Course Requirements?*\n",
    "\n",
    "For this course, you do not need to install anything.  \n",
    "\n",
    "The Jupyter server that loads when you start an assignment suffices for this course.\n",
    "\n",
    "If you want to install it in your computer, follow these instructions:\n",
    "[MDS Installation Guide](https://ubc-mds.github.io/resources_pages/installation_instructions/)"
   ]
  },
  {
   "cell_type": "markdown",
   "metadata": {},
   "source": [
    "### Characteristics of Notebooks\n",
    "\n",
    "- A notebook consists of a series of \"cells\":\n",
    "    - Code cells: execute snippets of code and display the output\n",
    "    - Markdown cells: formatted text, equations, images, and more"
   ]
  },
  {
   "cell_type": "code",
   "execution_count": 1,
   "metadata": {},
   "outputs": [
    {
     "data": {
      "text/plain": [
       "9"
      ]
     },
     "execution_count": 1,
     "metadata": {},
     "output_type": "execute_result"
    }
   ],
   "source": [
    "# Code Cell\n",
    "\n",
    "x = 3\n",
    "x + 6"
   ]
  },
  {
   "cell_type": "code",
   "execution_count": 2,
   "metadata": {},
   "outputs": [],
   "source": [
    "import pandas as pd"
   ]
  },
  {
   "cell_type": "markdown",
   "metadata": {},
   "source": [
    "```sql\n",
    "# Markdown Cell\n",
    "SELECT * from table\n",
    "```\n",
    "\n",
    "```python\n",
    "print(\"hello\")\n",
    "```\n",
    "\n",
    "$\\sum x + y = 10$"
   ]
  },
  {
   "cell_type": "markdown",
   "metadata": {},
   "source": [
    "Note: By default, a new cell is always a code cell."
   ]
  },
  {
   "cell_type": "code",
   "execution_count": null,
   "metadata": {},
   "outputs": [],
   "source": []
  },
  {
   "cell_type": "code",
   "execution_count": null,
   "metadata": {},
   "outputs": [],
   "source": []
  },
  {
   "cell_type": "markdown",
   "metadata": {},
   "source": [
    "### Python Data Science Ecosystem\n",
    "\n",
    "- Python has many uses: \n",
    "    - Web development\n",
    "    - Automation or scripting\n",
    "    - Software testing and prototyping\n",
    "    - Everyday tasks\n",
    "    - Data Analysis & Data Science\n",
    "    \n",
    "- Python has built-in functions. But that is not enough for us (we don't want to reinvent all functions).\n",
    "\n",
    "- The Python libraries for data science are developed and maintained by external \"3rd party\" development teams\n",
    "\n",
    "- Python core + 3rd party libraries = **ecosystem**\n",
    "    - To install and manage 3rd party libraries, you need to use a package manager such as conda (which comes with Anaconda/Miniconda) - More on this in the DS Toolbox\n",
    "    "
   ]
  },
  {
   "cell_type": "markdown",
   "metadata": {},
   "source": [
    "During the program, we will be working with Pandas, numPy, and Altair -  \n",
    "**You do not need to install anything.** You will all be working from the server."
   ]
  },
  {
   "cell_type": "markdown",
   "metadata": {},
   "source": [
    "## Tricks with Notebooks"
   ]
  },
  {
   "cell_type": "code",
   "execution_count": 5,
   "metadata": {},
   "outputs": [
    {
     "data": {
      "text/plain": [
       "8"
      ]
     },
     "execution_count": 5,
     "metadata": {},
     "output_type": "execute_result"
    }
   ],
   "source": [
    "# This is a code cell\n",
    "\n",
    "x = 5\n",
    "3+x # Shows output"
   ]
  },
  {
   "cell_type": "code",
   "execution_count": 6,
   "metadata": {},
   "outputs": [],
   "source": [
    "y = 3"
   ]
  },
  {
   "cell_type": "markdown",
   "metadata": {},
   "source": [
    "### Writing a formula \n",
    "- Render with latex using `$`\n",
    "\n",
    "Write \n",
    ">\n",
    ">```markdown\n",
    "$x + y = 8$\n",
    ">```\n",
    "\n",
    "The output is: \n",
    "\n",
    ">$x + y = 8$"
   ]
  },
  {
   "cell_type": "markdown",
   "metadata": {},
   "source": [
    "- Loading an image:\n",
    "\n",
    "```markdown\n",
    "![](image_path)\n",
    "```"
   ]
  },
  {
   "cell_type": "markdown",
   "metadata": {},
   "source": [
    "Writing chunks of code as markdown (that doesn't execute) - type:\n",
    "```markdown\n",
    "    ```python\n",
    "        print(\"hello world!\")\n",
    "    ```\n",
    "```\n"
   ]
  },
  {
   "cell_type": "markdown",
   "metadata": {},
   "source": [
    "Renders\n",
    "\n",
    "```python\n",
    "print(\"hello world!\")\n",
    "```"
   ]
  },
  {
   "cell_type": "markdown",
   "metadata": {},
   "source": [
    "Write variables from the document between `\n",
    "\n",
    "`x`"
   ]
  },
  {
   "cell_type": "code",
   "execution_count": 7,
   "metadata": {},
   "outputs": [
    {
     "data": {
      "text/plain": [
       "6"
      ]
     },
     "execution_count": 7,
     "metadata": {},
     "output_type": "execute_result"
    }
   ],
   "source": [
    "z + y"
   ]
  },
  {
   "cell_type": "code",
   "execution_count": 8,
   "metadata": {},
   "outputs": [],
   "source": [
    "z = 5"
   ]
  },
  {
   "cell_type": "markdown",
   "metadata": {},
   "source": [
    "## How can I follow on some of the code of the videos?\n",
    "\n",
    "The cells are not working, or I want to follow what is happening in the videos, how can I do that?"
   ]
  },
  {
   "cell_type": "markdown",
   "metadata": {},
   "source": [
    "Go to [https://prog-learn.mds.ubc.ca/en/](https://prog-learn.mds.ubc.ca/en/) and scroll to the bottom of the page until you see Source; click on [Source](https://github.com/UBC-MDS/programming-in-python-for-data-science)\n",
    "\n",
    "There is a folder called **data**; you can access all the datasets for the course. \n",
    "\n",
    "Open any of the datasets and then click on **raw**; you can use pd.read_csv(**insert_url**) to work ; for example:"
   ]
  },
  {
   "cell_type": "code",
   "execution_count": 9,
   "metadata": {},
   "outputs": [
    {
     "data": {
      "text/html": [
       "<div>\n",
       "<style scoped>\n",
       "    .dataframe tbody tr th:only-of-type {\n",
       "        vertical-align: middle;\n",
       "    }\n",
       "\n",
       "    .dataframe tbody tr th {\n",
       "        vertical-align: top;\n",
       "    }\n",
       "\n",
       "    .dataframe thead th {\n",
       "        text-align: right;\n",
       "    }\n",
       "</style>\n",
       "<table border=\"1\" class=\"dataframe\">\n",
       "  <thead>\n",
       "    <tr style=\"text-align: right;\">\n",
       "      <th></th>\n",
       "      <th>Player</th>\n",
       "      <th>No.</th>\n",
       "      <th>Age</th>\n",
       "      <th>Height</th>\n",
       "      <th>Weight</th>\n",
       "      <th>Country</th>\n",
       "      <th>Position</th>\n",
       "      <th>Experience</th>\n",
       "      <th>Birth Date</th>\n",
       "      <th>Salary</th>\n",
       "    </tr>\n",
       "  </thead>\n",
       "  <tbody>\n",
       "    <tr>\n",
       "      <th>0</th>\n",
       "      <td>Justin Bailey</td>\n",
       "      <td>38</td>\n",
       "      <td>24</td>\n",
       "      <td>193</td>\n",
       "      <td>214</td>\n",
       "      <td>United States</td>\n",
       "      <td>Forward</td>\n",
       "      <td>4</td>\n",
       "      <td>01-Jul-95</td>\n",
       "      <td>700000.0</td>\n",
       "    </tr>\n",
       "    <tr>\n",
       "      <th>1</th>\n",
       "      <td>Jay Beagle</td>\n",
       "      <td>83</td>\n",
       "      <td>34</td>\n",
       "      <td>191</td>\n",
       "      <td>210</td>\n",
       "      <td>Canada</td>\n",
       "      <td>Forward</td>\n",
       "      <td>11</td>\n",
       "      <td>16-Oct-85</td>\n",
       "      <td>3200000.0</td>\n",
       "    </tr>\n",
       "    <tr>\n",
       "      <th>2</th>\n",
       "      <td>Jordie Benn</td>\n",
       "      <td>4</td>\n",
       "      <td>32</td>\n",
       "      <td>188</td>\n",
       "      <td>199</td>\n",
       "      <td>Canada</td>\n",
       "      <td>Defense</td>\n",
       "      <td>8</td>\n",
       "      <td>26-Jul-87</td>\n",
       "      <td>2400000.0</td>\n",
       "    </tr>\n",
       "    <tr>\n",
       "      <th>3</th>\n",
       "      <td>Guillaume Brisebois</td>\n",
       "      <td>56</td>\n",
       "      <td>22</td>\n",
       "      <td>188</td>\n",
       "      <td>175</td>\n",
       "      <td>Canada</td>\n",
       "      <td>Defense</td>\n",
       "      <td>1</td>\n",
       "      <td>21-Jul-97</td>\n",
       "      <td>700000.0</td>\n",
       "    </tr>\n",
       "    <tr>\n",
       "      <th>4</th>\n",
       "      <td>Thatcher Demko</td>\n",
       "      <td>35</td>\n",
       "      <td>24</td>\n",
       "      <td>193</td>\n",
       "      <td>192</td>\n",
       "      <td>United States</td>\n",
       "      <td>Goalie</td>\n",
       "      <td>2</td>\n",
       "      <td>08-Dec-95</td>\n",
       "      <td>900000.0</td>\n",
       "    </tr>\n",
       "    <tr>\n",
       "      <th>5</th>\n",
       "      <td>Alexander Edler</td>\n",
       "      <td>23</td>\n",
       "      <td>33</td>\n",
       "      <td>191</td>\n",
       "      <td>212</td>\n",
       "      <td>Swedan</td>\n",
       "      <td>Defense</td>\n",
       "      <td>13</td>\n",
       "      <td>21-Apr-86</td>\n",
       "      <td>7000000.0</td>\n",
       "    </tr>\n",
       "    <tr>\n",
       "      <th>6</th>\n",
       "      <td>Loui Eriksson</td>\n",
       "      <td>21</td>\n",
       "      <td>34</td>\n",
       "      <td>188</td>\n",
       "      <td>179</td>\n",
       "      <td>Swedan</td>\n",
       "      <td>Forward</td>\n",
       "      <td>13</td>\n",
       "      <td>17-Jul-85</td>\n",
       "      <td>5000000.0</td>\n",
       "    </tr>\n",
       "    <tr>\n",
       "      <th>7</th>\n",
       "      <td>Adam Gaudette</td>\n",
       "      <td>88</td>\n",
       "      <td>23</td>\n",
       "      <td>185</td>\n",
       "      <td>184</td>\n",
       "      <td>United States</td>\n",
       "      <td>Forward</td>\n",
       "      <td>2</td>\n",
       "      <td>03-Oct-96</td>\n",
       "      <td>925000.0</td>\n",
       "    </tr>\n",
       "    <tr>\n",
       "      <th>8</th>\n",
       "      <td>Bo Horvat (C)</td>\n",
       "      <td>53</td>\n",
       "      <td>24</td>\n",
       "      <td>183</td>\n",
       "      <td>215</td>\n",
       "      <td>Canada</td>\n",
       "      <td>Forward</td>\n",
       "      <td>5</td>\n",
       "      <td>05-Apr-95</td>\n",
       "      <td>5775000.0</td>\n",
       "    </tr>\n",
       "    <tr>\n",
       "      <th>9</th>\n",
       "      <td>Quinn Hughes</td>\n",
       "      <td>43</td>\n",
       "      <td>20</td>\n",
       "      <td>178</td>\n",
       "      <td>175</td>\n",
       "      <td>United States</td>\n",
       "      <td>Defense</td>\n",
       "      <td>1</td>\n",
       "      <td>14-Oct-99</td>\n",
       "      <td>NaN</td>\n",
       "    </tr>\n",
       "    <tr>\n",
       "      <th>10</th>\n",
       "      <td>Zack MacEwen</td>\n",
       "      <td>71</td>\n",
       "      <td>23</td>\n",
       "      <td>191</td>\n",
       "      <td>205</td>\n",
       "      <td>Canada</td>\n",
       "      <td>Forward</td>\n",
       "      <td>1</td>\n",
       "      <td>08-Jul-96</td>\n",
       "      <td>925000.0</td>\n",
       "    </tr>\n",
       "    <tr>\n",
       "      <th>11</th>\n",
       "      <td>Jacob Markstrom</td>\n",
       "      <td>25</td>\n",
       "      <td>30</td>\n",
       "      <td>198</td>\n",
       "      <td>206</td>\n",
       "      <td>Swedan</td>\n",
       "      <td>Goalie</td>\n",
       "      <td>9</td>\n",
       "      <td>31-Jan-90</td>\n",
       "      <td>4000000.0</td>\n",
       "    </tr>\n",
       "    <tr>\n",
       "      <th>12</th>\n",
       "      <td>J.T. Miller</td>\n",
       "      <td>9</td>\n",
       "      <td>26</td>\n",
       "      <td>185</td>\n",
       "      <td>218</td>\n",
       "      <td>United States</td>\n",
       "      <td>Forward</td>\n",
       "      <td>7</td>\n",
       "      <td>14-Mar-93</td>\n",
       "      <td>6000000.0</td>\n",
       "    </tr>\n",
       "    <tr>\n",
       "      <th>13</th>\n",
       "      <td>Tyler Myers</td>\n",
       "      <td>57</td>\n",
       "      <td>29</td>\n",
       "      <td>203</td>\n",
       "      <td>229</td>\n",
       "      <td>United States</td>\n",
       "      <td>Defense</td>\n",
       "      <td>10</td>\n",
       "      <td>01-Feb-90</td>\n",
       "      <td>7000000.0</td>\n",
       "    </tr>\n",
       "    <tr>\n",
       "      <th>14</th>\n",
       "      <td>Tanner Pearson</td>\n",
       "      <td>70</td>\n",
       "      <td>27</td>\n",
       "      <td>185</td>\n",
       "      <td>201</td>\n",
       "      <td>Canada</td>\n",
       "      <td>Forward</td>\n",
       "      <td>6</td>\n",
       "      <td>10-Aug-92</td>\n",
       "      <td>3850000.0</td>\n",
       "    </tr>\n",
       "    <tr>\n",
       "      <th>15</th>\n",
       "      <td>Elias Pettersson</td>\n",
       "      <td>40</td>\n",
       "      <td>21</td>\n",
       "      <td>188</td>\n",
       "      <td>176</td>\n",
       "      <td>Swedan</td>\n",
       "      <td>Forward</td>\n",
       "      <td>1</td>\n",
       "      <td>12-Nov-98</td>\n",
       "      <td>925000.0</td>\n",
       "    </tr>\n",
       "    <tr>\n",
       "      <th>16</th>\n",
       "      <td>Antoine Roussel</td>\n",
       "      <td>26</td>\n",
       "      <td>30</td>\n",
       "      <td>180</td>\n",
       "      <td>199</td>\n",
       "      <td>France</td>\n",
       "      <td>Forward</td>\n",
       "      <td>7</td>\n",
       "      <td>21-Nov-89</td>\n",
       "      <td>3800000.0</td>\n",
       "    </tr>\n",
       "    <tr>\n",
       "      <th>17</th>\n",
       "      <td>Tim Schaller</td>\n",
       "      <td>59</td>\n",
       "      <td>29</td>\n",
       "      <td>188</td>\n",
       "      <td>204</td>\n",
       "      <td>United States</td>\n",
       "      <td>Forward</td>\n",
       "      <td>5</td>\n",
       "      <td>16-Nov-90</td>\n",
       "      <td>1900000.0</td>\n",
       "    </tr>\n",
       "    <tr>\n",
       "      <th>18</th>\n",
       "      <td>Troy Stecher</td>\n",
       "      <td>51</td>\n",
       "      <td>25</td>\n",
       "      <td>178</td>\n",
       "      <td>186</td>\n",
       "      <td>Canada</td>\n",
       "      <td>Defense</td>\n",
       "      <td>3</td>\n",
       "      <td>07-Apr-94</td>\n",
       "      <td>2325000.0</td>\n",
       "    </tr>\n",
       "    <tr>\n",
       "      <th>19</th>\n",
       "      <td>Brandon Sutter</td>\n",
       "      <td>20</td>\n",
       "      <td>30</td>\n",
       "      <td>191</td>\n",
       "      <td>190</td>\n",
       "      <td>United States</td>\n",
       "      <td>Forward</td>\n",
       "      <td>11</td>\n",
       "      <td>14-Feb-89</td>\n",
       "      <td>4500000.0</td>\n",
       "    </tr>\n",
       "    <tr>\n",
       "      <th>20</th>\n",
       "      <td>Christopher Tanev</td>\n",
       "      <td>8</td>\n",
       "      <td>30</td>\n",
       "      <td>188</td>\n",
       "      <td>197</td>\n",
       "      <td>Canada</td>\n",
       "      <td>Defense</td>\n",
       "      <td>9</td>\n",
       "      <td>20-Dec-89</td>\n",
       "      <td>NaN</td>\n",
       "    </tr>\n",
       "    <tr>\n",
       "      <th>21</th>\n",
       "      <td>Jake Virtanen</td>\n",
       "      <td>18</td>\n",
       "      <td>23</td>\n",
       "      <td>185</td>\n",
       "      <td>226</td>\n",
       "      <td>Canada</td>\n",
       "      <td>Forward</td>\n",
       "      <td>4</td>\n",
       "      <td>17-Aug-96</td>\n",
       "      <td>1500000.0</td>\n",
       "    </tr>\n",
       "  </tbody>\n",
       "</table>\n",
       "</div>"
      ],
      "text/plain": [
       "                 Player  No.  Age  Height  Weight        Country Position   \n",
       "0         Justin Bailey   38   24     193     214  United States  Forward  \\\n",
       "1            Jay Beagle   83   34     191     210         Canada  Forward   \n",
       "2           Jordie Benn    4   32     188     199         Canada  Defense   \n",
       "3   Guillaume Brisebois   56   22     188     175         Canada  Defense   \n",
       "4        Thatcher Demko   35   24     193     192  United States   Goalie   \n",
       "5       Alexander Edler   23   33     191     212         Swedan  Defense   \n",
       "6         Loui Eriksson   21   34     188     179         Swedan  Forward   \n",
       "7         Adam Gaudette   88   23     185     184  United States  Forward   \n",
       "8         Bo Horvat (C)   53   24     183     215         Canada  Forward   \n",
       "9          Quinn Hughes   43   20     178     175  United States  Defense   \n",
       "10         Zack MacEwen   71   23     191     205         Canada  Forward   \n",
       "11      Jacob Markstrom   25   30     198     206         Swedan   Goalie   \n",
       "12          J.T. Miller    9   26     185     218  United States  Forward   \n",
       "13          Tyler Myers   57   29     203     229  United States  Defense   \n",
       "14       Tanner Pearson   70   27     185     201         Canada  Forward   \n",
       "15     Elias Pettersson   40   21     188     176         Swedan  Forward   \n",
       "16      Antoine Roussel   26   30     180     199         France  Forward   \n",
       "17         Tim Schaller   59   29     188     204  United States  Forward   \n",
       "18         Troy Stecher   51   25     178     186         Canada  Defense   \n",
       "19       Brandon Sutter   20   30     191     190  United States  Forward   \n",
       "20    Christopher Tanev    8   30     188     197         Canada  Defense   \n",
       "21        Jake Virtanen   18   23     185     226         Canada  Forward   \n",
       "\n",
       "    Experience Birth Date     Salary  \n",
       "0            4  01-Jul-95   700000.0  \n",
       "1           11  16-Oct-85  3200000.0  \n",
       "2            8  26-Jul-87  2400000.0  \n",
       "3            1  21-Jul-97   700000.0  \n",
       "4            2  08-Dec-95   900000.0  \n",
       "5           13  21-Apr-86  7000000.0  \n",
       "6           13  17-Jul-85  5000000.0  \n",
       "7            2  03-Oct-96   925000.0  \n",
       "8            5  05-Apr-95  5775000.0  \n",
       "9            1  14-Oct-99        NaN  \n",
       "10           1  08-Jul-96   925000.0  \n",
       "11           9  31-Jan-90  4000000.0  \n",
       "12           7  14-Mar-93  6000000.0  \n",
       "13          10  01-Feb-90  7000000.0  \n",
       "14           6  10-Aug-92  3850000.0  \n",
       "15           1  12-Nov-98   925000.0  \n",
       "16           7  21-Nov-89  3800000.0  \n",
       "17           5  16-Nov-90  1900000.0  \n",
       "18           3  07-Apr-94  2325000.0  \n",
       "19          11  14-Feb-89  4500000.0  \n",
       "20           9  20-Dec-89        NaN  \n",
       "21           4  17-Aug-96  1500000.0  "
      ]
     },
     "execution_count": 9,
     "metadata": {},
     "output_type": "execute_result"
    }
   ],
   "source": [
    "import pandas as pd\n",
    "\n",
    "pd.read_csv('https://raw.githubusercontent.com/UBC-MDS/programming-in-python-for-data-science/master/data/canucks.csv')\n"
   ]
  },
  {
   "cell_type": "code",
   "execution_count": null,
   "metadata": {},
   "outputs": [],
   "source": []
  }
 ],
 "metadata": {
  "kernelspec": {
   "display_name": "Python 3 (ipykernel)",
   "language": "python",
   "name": "python3"
  },
  "language_info": {
   "codemirror_mode": {
    "name": "ipython",
    "version": 3
   },
   "file_extension": ".py",
   "mimetype": "text/x-python",
   "name": "python",
   "nbconvert_exporter": "python",
   "pygments_lexer": "ipython3",
   "version": "3.11.4"
  },
  "vscode": {
   "interpreter": {
    "hash": "aee8b7b246df8f9039afb4144a1f6fd8d2ca17a180786b69acc140d282b71a49"
   }
  }
 },
 "nbformat": 4,
 "nbformat_minor": 4
}
