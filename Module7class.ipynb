{
 "cells": [
  {
   "cell_type": "markdown",
   "metadata": {
    "slideshow": {
     "slide_type": "slide"
    }
   },
   "source": [
    "# UBC\n",
    "## Programming in Python for DS\n",
    "\n",
    "### Week 7\n",
    "Instructor: Socorro Dominguez-Vidana"
   ]
  },
  {
   "cell_type": "markdown",
   "metadata": {},
   "source": [
    "- [] Describe what Python libraries are, as well as explain when and why they are useful.\n",
    "- [] Identify where code can be improved concerning variable names, magic numbers, comments and whitespace.\n",
    "- [] Write code that is human readable and follows the black style guide.\n",
    "- [] Import files from other directories.\n",
    "- [] Use pytest to check a function's tests.\n",
    "- [] When running pytest, explain how pytest finds the associated test functions.\n",
    "- [] Explain how the Python debugger can help rectify your code."
   ]
  },
  {
   "cell_type": "markdown",
   "metadata": {},
   "source": [
    "### Python libraries \n",
    "- Collections of pre-written code or modules that provide various functionalities to perform specific tasks.\n",
    "- These libraries contain reusable classes (for example `DataFrame`), functions (e.g. `groupby()`, `sortby()`) and constants that can be imported and utilized in your Python programs.\n",
    "- Libraries save time and effort by offering ready-made solutions to common problems. "
   ]
  },
  {
   "cell_type": "markdown",
   "metadata": {},
   "source": [
    "#### Importing a python library\n",
    "\n",
    "Installing a library\n",
    "```\n",
    "conda install pandas\n",
    "```\n",
    "\n",
    "```\n",
    "pip install pandas\n",
    "```\n",
    "\n",
    "\n",
    "```python\n",
    "import pandas as pd\n",
    "```\n",
    "- `import` is a key word\n",
    "- `pandas` is the library we have used all this time\n",
    "- `as` we are stating an alias\n",
    "- `pd` so that we can write `pd.read_csv` instead of `pandas.read_csv`"
   ]
  },
  {
   "cell_type": "code",
   "execution_count": null,
   "metadata": {},
   "outputs": [],
   "source": [
    "import pandas as pd\n",
    "pd.read_csv()"
   ]
  },
  {
   "cell_type": "markdown",
   "metadata": {},
   "source": [
    "```python\n",
    "import pandas as pd\n",
    "```\n",
    "\n",
    "```python\n",
    "pd.read_csv('data/file.csv')"
   ]
  },
  {
   "cell_type": "markdown",
   "metadata": {},
   "source": [
    "```python\n",
    "from pandas import read_csv\n",
    "```"
   ]
  },
  {
   "cell_type": "code",
   "execution_count": 1,
   "metadata": {},
   "outputs": [
    {
     "data": {
      "text/plain": [
       "{'__name__': '__main__',\n",
       " '__doc__': 'Automatically created module for IPython interactive environment',\n",
       " '__package__': None,\n",
       " '__loader__': None,\n",
       " '__spec__': None,\n",
       " '__builtin__': <module 'builtins' (built-in)>,\n",
       " '__builtins__': <module 'builtins' (built-in)>,\n",
       " '_ih': ['', 'from pandas import read_csv\\nglobals()'],\n",
       " '_oh': {},\n",
       " '_dh': [PosixPath('/Users/sedv8808/HT-Data/Instructor/UBC/Instructor/UBC_EL_PPDS')],\n",
       " 'In': ['', 'from pandas import read_csv\\nglobals()'],\n",
       " 'Out': {},\n",
       " 'get_ipython': <bound method InteractiveShell.get_ipython of <ipykernel.zmqshell.ZMQInteractiveShell object at 0x10526e9d0>>,\n",
       " 'exit': <IPython.core.autocall.ZMQExitAutocall at 0x10527f110>,\n",
       " 'quit': <IPython.core.autocall.ZMQExitAutocall at 0x10527f110>,\n",
       " 'open': <function io.open(file, mode='r', buffering=-1, encoding=None, errors=None, newline=None, closefd=True, opener=None)>,\n",
       " '_': '',\n",
       " '__': '',\n",
       " '___': '',\n",
       " '__session__': '/Users/sedv8808/HT-Data/Instructor/UBC/Instructor/UBC_EL_PPDS/Module7class.ipynb',\n",
       " '_i': '',\n",
       " '_ii': '',\n",
       " '_iii': '',\n",
       " '_i1': 'from pandas import read_csv\\nglobals()',\n",
       " 'read_csv': <function pandas.io.parsers.readers.read_csv(filepath_or_buffer: 'FilePath | ReadCsvBuffer[bytes] | ReadCsvBuffer[str]', *, sep: 'str | None | lib.NoDefault' = <no_default>, delimiter: 'str | None | lib.NoDefault' = None, header: \"int | Sequence[int] | None | Literal['infer']\" = 'infer', names: 'Sequence[Hashable] | None | lib.NoDefault' = <no_default>, index_col: 'IndexLabel | Literal[False] | None' = None, usecols=None, dtype: 'DtypeArg | None' = None, engine: 'CSVEngine | None' = None, converters=None, true_values=None, false_values=None, skipinitialspace: 'bool' = False, skiprows=None, skipfooter: 'int' = 0, nrows: 'int | None' = None, na_values=None, keep_default_na: 'bool' = True, na_filter: 'bool' = True, verbose: 'bool' = False, skip_blank_lines: 'bool' = True, parse_dates: 'bool | Sequence[Hashable] | None' = None, infer_datetime_format: 'bool | lib.NoDefault' = <no_default>, keep_date_col: 'bool' = False, date_parser=<no_default>, date_format: 'str | None' = None, dayfirst: 'bool' = False, cache_dates: 'bool' = True, iterator: 'bool' = False, chunksize: 'int | None' = None, compression: 'CompressionOptions' = 'infer', thousands: 'str | None' = None, decimal: 'str' = '.', lineterminator: 'str | None' = None, quotechar: 'str' = '\"', quoting: 'int' = 0, doublequote: 'bool' = True, escapechar: 'str | None' = None, comment: 'str | None' = None, encoding: 'str | None' = None, encoding_errors: 'str | None' = 'strict', dialect: 'str | csv.Dialect | None' = None, on_bad_lines: 'str' = 'error', delim_whitespace: 'bool' = False, low_memory=True, memory_map: 'bool' = False, float_precision: \"Literal['high', 'legacy'] | None\" = None, storage_options: 'StorageOptions' = None, dtype_backend: 'DtypeBackend | lib.NoDefault' = <no_default>) -> 'DataFrame | TextFileReader'>}"
      ]
     },
     "execution_count": 1,
     "metadata": {},
     "output_type": "execute_result"
    }
   ],
   "source": [
    "from pandas import read_csv\n",
    "globals()"
   ]
  },
  {
   "cell_type": "markdown",
   "metadata": {},
   "source": [
    "### Code Improvements\n",
    "\n",
    "- Code you write will be used in the future. Make sure to aim for best practices:\n",
    "    - **Variable Names:** Use descriptive and meaningful names that indicate the purpose of the variable. Avoid single-letter names or ambiguous terms.\n",
    "    - **Magic Numbers:** Replace hardcoded numbers with named constants or variables to enhance readability and maintainability.\n",
    "    - **Comments:** Add comments to clarify complex code sections, explain the intent behind the logic, or provide context where the code might be unclear.\n",
    "    - **Whitespace:** Ensure consistent indentation, use whitespace to enhance code readability, and follow the [PEP 8](https://peps.python.org/pep-0008/) style guide."
   ]
  },
  {
   "cell_type": "markdown",
   "metadata": {},
   "source": [
    "```python\n",
    "def func(x,y):\n",
    "    '''Docstrings'''\n",
    "    z = 3 + y\n",
    "    # Filtering by y variable\n",
    "    return z\n",
    "```"
   ]
  },
  {
   "cell_type": "markdown",
   "metadata": {},
   "source": [
    "- You cannot always do it perfectly. But to help you we have `flake8` and `black`\n",
    "\n",
    " ```python\n",
    "flake8 <file>.py\n",
    "black <file>.py\n",
    "```\n",
    "\n",
    "- `flake8` will help you find style errors\n",
    "- `black` will correct style errors\n",
    "\n",
    "Let's see how to use them in the terminal and in here:"
   ]
  },
  {
   "cell_type": "code",
   "execution_count": 2,
   "metadata": {},
   "outputs": [
    {
     "name": "stdout",
     "output_type": "stream",
     "text": [
      "\u001b[1msampling.py\u001b[m\u001b[36m:\u001b[m4\u001b[36m:\u001b[m43\u001b[36m:\u001b[m \u001b[1m\u001b[31mE251\u001b[m unexpected spaces around keyword / parameter equals\n",
      "\u001b[1msampling.py\u001b[m\u001b[36m:\u001b[m4\u001b[36m:\u001b[m45\u001b[36m:\u001b[m \u001b[1m\u001b[31mE251\u001b[m unexpected spaces around keyword / parameter equals\n",
      "\u001b[1msampling.py\u001b[m\u001b[36m:\u001b[m8\u001b[36m:\u001b[m1\u001b[36m:\u001b[m \u001b[1m\u001b[31mW293\u001b[m blank line contains whitespace\n",
      "\u001b[1msampling.py\u001b[m\u001b[36m:\u001b[m18\u001b[36m:\u001b[m1\u001b[36m:\u001b[m \u001b[1m\u001b[31mW293\u001b[m blank line contains whitespace\n",
      "\u001b[1msampling.py\u001b[m\u001b[36m:\u001b[m23\u001b[36m:\u001b[m1\u001b[36m:\u001b[m \u001b[1m\u001b[31mW293\u001b[m blank line contains whitespace\n",
      "\u001b[1msampling.py\u001b[m\u001b[36m:\u001b[m31\u001b[36m:\u001b[m1\u001b[36m:\u001b[m \u001b[1m\u001b[31mW293\u001b[m blank line contains whitespace\n",
      "\u001b[1msampling.py\u001b[m\u001b[36m:\u001b[m33\u001b[36m:\u001b[m1\u001b[36m:\u001b[m \u001b[1m\u001b[31mW293\u001b[m blank line contains whitespace\n",
      "\u001b[1msampling.py\u001b[m\u001b[36m:\u001b[m35\u001b[36m:\u001b[m1\u001b[36m:\u001b[m \u001b[1m\u001b[31mW293\u001b[m blank line contains whitespace\n",
      "\u001b[1msampling.py\u001b[m\u001b[36m:\u001b[m36\u001b[36m:\u001b[m35\u001b[36m:\u001b[m \u001b[1m\u001b[31mW291\u001b[m trailing whitespace\n",
      "\u001b[1msampling.py\u001b[m\u001b[36m:\u001b[m37\u001b[36m:\u001b[m25\u001b[36m:\u001b[m \u001b[1m\u001b[31mE222\u001b[m multiple spaces after operator\n",
      "\u001b[1msampling.py\u001b[m\u001b[36m:\u001b[m39\u001b[36m:\u001b[m1\u001b[36m:\u001b[m \u001b[1m\u001b[31mW293\u001b[m blank line contains whitespace\n"
     ]
    }
   ],
   "source": [
    "!flake8 sampling.py"
   ]
  },
  {
   "cell_type": "code",
   "execution_count": null,
   "metadata": {},
   "outputs": [],
   "source": [
    "# We will run this later.\n",
    "#!black sampling.py"
   ]
  },
  {
   "cell_type": "markdown",
   "metadata": {
    "slideshow": {
     "slide_type": "slide"
    }
   },
   "source": [
    "### Import functions from other files"
   ]
  },
  {
   "cell_type": "markdown",
   "metadata": {},
   "source": [
    "So far, we have defined functions in the notebook and used them there: "
   ]
  },
  {
   "cell_type": "markdown",
   "metadata": {
    "slideshow": {
     "slide_type": "fragment"
    }
   },
   "source": [
    "```python\n",
    "def sample_dataframe(data, grouping_col, N = 1):\n",
    "    df_grouped = data.groupby(grouping_col)\n",
    "    \n",
    "    sampled_df = None\n",
    "    \n",
    "    for group, rows in df_grouped: \n",
    "        group_sampling =  df_grouped.get_group(group).sample(N)\n",
    "        sampled_df = pd.concat([sampled_df, group_sampling])\n",
    "    \n",
    "    return sampled_df\n",
    "sample_dataframe(data, 'column', N=3)\n",
    "```"
   ]
  },
  {
   "cell_type": "markdown",
   "metadata": {},
   "source": [
    "But that breaks the flow of the notebook.\n",
    "\n",
    "What if we could write the function elsewhere but use it in our notebook to not break the flow?"
   ]
  },
  {
   "cell_type": "markdown",
   "metadata": {},
   "source": [
    "#### How to call your own functions\n",
    "\n",
    "- You have been importing whole sets of functions when you do:\n",
    "```python\n",
    "import pandas as pd\n",
    "```\n",
    "\n",
    "- But if you only wanted to import **one** function from pandas, for example, `pd.read_csv` you could do:\n",
    "\n",
    "```python\n",
    "from pandas import read_csv\n",
    "```"
   ]
  },
  {
   "cell_type": "markdown",
   "metadata": {},
   "source": [
    "# What about personal functions / scripts\n",
    "\n",
    "- I have created the `sampling.py` in my local computer. \n",
    "- There is a function called `sample_dataframe`\n",
    "\n",
    "Explore doing\n",
    "\n",
    "1) \n",
    "```python\n",
    "import sampling\n",
    "sampling.sample_dataframe(data, 'neighbourhood')\n",
    "```\n",
    "- `import` - keyword to bring from a different file\n",
    "\n",
    "2) \n",
    "```python\n",
    "from sampling import sample_dataframe\n",
    "sample_dataframe(data, 'neighbourhood')\n",
    "```\n",
    "- `from` - keyword to say that from a particular script, we are only handpicking what we want to use\n",
    "\n",
    "3) \n",
    "```python\n",
    "import sampling as sp\n",
    "sp.sample_dataframe(data, 'neighbourhood')\n",
    "sp.sample_dataframe2(data, 'neighbourhood')\n",
    "```\n",
    "- `as` - keyword for creating an alias\n",
    "\n",
    "##### Example"
   ]
  },
  {
   "cell_type": "code",
   "execution_count": 3,
   "metadata": {},
   "outputs": [
    {
     "data": {
      "text/html": [
       "<div>\n",
       "<style scoped>\n",
       "    .dataframe tbody tr th:only-of-type {\n",
       "        vertical-align: middle;\n",
       "    }\n",
       "\n",
       "    .dataframe tbody tr th {\n",
       "        vertical-align: top;\n",
       "    }\n",
       "\n",
       "    .dataframe thead th {\n",
       "        text-align: right;\n",
       "    }\n",
       "</style>\n",
       "<table border=\"1\" class=\"dataframe\">\n",
       "  <thead>\n",
       "    <tr style=\"text-align: right;\">\n",
       "      <th></th>\n",
       "      <th>employee_id</th>\n",
       "      <th>name</th>\n",
       "      <th>neighbourhood</th>\n",
       "      <th>type</th>\n",
       "      <th>hourly_rate</th>\n",
       "    </tr>\n",
       "  </thead>\n",
       "  <tbody>\n",
       "    <tr>\n",
       "      <th>0</th>\n",
       "      <td>1873</td>\n",
       "      <td>Josh</td>\n",
       "      <td>Sunset</td>\n",
       "      <td>full-time</td>\n",
       "      <td>25.0</td>\n",
       "    </tr>\n",
       "    <tr>\n",
       "      <th>1</th>\n",
       "      <td>4913</td>\n",
       "      <td>Laura</td>\n",
       "      <td>West end</td>\n",
       "      <td>part-time</td>\n",
       "      <td>27.0</td>\n",
       "    </tr>\n",
       "    <tr>\n",
       "      <th>2</th>\n",
       "      <td>4801</td>\n",
       "      <td>Hayley</td>\n",
       "      <td>Kitsilano</td>\n",
       "      <td>part-time</td>\n",
       "      <td>30.0</td>\n",
       "    </tr>\n",
       "    <tr>\n",
       "      <th>3</th>\n",
       "      <td>4540</td>\n",
       "      <td>Mike</td>\n",
       "      <td>Sunset</td>\n",
       "      <td>full-time</td>\n",
       "      <td>25.5</td>\n",
       "    </tr>\n",
       "    <tr>\n",
       "      <th>4</th>\n",
       "      <td>3581</td>\n",
       "      <td>Tiffany</td>\n",
       "      <td>Arbutus-ridge</td>\n",
       "      <td>part-time</td>\n",
       "      <td>32.0</td>\n",
       "    </tr>\n",
       "  </tbody>\n",
       "</table>\n",
       "</div>"
      ],
      "text/plain": [
       "   employee_id     name  neighbourhood       type  hourly_rate\n",
       "0         1873     Josh         Sunset  full-time         25.0\n",
       "1         4913    Laura       West end  part-time         27.0\n",
       "2         4801   Hayley      Kitsilano  part-time         30.0\n",
       "3         4540     Mike         Sunset  full-time         25.5\n",
       "4         3581  Tiffany  Arbutus-ridge  part-time         32.0"
      ]
     },
     "execution_count": 3,
     "metadata": {},
     "output_type": "execute_result"
    }
   ],
   "source": [
    "# Toy Dataset \n",
    "import pandas as pd\n",
    "a_dict = {'employee_id': [1873, 4913, 4801, 4540, 3581,\n",
    "                   4534, 1934, 4944, 1983, 1266], \n",
    "           'name': ['Josh', 'Laura', 'Hayley', \n",
    "                    'Mike', 'Tiffany', 'Anurag',\n",
    "                    'Rocio', 'Eric', 'Monique',\n",
    "                    'Emma'], \n",
    "            'neighbourhood': ['Sunset','West end','Kitsilano', 'Sunset', \n",
    "                              'Arbutus-ridge','Arbutus-ridge', 'Kitsilano', \n",
    "                              'West end','Kitsilano', 'Arbutus-ridge'],\n",
    "            'type': ['full-time', 'part-time', 'part-time', 'full-time', 'part-time',\n",
    "                     'full-time', 'full-time', 'part-time', 'part-time', 'full-time'],\n",
    "            'hourly_rate': [25.0, 27.0, 30.0, 25.5, 32.0,\n",
    "                         26.5, 27.0, 28.0, 25.5, 23.0]}\n",
    "\n",
    "data = pd.DataFrame.from_dict(a_dict)\n",
    "data.head()"
   ]
  },
  {
   "cell_type": "code",
   "execution_count": 5,
   "metadata": {},
   "outputs": [
    {
     "data": {
      "text/html": [
       "<div>\n",
       "<style scoped>\n",
       "    .dataframe tbody tr th:only-of-type {\n",
       "        vertical-align: middle;\n",
       "    }\n",
       "\n",
       "    .dataframe tbody tr th {\n",
       "        vertical-align: top;\n",
       "    }\n",
       "\n",
       "    .dataframe thead th {\n",
       "        text-align: right;\n",
       "    }\n",
       "</style>\n",
       "<table border=\"1\" class=\"dataframe\">\n",
       "  <thead>\n",
       "    <tr style=\"text-align: right;\">\n",
       "      <th></th>\n",
       "      <th>employee_id</th>\n",
       "      <th>name</th>\n",
       "      <th>neighbourhood</th>\n",
       "      <th>type</th>\n",
       "      <th>hourly_rate</th>\n",
       "    </tr>\n",
       "  </thead>\n",
       "  <tbody>\n",
       "    <tr>\n",
       "      <th>5</th>\n",
       "      <td>4534</td>\n",
       "      <td>Anurag</td>\n",
       "      <td>Arbutus-ridge</td>\n",
       "      <td>full-time</td>\n",
       "      <td>26.5</td>\n",
       "    </tr>\n",
       "    <tr>\n",
       "      <th>2</th>\n",
       "      <td>4801</td>\n",
       "      <td>Hayley</td>\n",
       "      <td>Kitsilano</td>\n",
       "      <td>part-time</td>\n",
       "      <td>30.0</td>\n",
       "    </tr>\n",
       "    <tr>\n",
       "      <th>3</th>\n",
       "      <td>4540</td>\n",
       "      <td>Mike</td>\n",
       "      <td>Sunset</td>\n",
       "      <td>full-time</td>\n",
       "      <td>25.5</td>\n",
       "    </tr>\n",
       "    <tr>\n",
       "      <th>1</th>\n",
       "      <td>4913</td>\n",
       "      <td>Laura</td>\n",
       "      <td>West end</td>\n",
       "      <td>part-time</td>\n",
       "      <td>27.0</td>\n",
       "    </tr>\n",
       "  </tbody>\n",
       "</table>\n",
       "</div>"
      ],
      "text/plain": [
       "   employee_id    name  neighbourhood       type  hourly_rate\n",
       "5         4534  Anurag  Arbutus-ridge  full-time         26.5\n",
       "2         4801  Hayley      Kitsilano  part-time         30.0\n",
       "3         4540    Mike         Sunset  full-time         25.5\n",
       "1         4913   Laura       West end  part-time         27.0"
      ]
     },
     "execution_count": 5,
     "metadata": {},
     "output_type": "execute_result"
    }
   ],
   "source": [
    "import sampling as sp\n",
    "#globals()\n",
    "sp.sample_dataframe(data, 'neighbourhood')"
   ]
  },
  {
   "cell_type": "markdown",
   "metadata": {},
   "source": [
    "Is `sampling.py` formatted properly?\n",
    "\n",
    "Verify with `flake`"
   ]
  },
  {
   "cell_type": "code",
   "execution_count": 6,
   "metadata": {},
   "outputs": [
    {
     "name": "stdout",
     "output_type": "stream",
     "text": [
      "\u001b[1msampling.py\u001b[m\u001b[36m:\u001b[m4\u001b[36m:\u001b[m43\u001b[36m:\u001b[m \u001b[1m\u001b[31mE251\u001b[m unexpected spaces around keyword / parameter equals\n",
      "\u001b[1msampling.py\u001b[m\u001b[36m:\u001b[m4\u001b[36m:\u001b[m45\u001b[36m:\u001b[m \u001b[1m\u001b[31mE251\u001b[m unexpected spaces around keyword / parameter equals\n",
      "\u001b[1msampling.py\u001b[m\u001b[36m:\u001b[m8\u001b[36m:\u001b[m1\u001b[36m:\u001b[m \u001b[1m\u001b[31mW293\u001b[m blank line contains whitespace\n",
      "\u001b[1msampling.py\u001b[m\u001b[36m:\u001b[m18\u001b[36m:\u001b[m1\u001b[36m:\u001b[m \u001b[1m\u001b[31mW293\u001b[m blank line contains whitespace\n",
      "\u001b[1msampling.py\u001b[m\u001b[36m:\u001b[m23\u001b[36m:\u001b[m1\u001b[36m:\u001b[m \u001b[1m\u001b[31mW293\u001b[m blank line contains whitespace\n",
      "\u001b[1msampling.py\u001b[m\u001b[36m:\u001b[m31\u001b[36m:\u001b[m1\u001b[36m:\u001b[m \u001b[1m\u001b[31mW293\u001b[m blank line contains whitespace\n",
      "\u001b[1msampling.py\u001b[m\u001b[36m:\u001b[m33\u001b[36m:\u001b[m1\u001b[36m:\u001b[m \u001b[1m\u001b[31mW293\u001b[m blank line contains whitespace\n",
      "\u001b[1msampling.py\u001b[m\u001b[36m:\u001b[m35\u001b[36m:\u001b[m1\u001b[36m:\u001b[m \u001b[1m\u001b[31mW293\u001b[m blank line contains whitespace\n",
      "\u001b[1msampling.py\u001b[m\u001b[36m:\u001b[m36\u001b[36m:\u001b[m35\u001b[36m:\u001b[m \u001b[1m\u001b[31mW291\u001b[m trailing whitespace\n",
      "\u001b[1msampling.py\u001b[m\u001b[36m:\u001b[m37\u001b[36m:\u001b[m25\u001b[36m:\u001b[m \u001b[1m\u001b[31mE222\u001b[m multiple spaces after operator\n",
      "\u001b[1msampling.py\u001b[m\u001b[36m:\u001b[m39\u001b[36m:\u001b[m1\u001b[36m:\u001b[m \u001b[1m\u001b[31mW293\u001b[m blank line contains whitespace\n"
     ]
    }
   ],
   "source": [
    "!flake8 sampling.py"
   ]
  },
  {
   "cell_type": "code",
   "execution_count": 7,
   "metadata": {},
   "outputs": [
    {
     "name": "stdout",
     "output_type": "stream",
     "text": [
      "\u001b[1mreformatted sampling.py\u001b[0m\n",
      "\n",
      "\u001b[1mAll done! ✨ 🍰 ✨\u001b[0m\n",
      "\u001b[34m\u001b[1m1 file \u001b[0m\u001b[1mreformatted\u001b[0m.\n"
     ]
    }
   ],
   "source": [
    "!black sampling.py"
   ]
  },
  {
   "cell_type": "code",
   "execution_count": 9,
   "metadata": {},
   "outputs": [],
   "source": [
    "!flake8 sampling.py"
   ]
  },
  {
   "cell_type": "markdown",
   "metadata": {
    "slideshow": {
     "slide_type": "slide"
    }
   },
   "source": [
    "### About Docstrings\n",
    "A programming function is written as:\n",
    "\n",
    "```\n",
    "def <function_name>([<parameters>]):\n",
    "    '''\n",
    "    Docstrings\n",
    "    '''\n",
    "    <statement(s)>\n",
    "    <return>\n",
    "```\n",
    "\n",
    "How do we know how to use the function? The Docstrings section is extremely important."
   ]
  },
  {
   "cell_type": "code",
   "execution_count": 10,
   "metadata": {
    "scrolled": true,
    "slideshow": {
     "slide_type": "slide"
    }
   },
   "outputs": [
    {
     "data": {
      "text/plain": [
       "\u001b[0;31mSignature:\u001b[0m \u001b[0msp\u001b[0m\u001b[0;34m.\u001b[0m\u001b[0msample_dataframe\u001b[0m\u001b[0;34m(\u001b[0m\u001b[0mdata\u001b[0m\u001b[0;34m,\u001b[0m \u001b[0mgrouping_col\u001b[0m\u001b[0;34m,\u001b[0m \u001b[0mN\u001b[0m\u001b[0;34m=\u001b[0m\u001b[0;36m1\u001b[0m\u001b[0;34m)\u001b[0m\u001b[0;34m\u001b[0m\u001b[0;34m\u001b[0m\u001b[0m\n",
       "\u001b[0;31mDocstring:\u001b[0m\n",
       "Given a dataframe, return a smaller sample of the dataframe\n",
       "sampling N rows from each specified group\n",
       "\n",
       "Parameters\n",
       "----------\n",
       "data : pandas.core.frame.DataFrame\n",
       "    The dataframe to sample from\n",
       "grouping_col : str\n",
       "    The column to filter our condition on\n",
       "N : int, optional\n",
       "    The number of rows to sample from each group (The default value is 1\n",
       "    which implies a single observation)\n",
       "    \n",
       "Returns\n",
       "-------\n",
       "pandas.core.frame.DataFrame\n",
       "    The new sampled dataframe\n",
       "    \n",
       "Examples\n",
       "--------\n",
       ">>> sample_dataframe(pokemon, 'legendary'])\n",
       "    name     deck_no  attack  defense  type    gen  legendary\n",
       "411 Burmy     412     29        45      bug     4      0\n",
       "640 Tornadus  641     100       80      flying  5      1\n",
       "\u001b[0;31mFile:\u001b[0m      ~/HT-Data/Instructor/UBC/Instructor/UBC_EL_PPDS/sampling.py\n",
       "\u001b[0;31mType:\u001b[0m      function"
      ]
     },
     "metadata": {},
     "output_type": "display_data"
    }
   ],
   "source": [
    "### Accessing the docstrings or documentation\n",
    "\n",
    "?sp.sample_dataframe"
   ]
  },
  {
   "cell_type": "markdown",
   "metadata": {},
   "source": [
    "### Testing files with `pytest`\n",
    "\n",
    "- `Pytest` is a testing framework in Python.\n",
    "    - To test a function, create test functions with names starting with \"test_\" in a file, and then run pytest in the terminal to execute the tests.\n",
    "\n",
    "**Notes to that:**\n",
    "- Testing files, for order, usually live in another folder called tests\n",
    "- For now, we will have them on the same directory.\n",
    "\n",
    "- `pytest` identifies test functions by looking for functions whose names start with `\"test_\"`. When you run `pytest`, it automatically discovers and executes these test functions.\n",
    "    - We do not currently want that because the assignments have a different kind of test (the autograder) - so you **must** specify which file you want to test:\n",
    "\n",
    "```python\n",
    "pytest sampling.py\n",
    "```"
   ]
  },
  {
   "cell_type": "code",
   "execution_count": 11,
   "metadata": {},
   "outputs": [
    {
     "name": "stdout",
     "output_type": "stream",
     "text": [
      "\u001b[1m============================= test session starts ==============================\u001b[0m\n",
      "platform darwin -- Python 3.11.4, pytest-7.4.1, pluggy-1.3.0\n",
      "rootdir: /Users/sedv8808/HT-Data/Instructor/UBC/Instructor/UBC_EL_PPDS\n",
      "plugins: cov-4.1.0\n",
      "collected 6 items                                                              \u001b[0m\u001b[1m\n",
      "\n",
      "test_sampling.py \u001b[32m.\u001b[0m\u001b[32m.\u001b[0m\u001b[32m.\u001b[0m\u001b[32m.\u001b[0m\u001b[32m.\u001b[0m\u001b[31mF\u001b[0m\u001b[31m                                                  [100%]\u001b[0m\n",
      "\n",
      "=================================== FAILURES ===================================\n",
      "\u001b[31m\u001b[1m________________________________ test_sd_cherry ________________________________\u001b[0m\n",
      "\n",
      "    \u001b[94mdef\u001b[39;49;00m \u001b[92mtest_sd_cherry\u001b[39;49;00m():\u001b[90m\u001b[39;49;00m\n",
      "        raw = {\u001b[33m'\u001b[39;49;00m\u001b[33mid\u001b[39;49;00m\u001b[33m'\u001b[39;49;00m: [\u001b[94m1873\u001b[39;49;00m, \u001b[94m4913\u001b[39;49;00m, \u001b[94m4801\u001b[39;49;00m, \u001b[94m4540\u001b[39;49;00m, \u001b[94m3581\u001b[39;49;00m,\u001b[90m\u001b[39;49;00m\n",
      "                       \u001b[94m4534\u001b[39;49;00m, \u001b[94m1934\u001b[39;49;00m, \u001b[94m4944\u001b[39;49;00m, \u001b[94m1983\u001b[39;49;00m, \u001b[94m1266\u001b[39;49;00m],\u001b[90m\u001b[39;49;00m\n",
      "               \u001b[33m'\u001b[39;49;00m\u001b[33mname\u001b[39;49;00m\u001b[33m'\u001b[39;49;00m: [\u001b[33m'\u001b[39;49;00m\u001b[33mEnglish Oak\u001b[39;49;00m\u001b[33m'\u001b[39;49;00m, \u001b[33m'\u001b[39;49;00m\u001b[33mHigan Cherry\u001b[39;49;00m\u001b[33m'\u001b[39;49;00m, \u001b[33m'\u001b[39;49;00m\u001b[33mWillow Oak\u001b[39;49;00m\u001b[33m'\u001b[39;49;00m,\u001b[90m\u001b[39;49;00m\n",
      "                        \u001b[33m'\u001b[39;49;00m\u001b[33mYoshino Cherry\u001b[39;49;00m\u001b[33m'\u001b[39;49;00m, \u001b[33m'\u001b[39;49;00m\u001b[33mRed Oak\u001b[39;49;00m\u001b[33m'\u001b[39;49;00m, \u001b[33m'\u001b[39;49;00m\u001b[33mKindred Spirit Oak\u001b[39;49;00m\u001b[33m'\u001b[39;49;00m,\u001b[90m\u001b[39;49;00m\n",
      "                        \u001b[33m'\u001b[39;49;00m\u001b[33mGarry Oak\u001b[39;49;00m\u001b[33m'\u001b[39;49;00m, \u001b[33m'\u001b[39;49;00m\u001b[33mAccolade Cherry\u001b[39;49;00m\u001b[33m'\u001b[39;49;00m, \u001b[33m'\u001b[39;49;00m\u001b[33mSnow Goose Cherry\u001b[39;49;00m\u001b[33m'\u001b[39;49;00m,\u001b[90m\u001b[39;49;00m\n",
      "                        \u001b[33m'\u001b[39;49;00m\u001b[33mEvergreen Oak\u001b[39;49;00m\u001b[33m'\u001b[39;49;00m],\u001b[90m\u001b[39;49;00m\n",
      "                \u001b[33m'\u001b[39;49;00m\u001b[33mneighbourhood\u001b[39;49;00m\u001b[33m'\u001b[39;49;00m: [\u001b[33m'\u001b[39;49;00m\u001b[33mSunset\u001b[39;49;00m\u001b[33m'\u001b[39;49;00m,\u001b[33m'\u001b[39;49;00m\u001b[33mWest end\u001b[39;49;00m\u001b[33m'\u001b[39;49;00m,\u001b[33m'\u001b[39;49;00m\u001b[33mKitsilano\u001b[39;49;00m\u001b[33m'\u001b[39;49;00m, \u001b[33m'\u001b[39;49;00m\u001b[33mSunset\u001b[39;49;00m\u001b[33m'\u001b[39;49;00m,\u001b[90m\u001b[39;49;00m\n",
      "                                  \u001b[33m'\u001b[39;49;00m\u001b[33mArbutus-ridge\u001b[39;49;00m\u001b[33m'\u001b[39;49;00m,\u001b[33m'\u001b[39;49;00m\u001b[33mArbutus-ridge\u001b[39;49;00m\u001b[33m'\u001b[39;49;00m, \u001b[33m'\u001b[39;49;00m\u001b[33mKitsilano\u001b[39;49;00m\u001b[33m'\u001b[39;49;00m,\u001b[90m\u001b[39;49;00m\n",
      "                                  \u001b[33m'\u001b[39;49;00m\u001b[33mWest end\u001b[39;49;00m\u001b[33m'\u001b[39;49;00m,\u001b[33m'\u001b[39;49;00m\u001b[33mKitsilano\u001b[39;49;00m\u001b[33m'\u001b[39;49;00m, \u001b[33m'\u001b[39;49;00m\u001b[33mArbutus-ridge\u001b[39;49;00m\u001b[33m'\u001b[39;49;00m],\u001b[90m\u001b[39;49;00m\n",
      "                \u001b[33m'\u001b[39;49;00m\u001b[33mtype\u001b[39;49;00m\u001b[33m'\u001b[39;49;00m: [\u001b[33m'\u001b[39;49;00m\u001b[33mOak\u001b[39;49;00m\u001b[33m'\u001b[39;49;00m, \u001b[33m'\u001b[39;49;00m\u001b[33mCherry\u001b[39;49;00m\u001b[33m'\u001b[39;49;00m, \u001b[33m'\u001b[39;49;00m\u001b[33mOak\u001b[39;49;00m\u001b[33m'\u001b[39;49;00m, \u001b[33m'\u001b[39;49;00m\u001b[33mCherry\u001b[39;49;00m\u001b[33m'\u001b[39;49;00m, \u001b[33m'\u001b[39;49;00m\u001b[33mOak\u001b[39;49;00m\u001b[33m'\u001b[39;49;00m,\u001b[90m\u001b[39;49;00m\n",
      "                         \u001b[33m'\u001b[39;49;00m\u001b[33mOak\u001b[39;49;00m\u001b[33m'\u001b[39;49;00m, \u001b[33m'\u001b[39;49;00m\u001b[33mOak\u001b[39;49;00m\u001b[33m'\u001b[39;49;00m, \u001b[33m'\u001b[39;49;00m\u001b[33mCherry\u001b[39;49;00m\u001b[33m'\u001b[39;49;00m, \u001b[33m'\u001b[39;49;00m\u001b[33mCherry\u001b[39;49;00m\u001b[33m'\u001b[39;49;00m, \u001b[33m'\u001b[39;49;00m\u001b[33mOak\u001b[39;49;00m\u001b[33m'\u001b[39;49;00m],\u001b[90m\u001b[39;49;00m\n",
      "                \u001b[33m'\u001b[39;49;00m\u001b[33mdiameter\u001b[39;49;00m\u001b[33m'\u001b[39;49;00m: [\u001b[94m9.0\u001b[39;49;00m, \u001b[94m27.0\u001b[39;49;00m, \u001b[94m3.0\u001b[39;49;00m, \u001b[94m22.0\u001b[39;49;00m, \u001b[94m3.0\u001b[39;49;00m,\u001b[90m\u001b[39;49;00m\n",
      "                             \u001b[94m6.5\u001b[39;49;00m, \u001b[94m12.0\u001b[39;49;00m, \u001b[94m18.0\u001b[39;49;00m, \u001b[94m8.5\u001b[39;49;00m, \u001b[94m23.0\u001b[39;49;00m]}\u001b[90m\u001b[39;49;00m\n",
      "        helper_data = pd.DataFrame.from_dict(raw)\u001b[90m\u001b[39;49;00m\n",
      "    \u001b[90m\u001b[39;49;00m\n",
      "        sampler = sample_dataframe(helper_data, \u001b[33m'\u001b[39;49;00m\u001b[33mtype\u001b[39;49;00m\u001b[33m'\u001b[39;49;00m, \u001b[94m1\u001b[39;49;00m)\u001b[90m\u001b[39;49;00m\n",
      "    \u001b[90m\u001b[39;49;00m\n",
      "        \u001b[90m# Tests that there are only 1 row of type \"Cherry\"\u001b[39;49;00m\u001b[90m\u001b[39;49;00m\n",
      ">       \u001b[94massert\u001b[39;49;00m sampler[sampler[\u001b[33m'\u001b[39;49;00m\u001b[33mtype\u001b[39;49;00m\u001b[33m'\u001b[39;49;00m] == \u001b[33m'\u001b[39;49;00m\u001b[33mCherry\u001b[39;49;00m\u001b[33m'\u001b[39;49;00m].shape[\u001b[94m0\u001b[39;49;00m] == \u001b[94m3\u001b[39;49;00m, \u001b[33m\"\u001b[39;49;00m\u001b[33mThe dataframe should only have 1 row of type \u001b[39;49;00m\u001b[33m'\u001b[39;49;00m\u001b[33mcherry\u001b[39;49;00m\u001b[33m'\u001b[39;49;00m\u001b[33m\"\u001b[39;49;00m\u001b[90m\u001b[39;49;00m\n",
      "\u001b[1m\u001b[31mE       AssertionError: The dataframe should only have 1 row of type 'cherry'\u001b[0m\n",
      "\u001b[1m\u001b[31mE       assert 1 == 3\u001b[0m\n",
      "\n",
      "\u001b[1m\u001b[31mtest_sampling.py\u001b[0m:135: AssertionError\n",
      "\u001b[36m\u001b[1m=========================== short test summary info ============================\u001b[0m\n",
      "\u001b[31mFAILED\u001b[0m test_sampling.py::\u001b[1mtest_sd_cherry\u001b[0m - AssertionError: The dataframe should only have 1 row of type 'cherry'\n",
      "\u001b[31m========================= \u001b[31m\u001b[1m1 failed\u001b[0m, \u001b[32m5 passed\u001b[0m\u001b[31m in 1.14s\u001b[0m\u001b[31m ==========================\u001b[0m\n"
     ]
    }
   ],
   "source": [
    "!pytest test_sampling.py"
   ]
  },
  {
   "cell_type": "code",
   "execution_count": null,
   "metadata": {},
   "outputs": [],
   "source": [
    "pwd"
   ]
  },
  {
   "cell_type": "markdown",
   "metadata": {},
   "source": [
    "## Explaining for loops in groupby objects."
   ]
  },
  {
   "cell_type": "code",
   "execution_count": 12,
   "metadata": {},
   "outputs": [],
   "source": [
    "a_dict = {'a': 4, 'b':7, 'c':5}"
   ]
  },
  {
   "cell_type": "code",
   "execution_count": 13,
   "metadata": {},
   "outputs": [
    {
     "data": {
      "text/plain": [
       "dict_items([('a', 4), ('b', 7), ('c', 5)])"
      ]
     },
     "execution_count": 13,
     "metadata": {},
     "output_type": "execute_result"
    }
   ],
   "source": [
    "a_dict.items()"
   ]
  },
  {
   "cell_type": "code",
   "execution_count": 14,
   "metadata": {},
   "outputs": [
    {
     "name": "stdout",
     "output_type": "stream",
     "text": [
      "a\n",
      "b\n",
      "c\n"
     ]
    }
   ],
   "source": [
    "for k in a_dict:\n",
    "    print(k)"
   ]
  },
  {
   "cell_type": "code",
   "execution_count": 15,
   "metadata": {},
   "outputs": [
    {
     "name": "stdout",
     "output_type": "stream",
     "text": [
      "a 4\n",
      "b 7\n",
      "c 5\n"
     ]
    }
   ],
   "source": [
    "for k, v in a_dict.items():\n",
    "    print(k, v)"
   ]
  },
  {
   "cell_type": "markdown",
   "metadata": {},
   "source": [
    "```python\n",
    "for key, value in my_dict.items():\n",
    "        print(key)\n",
    "        print(my_dict[key])\n",
    "        print(value)\n",
    "```"
   ]
  },
  {
   "cell_type": "code",
   "execution_count": 16,
   "metadata": {},
   "outputs": [
    {
     "data": {
      "text/html": [
       "<div>\n",
       "<style scoped>\n",
       "    .dataframe tbody tr th:only-of-type {\n",
       "        vertical-align: middle;\n",
       "    }\n",
       "\n",
       "    .dataframe tbody tr th {\n",
       "        vertical-align: top;\n",
       "    }\n",
       "\n",
       "    .dataframe thead th {\n",
       "        text-align: right;\n",
       "    }\n",
       "</style>\n",
       "<table border=\"1\" class=\"dataframe\">\n",
       "  <thead>\n",
       "    <tr style=\"text-align: right;\">\n",
       "      <th></th>\n",
       "      <th>employee_id</th>\n",
       "      <th>name</th>\n",
       "      <th>neighbourhood</th>\n",
       "      <th>type</th>\n",
       "      <th>hourly_rate</th>\n",
       "    </tr>\n",
       "  </thead>\n",
       "  <tbody>\n",
       "    <tr>\n",
       "      <th>0</th>\n",
       "      <td>1873</td>\n",
       "      <td>Josh</td>\n",
       "      <td>Sunset</td>\n",
       "      <td>full-time</td>\n",
       "      <td>25.0</td>\n",
       "    </tr>\n",
       "    <tr>\n",
       "      <th>1</th>\n",
       "      <td>4913</td>\n",
       "      <td>Laura</td>\n",
       "      <td>West end</td>\n",
       "      <td>part-time</td>\n",
       "      <td>27.0</td>\n",
       "    </tr>\n",
       "    <tr>\n",
       "      <th>2</th>\n",
       "      <td>4801</td>\n",
       "      <td>Hayley</td>\n",
       "      <td>Kitsilano</td>\n",
       "      <td>part-time</td>\n",
       "      <td>30.0</td>\n",
       "    </tr>\n",
       "    <tr>\n",
       "      <th>3</th>\n",
       "      <td>4540</td>\n",
       "      <td>Mike</td>\n",
       "      <td>Sunset</td>\n",
       "      <td>full-time</td>\n",
       "      <td>25.5</td>\n",
       "    </tr>\n",
       "    <tr>\n",
       "      <th>4</th>\n",
       "      <td>3581</td>\n",
       "      <td>Tiffany</td>\n",
       "      <td>Arbutus-ridge</td>\n",
       "      <td>part-time</td>\n",
       "      <td>32.0</td>\n",
       "    </tr>\n",
       "    <tr>\n",
       "      <th>5</th>\n",
       "      <td>4534</td>\n",
       "      <td>Anurag</td>\n",
       "      <td>Arbutus-ridge</td>\n",
       "      <td>full-time</td>\n",
       "      <td>26.5</td>\n",
       "    </tr>\n",
       "    <tr>\n",
       "      <th>6</th>\n",
       "      <td>1934</td>\n",
       "      <td>Rocio</td>\n",
       "      <td>Kitsilano</td>\n",
       "      <td>full-time</td>\n",
       "      <td>27.0</td>\n",
       "    </tr>\n",
       "    <tr>\n",
       "      <th>7</th>\n",
       "      <td>4944</td>\n",
       "      <td>Eric</td>\n",
       "      <td>West end</td>\n",
       "      <td>part-time</td>\n",
       "      <td>28.0</td>\n",
       "    </tr>\n",
       "    <tr>\n",
       "      <th>8</th>\n",
       "      <td>1983</td>\n",
       "      <td>Monique</td>\n",
       "      <td>Kitsilano</td>\n",
       "      <td>part-time</td>\n",
       "      <td>25.5</td>\n",
       "    </tr>\n",
       "    <tr>\n",
       "      <th>9</th>\n",
       "      <td>1266</td>\n",
       "      <td>Emma</td>\n",
       "      <td>Arbutus-ridge</td>\n",
       "      <td>full-time</td>\n",
       "      <td>23.0</td>\n",
       "    </tr>\n",
       "  </tbody>\n",
       "</table>\n",
       "</div>"
      ],
      "text/plain": [
       "   employee_id     name  neighbourhood       type  hourly_rate\n",
       "0         1873     Josh         Sunset  full-time         25.0\n",
       "1         4913    Laura       West end  part-time         27.0\n",
       "2         4801   Hayley      Kitsilano  part-time         30.0\n",
       "3         4540     Mike         Sunset  full-time         25.5\n",
       "4         3581  Tiffany  Arbutus-ridge  part-time         32.0\n",
       "5         4534   Anurag  Arbutus-ridge  full-time         26.5\n",
       "6         1934    Rocio      Kitsilano  full-time         27.0\n",
       "7         4944     Eric       West end  part-time         28.0\n",
       "8         1983  Monique      Kitsilano  part-time         25.5\n",
       "9         1266     Emma  Arbutus-ridge  full-time         23.0"
      ]
     },
     "execution_count": 16,
     "metadata": {},
     "output_type": "execute_result"
    }
   ],
   "source": [
    "import pandas as pd\n",
    "a_dict = {'employee_id': [1873, 4913, 4801, 4540, 3581,\n",
    "                   4534, 1934, 4944, 1983, 1266], \n",
    "           'name': ['Josh', 'Laura', 'Hayley', \n",
    "                    'Mike', 'Tiffany', 'Anurag',\n",
    "                    'Rocio', 'Eric', 'Monique',\n",
    "                    'Emma'], \n",
    "            'neighbourhood': ['Sunset','West end','Kitsilano', 'Sunset', \n",
    "                              'Arbutus-ridge','Arbutus-ridge', 'Kitsilano', \n",
    "                              'West end','Kitsilano', 'Arbutus-ridge'],\n",
    "            'type': ['full-time', 'part-time', 'part-time', 'full-time', 'part-time',\n",
    "                     'full-time', 'full-time', 'part-time', 'part-time', 'full-time'],\n",
    "            'hourly_rate': [25.0, 27.0, 30.0, 25.5, 32.0,\n",
    "                         26.5, 27.0, 28.0, 25.5, 23.0]}\n",
    "\n",
    "data = pd.DataFrame.from_dict(a_dict)\n",
    "data"
   ]
  },
  {
   "cell_type": "code",
   "execution_count": 17,
   "metadata": {},
   "outputs": [
    {
     "data": {
      "text/plain": [
       "<pandas.core.groupby.generic.DataFrameGroupBy object at 0x1052823d0>"
      ]
     },
     "execution_count": 17,
     "metadata": {},
     "output_type": "execute_result"
    }
   ],
   "source": [
    "data.groupby('type')"
   ]
  },
  {
   "cell_type": "code",
   "execution_count": 23,
   "metadata": {},
   "outputs": [
    {
     "data": {
      "text/html": [
       "<div>\n",
       "<style scoped>\n",
       "    .dataframe tbody tr th:only-of-type {\n",
       "        vertical-align: middle;\n",
       "    }\n",
       "\n",
       "    .dataframe tbody tr th {\n",
       "        vertical-align: top;\n",
       "    }\n",
       "\n",
       "    .dataframe thead th {\n",
       "        text-align: right;\n",
       "    }\n",
       "</style>\n",
       "<table border=\"1\" class=\"dataframe\">\n",
       "  <thead>\n",
       "    <tr style=\"text-align: right;\">\n",
       "      <th></th>\n",
       "      <th>employee_id</th>\n",
       "      <th>name</th>\n",
       "      <th>neighbourhood</th>\n",
       "      <th>type</th>\n",
       "      <th>hourly_rate</th>\n",
       "    </tr>\n",
       "  </thead>\n",
       "  <tbody>\n",
       "    <tr>\n",
       "      <th>1</th>\n",
       "      <td>4913</td>\n",
       "      <td>Laura</td>\n",
       "      <td>West end</td>\n",
       "      <td>part-time</td>\n",
       "      <td>27.0</td>\n",
       "    </tr>\n",
       "    <tr>\n",
       "      <th>2</th>\n",
       "      <td>4801</td>\n",
       "      <td>Hayley</td>\n",
       "      <td>Kitsilano</td>\n",
       "      <td>part-time</td>\n",
       "      <td>30.0</td>\n",
       "    </tr>\n",
       "    <tr>\n",
       "      <th>4</th>\n",
       "      <td>3581</td>\n",
       "      <td>Tiffany</td>\n",
       "      <td>Arbutus-ridge</td>\n",
       "      <td>part-time</td>\n",
       "      <td>32.0</td>\n",
       "    </tr>\n",
       "    <tr>\n",
       "      <th>7</th>\n",
       "      <td>4944</td>\n",
       "      <td>Eric</td>\n",
       "      <td>West end</td>\n",
       "      <td>part-time</td>\n",
       "      <td>28.0</td>\n",
       "    </tr>\n",
       "    <tr>\n",
       "      <th>8</th>\n",
       "      <td>1983</td>\n",
       "      <td>Monique</td>\n",
       "      <td>Kitsilano</td>\n",
       "      <td>part-time</td>\n",
       "      <td>25.5</td>\n",
       "    </tr>\n",
       "  </tbody>\n",
       "</table>\n",
       "</div>"
      ],
      "text/plain": [
       "   employee_id     name  neighbourhood       type  hourly_rate\n",
       "1         4913    Laura       West end  part-time         27.0\n",
       "2         4801   Hayley      Kitsilano  part-time         30.0\n",
       "4         3581  Tiffany  Arbutus-ridge  part-time         32.0\n",
       "7         4944     Eric       West end  part-time         28.0\n",
       "8         1983  Monique      Kitsilano  part-time         25.5"
      ]
     },
     "execution_count": 23,
     "metadata": {},
     "output_type": "execute_result"
    }
   ],
   "source": [
    "data.groupby('type').get_group('part-time')"
   ]
  },
  {
   "cell_type": "code",
   "execution_count": 19,
   "metadata": {},
   "outputs": [],
   "source": [
    "grouped_df = data.groupby('type')"
   ]
  },
  {
   "cell_type": "code",
   "execution_count": 21,
   "metadata": {},
   "outputs": [
    {
     "data": {
      "text/plain": [
       "<pandas.core.groupby.generic.DataFrameGroupBy object at 0x1085aa3d0>"
      ]
     },
     "execution_count": 21,
     "metadata": {},
     "output_type": "execute_result"
    }
   ],
   "source": [
    "grouped_df"
   ]
  },
  {
   "cell_type": "markdown",
   "metadata": {},
   "source": [
    "What would it be then to do a for loop in a grouped data frame?\n",
    "\n",
    "```python\n",
    "for ___ in grouped_df:\n",
    "```"
   ]
  },
  {
   "cell_type": "code",
   "execution_count": 22,
   "metadata": {},
   "outputs": [
    {
     "data": {
      "text/plain": [
       "{'full-time': [0, 3, 5, 6, 9], 'part-time': [1, 2, 4, 7, 8]}"
      ]
     },
     "execution_count": 22,
     "metadata": {},
     "output_type": "execute_result"
    }
   ],
   "source": [
    "grouped_df.groups"
   ]
  },
  {
   "cell_type": "code",
   "execution_count": 24,
   "metadata": {},
   "outputs": [
    {
     "name": "stdout",
     "output_type": "stream",
     "text": [
      "Group: full-time\n",
      "Rows:    employee_id    name  neighbourhood       type  hourly_rate\n",
      "0         1873    Josh         Sunset  full-time         25.0\n",
      "3         4540    Mike         Sunset  full-time         25.5\n",
      "5         4534  Anurag  Arbutus-ridge  full-time         26.5\n",
      "6         1934   Rocio      Kitsilano  full-time         27.0\n",
      "9         1266    Emma  Arbutus-ridge  full-time         23.0\n",
      "Group: part-time\n",
      "Rows:    employee_id     name  neighbourhood       type  hourly_rate\n",
      "1         4913    Laura       West end  part-time         27.0\n",
      "2         4801   Hayley      Kitsilano  part-time         30.0\n",
      "4         3581  Tiffany  Arbutus-ridge  part-time         32.0\n",
      "7         4944     Eric       West end  part-time         28.0\n",
      "8         1983  Monique      Kitsilano  part-time         25.5\n"
     ]
    }
   ],
   "source": [
    "for group, rows in grouped_df:\n",
    "    print(\"Group:\", group)\n",
    "    print(\"Rows:\", rows)"
   ]
  },
  {
   "cell_type": "code",
   "execution_count": null,
   "metadata": {},
   "outputs": [],
   "source": []
  }
 ],
 "metadata": {
  "celltoolbar": "Slideshow",
  "interpreter": {
   "hash": "a75bd6151e265d44863ae447c53c96ded6c20b4779439cdccf9ca698d6566769"
  },
  "kernelspec": {
   "display_name": "Python 3 (ipykernel)",
   "language": "python",
   "name": "python3"
  },
  "language_info": {
   "codemirror_mode": {
    "name": "ipython",
    "version": 3
   },
   "file_extension": ".py",
   "mimetype": "text/x-python",
   "name": "python",
   "nbconvert_exporter": "python",
   "pygments_lexer": "ipython3",
   "version": "3.11.4"
  }
 },
 "nbformat": 4,
 "nbformat_minor": 4
}
