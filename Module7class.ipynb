{
 "cells": [
  {
   "cell_type": "markdown",
   "metadata": {
    "slideshow": {
     "slide_type": "slide"
    }
   },
   "source": [
    "# UBC\n",
    "## Programming in Python for DS\n",
    "\n",
    "### Week 7\n",
    "Instructor: Socorro Dominguez-Vidana"
   ]
  },
  {
   "cell_type": "markdown",
   "metadata": {},
   "source": [
    "- [] Describe what Python libraries are, as well as explain when and why they are useful.\n",
    "- [] Identify where code can be improved concerning variable names, magic numbers, comments and whitespace.\n",
    "- [] Write code that is human readable and follows the black style guide.\n",
    "- [] Import files from other directories.\n",
    "- [] Use pytest to check a function's tests.\n",
    "- [] When running pytest, explain how pytest finds the associated test functions.\n",
    "- [] Explain how the Python debugger can help rectify your code."
   ]
  },
  {
   "cell_type": "markdown",
   "metadata": {},
   "source": [
    "### Python libraries \n",
    "- Collections of pre-written code or modules that provide various functionalities to perform specific tasks.\n",
    "- These libraries contain reusable classes (for example `DataFrame`), functions (e.g. `groupby()`, `sortby()`) and constants that can be imported and utilized in your Python programs.\n",
    "- Libraries save time and effort by offering ready-made solutions to common problems. "
   ]
  },
  {
   "cell_type": "markdown",
   "metadata": {},
   "source": [
    "#### Importing a python library\n",
    "```python\n",
    "import pandas as pd\n",
    "```\n",
    "- `import` is a key word\n",
    "- `pandas` is the library we have used all this time\n",
    "- `as` we are stating an alias\n",
    "- `pd` so that we can write `pd.read_csv` instead of `pandas.read_csv`"
   ]
  },
  {
   "cell_type": "code",
   "execution_count": null,
   "metadata": {},
   "outputs": [],
   "source": [
    "from pandas import read_csv"
   ]
  },
  {
   "cell_type": "markdown",
   "metadata": {},
   "source": [
    "```python\n",
    "from exponent_list import exponent_list\n",
    "exponent_list(3,4,5)\n",
    "```"
   ]
  },
  {
   "cell_type": "markdown",
   "metadata": {},
   "source": [
    "### Code Improvements\n",
    "\n",
    "- Code you write will be used in the future. Make sure to aim for best practices:\n",
    "    - **Variable Names:** Use descriptive and meaningful names that indicate the purpose of the variable. Avoid single-letter names or ambiguous terms.\n",
    "    - **Magic Numbers:** Replace hardcoded numbers with named constants or variables to enhance readability and maintainability.\n",
    "    - **Comments:** Add comments to clarify complex code sections, explain the intent behind the logic, or provide context where the code might be unclear.\n",
    "    - **Whitespace:** Ensure consistent indentation, use whitespace to enhance code readability, and follow the [PEP 8](https://peps.python.org/pep-0008/) style guide."
   ]
  },
  {
   "cell_type": "markdown",
   "metadata": {},
   "source": [
    "- You cannot always do it perfectly. But to help you we have `flake8` and `black`\n",
    "\n",
    " ```python\n",
    "flake8 <file>.py\n",
    "black <file>.py\n",
    "```\n",
    "\n",
    "- `flake8` will help you find style errors\n",
    "- `black` will correct style errors\n",
    "\n",
    "Let's see how to use them in the terminal and in here:"
   ]
  },
  {
   "cell_type": "code",
   "execution_count": null,
   "metadata": {},
   "outputs": [],
   "source": [
    "!flake8 sampling.py"
   ]
  },
  {
   "cell_type": "code",
   "execution_count": null,
   "metadata": {},
   "outputs": [],
   "source": [
    "# !black sampling.py"
   ]
  },
  {
   "cell_type": "markdown",
   "metadata": {
    "slideshow": {
     "slide_type": "slide"
    }
   },
   "source": [
    "### Import functions from other files"
   ]
  },
  {
   "cell_type": "markdown",
   "metadata": {},
   "source": [
    "So far, we have defined functions in the notebook and used them there: "
   ]
  },
  {
   "cell_type": "markdown",
   "metadata": {
    "slideshow": {
     "slide_type": "fragment"
    }
   },
   "source": [
    "```python\n",
    "def sample_dataframe(data, grouping_col, N = 1):\n",
    "    df_grouped = data.groupby(grouping_col)\n",
    "    \n",
    "    sampled_df = None\n",
    "    \n",
    "    for group, rows in df_grouped: \n",
    "        group_sampling =  df_grouped.get_group(group).sample(N)\n",
    "        sampled_df = pd.concat([sampled_df, group_sampling])\n",
    "    \n",
    "    return sampled_df\n",
    "sample_dataframe(data, 'column', N=3)\n",
    "```"
   ]
  },
  {
   "cell_type": "markdown",
   "metadata": {},
   "source": [
    "But that breaks the flow of the notebook.\n",
    "\n",
    "What if we could write the function elsewhere but use it in our notebook to not break the flow?"
   ]
  },
  {
   "cell_type": "markdown",
   "metadata": {},
   "source": [
    "#### How to call your own functions\n",
    "\n",
    "- You have been importing whole sets of functions when you do:\n",
    "```python\n",
    "import pandas as pd\n",
    "```\n",
    "\n",
    "- But if you only wanted to import **one** function from pandas, for example, `pd.read_csv` you could do:\n",
    "\n",
    "```python\n",
    "from pandas import read_csv\n",
    "```"
   ]
  },
  {
   "cell_type": "markdown",
   "metadata": {},
   "source": [
    "# What about personal functions / scripts\n",
    "\n",
    "- I have created the `sampling.py` in my local computer. \n",
    "- There is a function called `sample_dataframe`\n",
    "\n",
    "Explore doing\n",
    "\n",
    "1) \n",
    "```python\n",
    "import sampling\n",
    "sampling.sample_dataframe(data, 'neighbourhood')\n",
    "```\n",
    "- `import` keyword to bring from a different file\n",
    "\n",
    "2) \n",
    "```python\n",
    "from sampling import sample_dataframe\n",
    "sample_dataframe(data, 'neighbourhood')\n",
    "```\n",
    "- `from` keyword to say that from a particular script, we are only handpicking what we want to use\n",
    "\n",
    "3) \n",
    "```python\n",
    "import sampling as sp\n",
    "sp.sample_dataframe(data, 'neighbourhood')\n",
    "sp.sample_dataframe2(data, 'neighbourhood')\n",
    "```\n",
    "- `as` keyword for creating an alias\n",
    "\n",
    "##### Example"
   ]
  },
  {
   "cell_type": "code",
   "execution_count": null,
   "metadata": {},
   "outputs": [],
   "source": [
    "# Toy Dataset \n",
    "import pandas as pd\n",
    "a_dict = {'employee_id': [1873, 4913, 4801, 4540, 3581,\n",
    "                   4534, 1934, 4944, 1983, 1266], \n",
    "           'name': ['Josh', 'Laura', 'Hayley', \n",
    "                    'Mike', 'Tiffany', 'Anurag',\n",
    "                    'Rocio', 'Eric', 'Monique',\n",
    "                    'Emma'], \n",
    "            'neighbourhood': ['Sunset','West end','Kitsilano', 'Sunset', \n",
    "                              'Arbutus-ridge','Arbutus-ridge', 'Kitsilano', \n",
    "                              'West end','Kitsilano', 'Arbutus-ridge'],\n",
    "            'type': ['full-time', 'part-time', 'part-time', 'full-time', 'part-time',\n",
    "                     'full-time', 'full-time', 'part-time', 'part-time', 'full-time'],\n",
    "            'hourly_rate': [25.0, 27.0, 30.0, 25.5, 32.0,\n",
    "                         26.5, 27.0, 28.0, 25.5, 23.0]}\n",
    "\n",
    "data = pd.DataFrame.from_dict(a_dict)\n",
    "data.head()"
   ]
  },
  {
   "cell_type": "code",
   "execution_count": null,
   "metadata": {},
   "outputs": [],
   "source": [
    "import sampling as sp\n",
    "\n",
    "sp.sample_dataframe(data, 'neighbourhood')"
   ]
  },
  {
   "cell_type": "markdown",
   "metadata": {},
   "source": [
    "Is `sampling.py` formatted properly?\n",
    "\n",
    "Verify with `flake`"
   ]
  },
  {
   "cell_type": "code",
   "execution_count": null,
   "metadata": {},
   "outputs": [],
   "source": [
    "!flake8 sampling.py"
   ]
  },
  {
   "cell_type": "markdown",
   "metadata": {
    "slideshow": {
     "slide_type": "slide"
    }
   },
   "source": [
    "### About Docstrings\n",
    "A programming function is written as:\n",
    "\n",
    "```\n",
    "def <function_name>([<parameters>]):\n",
    "    '''\n",
    "    Docstrings\n",
    "    '''\n",
    "    <statement(s)>\n",
    "    <return>\n",
    "```\n",
    "\n",
    "How do we know how to use the function? The Docstrings section is extremely important."
   ]
  },
  {
   "cell_type": "code",
   "execution_count": null,
   "metadata": {
    "slideshow": {
     "slide_type": "slide"
    }
   },
   "outputs": [],
   "source": [
    "### Accessing the docstrings or documentation\n",
    "\n",
    "?sp.sample_dataframe"
   ]
  },
  {
   "cell_type": "markdown",
   "metadata": {},
   "source": [
    "### Testing files with `pytest`\n",
    "\n",
    "- `Pytest` is a testing framework in Python.\n",
    "    - To test a function, create test functions with names starting with \"test_\" in a file, and then run pytest in the terminal to execute the tests.\n",
    "\n",
    "**Notes to that:**\n",
    "- Testing files, for order, usually live in another folder called tests\n",
    "- For now, we will have them on the same directory.\n",
    "\n",
    "- `pytest` identifies test functions by looking for functions whose names start with `\"test_\"`. When you run `pytest`, it automatically discovers and executes these test functions.\n",
    "    - We do not currently want that because the assignments have a different kind of test (the autograder) - so you **must** specify which file you want to test:\n",
    "\n",
    "```python\n",
    "pytest sampling.py\n",
    "```"
   ]
  },
  {
   "cell_type": "code",
   "execution_count": null,
   "metadata": {},
   "outputs": [],
   "source": [
    "!pytest test_sampling.py"
   ]
  },
  {
   "cell_type": "code",
   "execution_count": null,
   "metadata": {},
   "outputs": [],
   "source": [
    "pwd"
   ]
  },
  {
   "cell_type": "code",
   "execution_count": null,
   "metadata": {},
   "outputs": [],
   "source": []
  },
  {
   "cell_type": "code",
   "execution_count": null,
   "metadata": {},
   "outputs": [],
   "source": []
  },
  {
   "cell_type": "code",
   "execution_count": null,
   "metadata": {},
   "outputs": [],
   "source": []
  },
  {
   "cell_type": "markdown",
   "metadata": {},
   "source": [
    "## Explaining for loops in groupby objects."
   ]
  },
  {
   "cell_type": "code",
   "execution_count": null,
   "metadata": {},
   "outputs": [],
   "source": [
    "import pandas as pd\n",
    "a_dict = {'employee_id': [1873, 4913, 4801, 4540, 3581,\n",
    "                   4534, 1934, 4944, 1983, 1266], \n",
    "           'name': ['Josh', 'Laura', 'Hayley', \n",
    "                    'Mike', 'Tiffany', 'Anurag',\n",
    "                    'Rocio', 'Eric', 'Monique',\n",
    "                    'Emma'], \n",
    "            'neighbourhood': ['Sunset','West end','Kitsilano', 'Sunset', \n",
    "                              'Arbutus-ridge','Arbutus-ridge', 'Kitsilano', \n",
    "                              'West end','Kitsilano', 'Arbutus-ridge'],\n",
    "            'type': ['full-time', 'part-time', 'part-time', 'full-time', 'part-time',\n",
    "                     'full-time', 'full-time', 'part-time', 'part-time', 'full-time'],\n",
    "            'hourly_rate': [25.0, 27.0, 30.0, 25.5, 32.0,\n",
    "                         26.5, 27.0, 28.0, 25.5, 23.0]}\n",
    "\n",
    "data = pd.DataFrame.from_dict(a_dict)\n",
    "data"
   ]
  },
  {
   "cell_type": "code",
   "execution_count": null,
   "metadata": {},
   "outputs": [],
   "source": [
    "data.groupby('type')"
   ]
  },
  {
   "cell_type": "code",
   "execution_count": null,
   "metadata": {},
   "outputs": [],
   "source": [
    "data.groupby('type').get_group('full-time')"
   ]
  },
  {
   "cell_type": "code",
   "execution_count": null,
   "metadata": {},
   "outputs": [],
   "source": [
    "grouped_df = data.groupby('type')"
   ]
  },
  {
   "cell_type": "code",
   "execution_count": null,
   "metadata": {},
   "outputs": [],
   "source": [
    "grouped_df"
   ]
  },
  {
   "cell_type": "markdown",
   "metadata": {},
   "source": [
    "```python\n",
    "for key, value in my_dict.items():\n",
    "        print(key)\n",
    "        print(my_dict[key])\n",
    "        print(value)\n",
    "```"
   ]
  },
  {
   "cell_type": "code",
   "execution_count": null,
   "metadata": {},
   "outputs": [],
   "source": [
    "grouped_df.groups"
   ]
  },
  {
   "cell_type": "code",
   "execution_count": null,
   "metadata": {},
   "outputs": [],
   "source": [
    "for group, rows in grouped_df:\n",
    "    print(\"new iteration\")\n",
    "    print(group)\n",
    "    print(rows)"
   ]
  },
  {
   "cell_type": "code",
   "execution_count": null,
   "metadata": {},
   "outputs": [],
   "source": [
    "for group, rows in grouped_df:\n",
    "    print(rows.sample(1))"
   ]
  },
  {
   "cell_type": "code",
   "execution_count": null,
   "metadata": {},
   "outputs": [],
   "source": [
    "for group, rows in grouped_df:\n",
    "    print(group)"
   ]
  },
  {
   "cell_type": "code",
   "execution_count": null,
   "metadata": {},
   "outputs": [],
   "source": [
    "for group, rows in grouped_df:\n",
    "    print(print(group), rows.sample(1))"
   ]
  }
 ],
 "metadata": {
  "celltoolbar": "Slideshow",
  "interpreter": {
   "hash": "a75bd6151e265d44863ae447c53c96ded6c20b4779439cdccf9ca698d6566769"
  },
  "kernelspec": {
   "display_name": "Python 3 (ipykernel)",
   "language": "python",
   "name": "python3"
  },
  "language_info": {
   "codemirror_mode": {
    "name": "ipython",
    "version": 3
   },
   "file_extension": ".py",
   "mimetype": "text/x-python",
   "name": "python",
   "nbconvert_exporter": "python",
   "pygments_lexer": "ipython3",
   "version": "3.11.4"
  }
 },
 "nbformat": 4,
 "nbformat_minor": 4
}
