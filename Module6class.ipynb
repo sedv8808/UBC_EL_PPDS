{
 "cells": [
  {
   "cell_type": "markdown",
   "metadata": {
    "slideshow": {
     "slide_type": "slide"
    }
   },
   "source": [
    "# UBC\n",
    "## Programming in Python for DS\n",
    "### Week 6\n",
    "Instructor: Socorro Dominguez-Vidana"
   ]
  },
  {
   "cell_type": "markdown",
   "metadata": {},
   "source": [
    "Overview:\n",
    "- [] Evaluate the readability, complexity and performance of a function.\n",
    "- [] Write docstrings for functions following the NumPy/SciPy format.\n",
    "- [] Write comments within a function to improve readability.\n",
    "- [] Write and design functions with default arguments.\n",
    "- [] Explain the importance of scoping and environments in Python as they relate to functions.\n",
    "- [] Formulate test cases to prove a function design specification.\n",
    "- [] Use assert statements to formulate a test case to prove a function design specification.\n",
    "- [] Use test-driven development principles to define a function that accepts parameters, returns values and passes all tests.\n",
    "- [] Handle errors gracefully via exception handling."
   ]
  },
  {
   "cell_type": "code",
   "execution_count": 1,
   "metadata": {},
   "outputs": [
    {
     "data": {
      "text/plain": [
       "{'__name__': '__main__',\n",
       " '__doc__': 'Automatically created module for IPython interactive environment',\n",
       " '__package__': None,\n",
       " '__loader__': None,\n",
       " '__spec__': None,\n",
       " '__builtin__': <module 'builtins' (built-in)>,\n",
       " '__builtins__': <module 'builtins' (built-in)>,\n",
       " '_ih': ['', 'globals()'],\n",
       " '_oh': {},\n",
       " '_dh': [PosixPath('/Users/sedv8808/HT-Data/Instructor/UBC/Instructor/UBC_EL_PPDS')],\n",
       " 'In': ['', 'globals()'],\n",
       " 'Out': {},\n",
       " 'get_ipython': <bound method InteractiveShell.get_ipython of <ipykernel.zmqshell.ZMQInteractiveShell object at 0x10a11fe90>>,\n",
       " 'exit': <IPython.core.autocall.ZMQExitAutocall at 0x10a148690>,\n",
       " 'quit': <IPython.core.autocall.ZMQExitAutocall at 0x10a148690>,\n",
       " 'open': <function io.open(file, mode='r', buffering=-1, encoding=None, errors=None, newline=None, closefd=True, opener=None)>,\n",
       " '_': '',\n",
       " '__': '',\n",
       " '___': '',\n",
       " '__session__': '/Users/sedv8808/HT-Data/Instructor/UBC/Instructor/UBC_EL_PPDS/Module6class.ipynb',\n",
       " '_i': '',\n",
       " '_ii': '',\n",
       " '_iii': '',\n",
       " '_i1': 'globals()'}"
      ]
     },
     "execution_count": 1,
     "metadata": {},
     "output_type": "execute_result"
    }
   ],
   "source": [
    "globals()"
   ]
  },
  {
   "cell_type": "code",
   "execution_count": 5,
   "metadata": {},
   "outputs": [],
   "source": [
    "x = 1"
   ]
  },
  {
   "cell_type": "code",
   "execution_count": 6,
   "metadata": {},
   "outputs": [
    {
     "data": {
      "text/plain": [
       "{'__name__': '__main__',\n",
       " '__doc__': 'Automatically created module for IPython interactive environment',\n",
       " '__package__': None,\n",
       " '__loader__': None,\n",
       " '__spec__': None,\n",
       " '__builtin__': <module 'builtins' (built-in)>,\n",
       " '__builtins__': <module 'builtins' (built-in)>,\n",
       " '_ih': ['',\n",
       "  'globals()',\n",
       "  'list(1,2.5)',\n",
       "  'list((1,2.5))',\n",
       "  'sum((1,2.5))',\n",
       "  'x = 1',\n",
       "  'globals()'],\n",
       " '_oh': {1: {...}, 3: [1, 2.5], 4: 3.5},\n",
       " '_dh': [PosixPath('/Users/sedv8808/HT-Data/Instructor/UBC/Instructor/UBC_EL_PPDS')],\n",
       " 'In': ['',\n",
       "  'globals()',\n",
       "  'list(1,2.5)',\n",
       "  'list((1,2.5))',\n",
       "  'sum((1,2.5))',\n",
       "  'x = 1',\n",
       "  'globals()'],\n",
       " 'Out': {1: {...}, 3: [1, 2.5], 4: 3.5},\n",
       " 'get_ipython': <bound method InteractiveShell.get_ipython of <ipykernel.zmqshell.ZMQInteractiveShell object at 0x10a11fe90>>,\n",
       " 'exit': <IPython.core.autocall.ZMQExitAutocall at 0x10a148690>,\n",
       " 'quit': <IPython.core.autocall.ZMQExitAutocall at 0x10a148690>,\n",
       " 'open': <function io.open(file, mode='r', buffering=-1, encoding=None, errors=None, newline=None, closefd=True, opener=None)>,\n",
       " '_': 3.5,\n",
       " '__': [1, 2.5],\n",
       " '___': {...},\n",
       " '__session__': '/Users/sedv8808/HT-Data/Instructor/UBC/Instructor/UBC_EL_PPDS/Module6class.ipynb',\n",
       " '_i': 'x = 1',\n",
       " '_ii': 'sum((1,2.5))',\n",
       " '_iii': 'list((1,2.5))',\n",
       " '_i1': 'globals()',\n",
       " '_1': {...},\n",
       " '_i2': 'list(1,2.5)',\n",
       " '_i3': 'list((1,2.5))',\n",
       " '_3': [1, 2.5],\n",
       " '_i4': 'sum((1,2.5))',\n",
       " '_4': 3.5,\n",
       " '_i5': 'x = 1',\n",
       " 'x': 1,\n",
       " '_i6': 'globals()'}"
      ]
     },
     "execution_count": 6,
     "metadata": {},
     "output_type": "execute_result"
    }
   ],
   "source": [
    "globals()"
   ]
  },
  {
   "cell_type": "code",
   "execution_count": 7,
   "metadata": {},
   "outputs": [],
   "source": [
    "import pandas as pd"
   ]
  },
  {
   "cell_type": "code",
   "execution_count": 8,
   "metadata": {},
   "outputs": [
    {
     "data": {
      "text/plain": [
       "{'__name__': '__main__',\n",
       " '__doc__': 'Automatically created module for IPython interactive environment',\n",
       " '__package__': None,\n",
       " '__loader__': None,\n",
       " '__spec__': None,\n",
       " '__builtin__': <module 'builtins' (built-in)>,\n",
       " '__builtins__': <module 'builtins' (built-in)>,\n",
       " '_ih': ['',\n",
       "  'globals()',\n",
       "  'list(1,2.5)',\n",
       "  'list((1,2.5))',\n",
       "  'sum((1,2.5))',\n",
       "  'x = 1',\n",
       "  'globals()',\n",
       "  'import pandas as pd',\n",
       "  'globals()'],\n",
       " '_oh': {1: {...}, 3: [1, 2.5], 4: 3.5, 6: {...}},\n",
       " '_dh': [PosixPath('/Users/sedv8808/HT-Data/Instructor/UBC/Instructor/UBC_EL_PPDS')],\n",
       " 'In': ['',\n",
       "  'globals()',\n",
       "  'list(1,2.5)',\n",
       "  'list((1,2.5))',\n",
       "  'sum((1,2.5))',\n",
       "  'x = 1',\n",
       "  'globals()',\n",
       "  'import pandas as pd',\n",
       "  'globals()'],\n",
       " 'Out': {1: {...}, 3: [1, 2.5], 4: 3.5, 6: {...}},\n",
       " 'get_ipython': <bound method InteractiveShell.get_ipython of <ipykernel.zmqshell.ZMQInteractiveShell object at 0x10a11fe90>>,\n",
       " 'exit': <IPython.core.autocall.ZMQExitAutocall at 0x10a148690>,\n",
       " 'quit': <IPython.core.autocall.ZMQExitAutocall at 0x10a148690>,\n",
       " 'open': <function io.open(file, mode='r', buffering=-1, encoding=None, errors=None, newline=None, closefd=True, opener=None)>,\n",
       " '_': {...},\n",
       " '__': 3.5,\n",
       " '___': [1, 2.5],\n",
       " '__session__': '/Users/sedv8808/HT-Data/Instructor/UBC/Instructor/UBC_EL_PPDS/Module6class.ipynb',\n",
       " '_i': 'import pandas as pd',\n",
       " '_ii': 'globals()',\n",
       " '_iii': 'x = 1',\n",
       " '_i1': 'globals()',\n",
       " '_1': {...},\n",
       " '_i2': 'list(1,2.5)',\n",
       " '_i3': 'list((1,2.5))',\n",
       " '_3': [1, 2.5],\n",
       " '_i4': 'sum((1,2.5))',\n",
       " '_4': 3.5,\n",
       " '_i5': 'x = 1',\n",
       " 'x': 1,\n",
       " '_i6': 'globals()',\n",
       " '_6': {...},\n",
       " '_i7': 'import pandas as pd',\n",
       " 'pd': <module 'pandas' from '/Users/sedv8808/miniconda3/lib/python3.11/site-packages/pandas/__init__.py'>,\n",
       " '_i8': 'globals()'}"
      ]
     },
     "execution_count": 8,
     "metadata": {},
     "output_type": "execute_result"
    }
   ],
   "source": [
    "globals()"
   ]
  },
  {
   "cell_type": "markdown",
   "metadata": {
    "slideshow": {
     "slide_type": "slide"
    }
   },
   "source": [
    "### Non built-in functions Review"
   ]
  },
  {
   "cell_type": "markdown",
   "metadata": {},
   "source": [
    "Built-in functions are functions that already exist in Python. We can also have dependencies, such as `pandas` or `altair` that come up with their own set of functions. To access them, we must use:\n",
    "\n",
    "```\n",
    "import pandas as pd\n",
    "```\n",
    "\n",
    "But what happens when we need to create our own functions?"
   ]
  },
  {
   "cell_type": "markdown",
   "metadata": {
    "slideshow": {
     "slide_type": "slide"
    }
   },
   "source": [
    "**Function's Anatomy**\n",
    "\n",
    "How to create a function in `python`\n",
    "\n",
    "```python\n",
    "def <function_name>([<parameters>]):\n",
    "    '''\n",
    "    Docstrings\n",
    "    '''\n",
    "    <statement(s)>\n",
    "    <return>\n",
    "```"
   ]
  },
  {
   "cell_type": "markdown",
   "metadata": {
    "slideshow": {
     "slide_type": "slide"
    }
   },
   "source": [
    "| Component | Meaning|\n",
    "|----| ----|\n",
    "|def | Keyword that informs Python a function is being defined|\n",
    "|<function_name> | A valid Python identifier that names the function |\n",
    "|<parameter(s)> | An optional, comma-separated list of arguments that can be passed to the function |\n",
    "|:| Punctuation that denotes the end of the function header |\n",
    "|'''Docstrings'''| Documentation regarding the function |\n",
    "| <statement(s)> | A block of valid Python statements |\n",
    "| return | What the output is expected to be |"
   ]
  },
  {
   "cell_type": "markdown",
   "metadata": {},
   "source": [
    "## Are our functions always right?"
   ]
  },
  {
   "cell_type": "markdown",
   "metadata": {},
   "source": [
    "**Goal:** Make a function that adds up two given elements `x` and `y`"
   ]
  },
  {
   "cell_type": "code",
   "execution_count": 9,
   "metadata": {},
   "outputs": [],
   "source": [
    "def my_sum(x, y):\n",
    "    \"\"\"\n",
    "    Function to sum up two elements.\n",
    "    \"\"\"\n",
    "    z = x**y\n",
    "    return z"
   ]
  },
  {
   "cell_type": "code",
   "execution_count": 10,
   "metadata": {},
   "outputs": [
    {
     "data": {
      "text/plain": [
       "4"
      ]
     },
     "execution_count": 10,
     "metadata": {},
     "output_type": "execute_result"
    }
   ],
   "source": [
    "my_sum(2, 2)"
   ]
  },
  {
   "cell_type": "code",
   "execution_count": 11,
   "metadata": {},
   "outputs": [
    {
     "data": {
      "text/plain": [
       "2"
      ]
     },
     "execution_count": 11,
     "metadata": {},
     "output_type": "execute_result"
    }
   ],
   "source": [
    "my_sum(2, 1)"
   ]
  },
  {
   "cell_type": "code",
   "execution_count": 12,
   "metadata": {},
   "outputs": [
    {
     "data": {
      "text/plain": [
       "109418989131512359209000000000000000000000000000000000000000000"
      ]
     },
     "execution_count": 12,
     "metadata": {},
     "output_type": "execute_result"
    }
   ],
   "source": [
    "my_sum(30,42)"
   ]
  },
  {
   "cell_type": "markdown",
   "metadata": {},
   "source": [
    "Possibly, no. \n",
    "\n",
    "Coding a function is not just about \"it runs\", you must make sure that it executes properly and what you are intending to automate."
   ]
  },
  {
   "cell_type": "markdown",
   "metadata": {
    "slideshow": {
     "slide_type": "slide"
    }
   },
   "source": [
    "### Example: \n",
    "\n",
    "Suppose you were building an online store with Python. You're working to add a discount coupon functionality to the system so you eventually write the following apply_discount function:"
   ]
  },
  {
   "cell_type": "code",
   "execution_count": 13,
   "metadata": {},
   "outputs": [],
   "source": [
    "shoes = {'price':125}\n",
    "tshirt = {'price': 30}"
   ]
  },
  {
   "cell_type": "code",
   "execution_count": 14,
   "metadata": {
    "slideshow": {
     "slide_type": "slide"
    }
   },
   "outputs": [],
   "source": [
    "def apply_discount(product, discount):\n",
    "    discount = discount/100\n",
    "    price = product['price'] * (1.0 - discount)\n",
    "    return price"
   ]
  },
  {
   "cell_type": "code",
   "execution_count": 15,
   "metadata": {},
   "outputs": [
    {
     "data": {
      "text/plain": [
       "93.75"
      ]
     },
     "execution_count": 15,
     "metadata": {},
     "output_type": "execute_result"
    }
   ],
   "source": [
    "apply_discount(shoes, 25)"
   ]
  },
  {
   "cell_type": "markdown",
   "metadata": {
    "slideshow": {
     "slide_type": "fragment"
    }
   },
   "source": [
    "What are possible errors?"
   ]
  },
  {
   "cell_type": "code",
   "execution_count": 16,
   "metadata": {
    "slideshow": {
     "slide_type": "slide"
    }
   },
   "outputs": [],
   "source": [
    "shoes = {'name': 'Fancy Shoes', \n",
    "         'price': 100}"
   ]
  },
  {
   "cell_type": "markdown",
   "metadata": {},
   "source": [
    "What if I make a discount of 125?"
   ]
  },
  {
   "cell_type": "code",
   "execution_count": 17,
   "metadata": {
    "slideshow": {
     "slide_type": "fragment"
    }
   },
   "outputs": [
    {
     "data": {
      "text/plain": [
       "-25.0"
      ]
     },
     "execution_count": 17,
     "metadata": {},
     "output_type": "execute_result"
    }
   ],
   "source": [
    "apply_discount(shoes, 125)"
   ]
  },
  {
   "cell_type": "markdown",
   "metadata": {},
   "source": [
    "My program is saying that if the client takes my shoes, I must also pay them..."
   ]
  },
  {
   "cell_type": "markdown",
   "metadata": {
    "slideshow": {
     "slide_type": "slide"
    }
   },
   "source": [
    "Or what if, I accidentaly wrote **-25** as I was discounting **25%**?"
   ]
  },
  {
   "cell_type": "code",
   "execution_count": 18,
   "metadata": {
    "scrolled": true,
    "slideshow": {
     "slide_type": "fragment"
    }
   },
   "outputs": [
    {
     "data": {
      "text/plain": [
       "125.0"
      ]
     },
     "execution_count": 18,
     "metadata": {},
     "output_type": "execute_result"
    }
   ],
   "source": [
    "apply_discount(shoes, discount = -25)"
   ]
  },
  {
   "cell_type": "markdown",
   "metadata": {},
   "source": [
    "Now I am saying that a discounted item costs more than it's original price..."
   ]
  },
  {
   "cell_type": "code",
   "execution_count": null,
   "metadata": {},
   "outputs": [],
   "source": []
  },
  {
   "cell_type": "code",
   "execution_count": 25,
   "metadata": {},
   "outputs": [
    {
     "ename": "AssertionError",
     "evalue": "This is false",
     "output_type": "error",
     "traceback": [
      "\u001b[0;31m---------------------------------------------------------------------------\u001b[0m",
      "\u001b[0;31mAssertionError\u001b[0m                            Traceback (most recent call last)",
      "Cell \u001b[0;32mIn[25], line 1\u001b[0m\n\u001b[0;32m----> 1\u001b[0m \u001b[38;5;28;01massert\u001b[39;00m \u001b[38;5;241m2\u001b[39m\u001b[38;5;241m==\u001b[39m\u001b[38;5;241m1\u001b[39m\u001b[38;5;241m+\u001b[39m\u001b[38;5;241m3\u001b[39m, \u001b[38;5;124m\"\u001b[39m\u001b[38;5;124mThis is false\u001b[39m\u001b[38;5;124m\"\u001b[39m\n",
      "\u001b[0;31mAssertionError\u001b[0m: This is false"
     ]
    }
   ],
   "source": [
    "assert 2==1+3, \"This is false\""
   ]
  },
  {
   "cell_type": "markdown",
   "metadata": {
    "slideshow": {
     "slide_type": "slide"
    }
   },
   "source": [
    "## Assert Statements"
   ]
  },
  {
   "cell_type": "markdown",
   "metadata": {
    "slideshow": {
     "slide_type": "subslide"
    }
   },
   "source": [
    "When we define a function, we must not only code carefully, but we must establish a framework that protects the logic of the function. My program should not allow the code to charge customers more when giving a discount. The program shouldn't promise the customers that I will pay them if they buy my product. \n",
    "\n",
    "A `sum` should not be yielding results that do not correspond. \n",
    "\n",
    "Python's **assert** statements are a debugging aid that help us test conditions. They help us *build and protect* the logic of our functions or results.\n",
    "\n",
    "**Note:** `Assert` statements not only live in functions, I can write a hypothesis and then check it as a test to see if the result meets the condition.\n",
    "\n",
    "#### How do `assert` statements work?\n",
    "\n",
    "* If the condition is `true`, it does nothing and the program continues to execute.\n",
    "* If the assert condition evaluates to `false`, it raises an `AssertionError` exception with an optional error message.\n",
    "* Assertions are internal self-checks for your program / results. They work by declaring some conditions as impossible in your code. If one of these conditions doesn't hold that means there's a bug in the program.\n",
    "* If your program is **bug-free**, these conditions will never occur.\n",
    "* If the condictions occur, the program will crash with an assertion error telling you exactly which “impossible” condition was triggered. This makes it easier to track down and fix bugs in your programs."
   ]
  },
  {
   "cell_type": "markdown",
   "metadata": {
    "slideshow": {
     "slide_type": "slide"
    }
   },
   "source": [
    "**Python’s assert statement is a debugging aid. An assertion error should never be raised unless there’s a bug in your program.**"
   ]
  },
  {
   "cell_type": "markdown",
   "metadata": {
    "slideshow": {
     "slide_type": "slide"
    }
   },
   "source": [
    "**Solution for our shop:** Use an assert statement that guarantees that, no matter what, discounted prices cannot be lower than $0 and they cannot be higher than the original price of the product.  \n",
    "\n",
    "\n",
    "Let’s make sure this actually works as intended if we call this function to apply a valid discount:"
   ]
  },
  {
   "cell_type": "code",
   "execution_count": 26,
   "metadata": {},
   "outputs": [],
   "source": [
    "def apply_discount(product, discount):\n",
    "    discount = discount/100\n",
    "    discounted_price = int(product['price'] * (1.0 - discount))\n",
    "    print(discounted_price)\n",
    "    assert 0 < discounted_price, \"We are giving product away and paying the customer.\"\n",
    "    assert discounted_price < product['price'], \"Discounted item is more expensive.\"\n",
    "\n",
    "    return discounted_price"
   ]
  },
  {
   "cell_type": "code",
   "execution_count": 27,
   "metadata": {},
   "outputs": [
    {
     "name": "stdout",
     "output_type": "stream",
     "text": [
      "125\n"
     ]
    },
    {
     "ename": "AssertionError",
     "evalue": "Discounted item is more expensive.",
     "output_type": "error",
     "traceback": [
      "\u001b[0;31m---------------------------------------------------------------------------\u001b[0m",
      "\u001b[0;31mAssertionError\u001b[0m                            Traceback (most recent call last)",
      "Cell \u001b[0;32mIn[27], line 1\u001b[0m\n\u001b[0;32m----> 1\u001b[0m \u001b[43mapply_discount\u001b[49m\u001b[43m(\u001b[49m\u001b[43mshoes\u001b[49m\u001b[43m,\u001b[49m\u001b[43m \u001b[49m\u001b[43mdiscount\u001b[49m\u001b[43m \u001b[49m\u001b[38;5;241;43m=\u001b[39;49m\u001b[43m \u001b[49m\u001b[38;5;241;43m-\u001b[39;49m\u001b[38;5;241;43m25\u001b[39;49m\u001b[43m)\u001b[49m\n",
      "Cell \u001b[0;32mIn[26], line 6\u001b[0m, in \u001b[0;36mapply_discount\u001b[0;34m(product, discount)\u001b[0m\n\u001b[1;32m      4\u001b[0m \u001b[38;5;28mprint\u001b[39m(discounted_price)\n\u001b[1;32m      5\u001b[0m \u001b[38;5;28;01massert\u001b[39;00m \u001b[38;5;241m0\u001b[39m \u001b[38;5;241m<\u001b[39m discounted_price, \u001b[38;5;124m\"\u001b[39m\u001b[38;5;124mWe are giving product away and paying the customer.\u001b[39m\u001b[38;5;124m\"\u001b[39m\n\u001b[0;32m----> 6\u001b[0m \u001b[38;5;28;01massert\u001b[39;00m discounted_price \u001b[38;5;241m<\u001b[39m product[\u001b[38;5;124m'\u001b[39m\u001b[38;5;124mprice\u001b[39m\u001b[38;5;124m'\u001b[39m], \u001b[38;5;124m\"\u001b[39m\u001b[38;5;124mDiscounted item is more expensive.\u001b[39m\u001b[38;5;124m\"\u001b[39m\n\u001b[1;32m      8\u001b[0m \u001b[38;5;28;01mreturn\u001b[39;00m discounted_price\n",
      "\u001b[0;31mAssertionError\u001b[0m: Discounted item is more expensive."
     ]
    }
   ],
   "source": [
    "apply_discount(shoes, discount = -25)"
   ]
  },
  {
   "cell_type": "code",
   "execution_count": 28,
   "metadata": {},
   "outputs": [
    {
     "name": "stdout",
     "output_type": "stream",
     "text": [
      "-25\n"
     ]
    },
    {
     "ename": "AssertionError",
     "evalue": "We are giving product away and paying the customer.",
     "output_type": "error",
     "traceback": [
      "\u001b[0;31m---------------------------------------------------------------------------\u001b[0m",
      "\u001b[0;31mAssertionError\u001b[0m                            Traceback (most recent call last)",
      "Cell \u001b[0;32mIn[28], line 1\u001b[0m\n\u001b[0;32m----> 1\u001b[0m \u001b[43mapply_discount\u001b[49m\u001b[43m(\u001b[49m\u001b[43mshoes\u001b[49m\u001b[43m,\u001b[49m\u001b[43m \u001b[49m\u001b[43mdiscount\u001b[49m\u001b[43m \u001b[49m\u001b[38;5;241;43m=\u001b[39;49m\u001b[43m \u001b[49m\u001b[38;5;241;43m125\u001b[39;49m\u001b[43m)\u001b[49m\n",
      "Cell \u001b[0;32mIn[26], line 5\u001b[0m, in \u001b[0;36mapply_discount\u001b[0;34m(product, discount)\u001b[0m\n\u001b[1;32m      3\u001b[0m discounted_price \u001b[38;5;241m=\u001b[39m \u001b[38;5;28mint\u001b[39m(product[\u001b[38;5;124m'\u001b[39m\u001b[38;5;124mprice\u001b[39m\u001b[38;5;124m'\u001b[39m] \u001b[38;5;241m*\u001b[39m (\u001b[38;5;241m1.0\u001b[39m \u001b[38;5;241m-\u001b[39m discount))\n\u001b[1;32m      4\u001b[0m \u001b[38;5;28mprint\u001b[39m(discounted_price)\n\u001b[0;32m----> 5\u001b[0m \u001b[38;5;28;01massert\u001b[39;00m \u001b[38;5;241m0\u001b[39m \u001b[38;5;241m<\u001b[39m discounted_price, \u001b[38;5;124m\"\u001b[39m\u001b[38;5;124mWe are giving product away and paying the customer.\u001b[39m\u001b[38;5;124m\"\u001b[39m\n\u001b[1;32m      6\u001b[0m \u001b[38;5;28;01massert\u001b[39;00m discounted_price \u001b[38;5;241m<\u001b[39m product[\u001b[38;5;124m'\u001b[39m\u001b[38;5;124mprice\u001b[39m\u001b[38;5;124m'\u001b[39m], \u001b[38;5;124m\"\u001b[39m\u001b[38;5;124mDiscounted item is more expensive.\u001b[39m\u001b[38;5;124m\"\u001b[39m\n\u001b[1;32m      8\u001b[0m \u001b[38;5;28;01mreturn\u001b[39;00m discounted_price\n",
      "\u001b[0;31mAssertionError\u001b[0m: We are giving product away and paying the customer."
     ]
    }
   ],
   "source": [
    "apply_discount(shoes, discount = 125)"
   ]
  },
  {
   "cell_type": "markdown",
   "metadata": {},
   "source": [
    "There might be other possible errors. What if when using the store, we give a 20% discount, but instead of using an `integer`, we use a `string`?"
   ]
  },
  {
   "cell_type": "code",
   "execution_count": 29,
   "metadata": {},
   "outputs": [
    {
     "ename": "TypeError",
     "evalue": "unsupported operand type(s) for /: 'str' and 'int'",
     "output_type": "error",
     "traceback": [
      "\u001b[0;31m---------------------------------------------------------------------------\u001b[0m",
      "\u001b[0;31mTypeError\u001b[0m                                 Traceback (most recent call last)",
      "Cell \u001b[0;32mIn[29], line 1\u001b[0m\n\u001b[0;32m----> 1\u001b[0m \u001b[43mapply_discount\u001b[49m\u001b[43m(\u001b[49m\u001b[43mshoes\u001b[49m\u001b[43m,\u001b[49m\u001b[43m \u001b[49m\u001b[43mdiscount\u001b[49m\u001b[43m \u001b[49m\u001b[38;5;241;43m=\u001b[39;49m\u001b[43m \u001b[49m\u001b[38;5;124;43m'\u001b[39;49m\u001b[38;5;124;43m20\u001b[39;49m\u001b[38;5;124;43m'\u001b[39;49m\u001b[43m)\u001b[49m\n",
      "Cell \u001b[0;32mIn[26], line 2\u001b[0m, in \u001b[0;36mapply_discount\u001b[0;34m(product, discount)\u001b[0m\n\u001b[1;32m      1\u001b[0m \u001b[38;5;28;01mdef\u001b[39;00m \u001b[38;5;21mapply_discount\u001b[39m(product, discount):\n\u001b[0;32m----> 2\u001b[0m     discount \u001b[38;5;241m=\u001b[39m \u001b[43mdiscount\u001b[49m\u001b[38;5;241;43m/\u001b[39;49m\u001b[38;5;241;43m100\u001b[39;49m\n\u001b[1;32m      3\u001b[0m     discounted_price \u001b[38;5;241m=\u001b[39m \u001b[38;5;28mint\u001b[39m(product[\u001b[38;5;124m'\u001b[39m\u001b[38;5;124mprice\u001b[39m\u001b[38;5;124m'\u001b[39m] \u001b[38;5;241m*\u001b[39m (\u001b[38;5;241m1.0\u001b[39m \u001b[38;5;241m-\u001b[39m discount))\n\u001b[1;32m      4\u001b[0m     \u001b[38;5;28mprint\u001b[39m(discounted_price)\n",
      "\u001b[0;31mTypeError\u001b[0m: unsupported operand type(s) for /: 'str' and 'int'"
     ]
    }
   ],
   "source": [
    "apply_discount(shoes, discount = '20')"
   ]
  },
  {
   "cell_type": "markdown",
   "metadata": {},
   "source": [
    "The code will break non gracefully and the message might not always be clear. For this, we need to use a different `error` handling tool to deliver more graceful messages.\n",
    "\n",
    "`raise` statement will intentionally trigger an exception (error) in the execution of a program. When an exceptional condition occurs during program execution, such as encountering invalid input or reaching an unexpected state.\n",
    "\n",
    "`raise` errors will sometimes not even go through the code if we know that the information has not been given correctly.\n",
    "\n",
    "You have been exposed to `raise` errors all the program..."
   ]
  },
  {
   "cell_type": "code",
   "execution_count": 32,
   "metadata": {},
   "outputs": [
    {
     "ename": "AssertionError",
     "evalue": "Expected a ZeroDivisionError but none was raised.",
     "output_type": "error",
     "traceback": [
      "\u001b[0;31m---------------------------------------------------------------------------\u001b[0m",
      "\u001b[0;31mAssertionError\u001b[0m                            Traceback (most recent call last)",
      "Cell \u001b[0;32mIn[32], line 1\u001b[0m\n\u001b[0;32m----> 1\u001b[0m \u001b[38;5;28;01mraise\u001b[39;00m \u001b[38;5;167;01mAssertionError\u001b[39;00m(\u001b[38;5;124m\"\u001b[39m\u001b[38;5;124mExpected a ZeroDivisionError but none was raised.\u001b[39m\u001b[38;5;124m\"\u001b[39m)\n",
      "\u001b[0;31mAssertionError\u001b[0m: Expected a ZeroDivisionError but none was raised."
     ]
    }
   ],
   "source": [
    "raise AssertionError(\"Expected a ZeroDivisionError but none was raised.\")"
   ]
  },
  {
   "cell_type": "code",
   "execution_count": 33,
   "metadata": {},
   "outputs": [
    {
     "ename": "NotImplementedError",
     "evalue": "",
     "output_type": "error",
     "traceback": [
      "\u001b[0;31m---------------------------------------------------------------------------\u001b[0m",
      "\u001b[0;31mNotImplementedError\u001b[0m                       Traceback (most recent call last)",
      "Cell \u001b[0;32mIn[33], line 1\u001b[0m\n\u001b[0;32m----> 1\u001b[0m \u001b[38;5;28;01mraise\u001b[39;00m \u001b[38;5;167;01mNotImplementedError\u001b[39;00m\n",
      "\u001b[0;31mNotImplementedError\u001b[0m: "
     ]
    }
   ],
   "source": [
    "raise NotImplementedError"
   ]
  },
  {
   "cell_type": "markdown",
   "metadata": {},
   "source": [
    "These are messages to let you know that something is missing/wrong. You can raise them when your user is not taking the expected steps as a tool to inform them what they should do."
   ]
  },
  {
   "cell_type": "code",
   "execution_count": 34,
   "metadata": {},
   "outputs": [],
   "source": [
    "def apply_discount(product, discount):\n",
    "    if not isinstance(discount, (int,float)):\n",
    "        raise ValueError(\"parameter `discount` needs to be of numeric type\")\n",
    "    discount = discount/100\n",
    "    discounted_price = int(product['price'] * (1.0 - discount))\n",
    "    #if 0 <= discounted_price:\n",
    "    #    raise AssertionError(\"We are giving product away...\")\n",
    "    assert 0 <= discounted_price, \"We are giving product away and paying the customer.\"\n",
    "    assert discounted_price <= product['price'], \"Discounted item is more expensive.\"\n",
    "\n",
    "    return discounted_price"
   ]
  },
  {
   "cell_type": "code",
   "execution_count": 35,
   "metadata": {},
   "outputs": [
    {
     "ename": "ValueError",
     "evalue": "parameter `discount` needs to be of numeric type",
     "output_type": "error",
     "traceback": [
      "\u001b[0;31m---------------------------------------------------------------------------\u001b[0m",
      "\u001b[0;31mValueError\u001b[0m                                Traceback (most recent call last)",
      "Cell \u001b[0;32mIn[35], line 1\u001b[0m\n\u001b[0;32m----> 1\u001b[0m \u001b[43mapply_discount\u001b[49m\u001b[43m(\u001b[49m\u001b[43mshoes\u001b[49m\u001b[43m,\u001b[49m\u001b[43m \u001b[49m\u001b[43mdiscount\u001b[49m\u001b[43m \u001b[49m\u001b[38;5;241;43m=\u001b[39;49m\u001b[43m \u001b[49m\u001b[38;5;124;43m'\u001b[39;49m\u001b[38;5;124;43m20\u001b[39;49m\u001b[38;5;124;43m'\u001b[39;49m\u001b[43m)\u001b[49m\n",
      "Cell \u001b[0;32mIn[34], line 3\u001b[0m, in \u001b[0;36mapply_discount\u001b[0;34m(product, discount)\u001b[0m\n\u001b[1;32m      1\u001b[0m \u001b[38;5;28;01mdef\u001b[39;00m \u001b[38;5;21mapply_discount\u001b[39m(product, discount):\n\u001b[1;32m      2\u001b[0m     \u001b[38;5;28;01mif\u001b[39;00m \u001b[38;5;129;01mnot\u001b[39;00m \u001b[38;5;28misinstance\u001b[39m(discount, (\u001b[38;5;28mint\u001b[39m,\u001b[38;5;28mfloat\u001b[39m)):\n\u001b[0;32m----> 3\u001b[0m         \u001b[38;5;28;01mraise\u001b[39;00m \u001b[38;5;167;01mValueError\u001b[39;00m(\u001b[38;5;124m\"\u001b[39m\u001b[38;5;124mparameter `discount` needs to be of numeric type\u001b[39m\u001b[38;5;124m\"\u001b[39m)\n\u001b[1;32m      4\u001b[0m     discount \u001b[38;5;241m=\u001b[39m discount\u001b[38;5;241m/\u001b[39m\u001b[38;5;241m100\u001b[39m\n\u001b[1;32m      5\u001b[0m     discounted_price \u001b[38;5;241m=\u001b[39m \u001b[38;5;28mint\u001b[39m(product[\u001b[38;5;124m'\u001b[39m\u001b[38;5;124mprice\u001b[39m\u001b[38;5;124m'\u001b[39m] \u001b[38;5;241m*\u001b[39m (\u001b[38;5;241m1.0\u001b[39m \u001b[38;5;241m-\u001b[39m discount))\n",
      "\u001b[0;31mValueError\u001b[0m: parameter `discount` needs to be of numeric type"
     ]
    }
   ],
   "source": [
    "apply_discount(shoes, discount = '20')"
   ]
  },
  {
   "cell_type": "code",
   "execution_count": 36,
   "metadata": {},
   "outputs": [
    {
     "data": {
      "text/plain": [
       "80"
      ]
     },
     "execution_count": 36,
     "metadata": {},
     "output_type": "execute_result"
    }
   ],
   "source": [
    "apply_discount(shoes, discount = 20)"
   ]
  },
  {
   "cell_type": "markdown",
   "metadata": {},
   "source": [
    "Now, the program breaks as soon as `discount` is of a different type and the message is clearer for anyone using our function."
   ]
  },
  {
   "cell_type": "markdown",
   "metadata": {},
   "source": [
    "### Documentation:\n",
    "\n",
    "If a new person was to use our function, they might have to navigate to the source code to try to figure out what parameters exist or how to use it properly. Could you imagine going through the source code of every pandas function you have used just to learn/guess how to use it?\n",
    "\n",
    "No... You probably rather use the documentation. \n",
    "\n",
    "Our functions should always be docuemented for the following reasons:\n",
    "\n",
    "- **Clarity and Understanding:** Documentation provides clear explanations of what a function does, its parameters, return values, and any side effects. This helps other developers (and your future self) understand the purpose and usage of the function without having to read through its code.\n",
    "\n",
    "- **Usage Guidance:** Documentation guides users on how to properly use the function, including expected input types, constraints, and potential pitfalls to avoid. This reduces errors and misunderstandings when using the function.\n",
    "\n",
    "- **Maintainability:** Documentation aids in maintaining and updating code by providing context and insights into the function's design and intended usage. It helps other developers make changes or enhancements without inadvertently breaking existing functionality.\n",
    "\n",
    "There are many \"styles\" for documentation but for this class we use the **SciPy/NumPy** format (think of it as a writing style:\n",
    "\n",
    "\n",
    " | Element    |                  Description                 |\n",
    " | ---------  | ------------------------------------  |\n",
    " | Function Name  | Brief description of the function's purpose. |\n",
    " | Parameters    | Explanation of parameters |\n",
    " | Returns  | Description of what the function returns and type of value. |"
   ]
  },
  {
   "cell_type": "code",
   "execution_count": 37,
   "metadata": {},
   "outputs": [],
   "source": [
    "def apply_discount(product, discount):\n",
    "    '''\n",
    "    apply_discount\n",
    "    This is where you write your documentation\n",
    "    Inputs:\n",
    "    -------\n",
    "    product: *dict* name of the product\n",
    "    discount: *int* or *float* percentage 0 to 100 that you want to discount\n",
    "\n",
    "    Returns:\n",
    "    -------\n",
    "    price *float*, new price after discount\n",
    "\n",
    "    Example:\n",
    "    apply_discount(shoes, 25)\n",
    "    '''\n",
    "    if not isinstance(discount, (int, float)):\n",
    "        raise ValueError(\"parameter `discount` needs to be of numeric type\")\n",
    "    discount = discount/100\n",
    "    discounted_price = int(product['price'] * (1.0 - discount))\n",
    "    assert 0 <= discounted_price, \"We are giving product away and paying the customer.\"\n",
    "    assert discounted_price <= product['price'], \"Discounted item is more expensive.\"\n",
    "\n",
    "    return discounted_price"
   ]
  },
  {
   "cell_type": "markdown",
   "metadata": {},
   "source": [
    "Now you can access the documentation using \n",
    "```python\n",
    "?apply_discount\n",
    "```"
   ]
  },
  {
   "cell_type": "code",
   "execution_count": 38,
   "metadata": {},
   "outputs": [
    {
     "data": {
      "text/plain": [
       "\u001b[0;31mSignature:\u001b[0m \u001b[0mapply_discount\u001b[0m\u001b[0;34m(\u001b[0m\u001b[0mproduct\u001b[0m\u001b[0;34m,\u001b[0m \u001b[0mdiscount\u001b[0m\u001b[0;34m)\u001b[0m\u001b[0;34m\u001b[0m\u001b[0;34m\u001b[0m\u001b[0m\n",
       "\u001b[0;31mDocstring:\u001b[0m\n",
       "apply_discount\n",
       "This is where you write your documentation\n",
       "Inputs:\n",
       "-------\n",
       "product: *dict* name of the product\n",
       "discount: *int* or *float* percentage 0 to 100 that you want to discount\n",
       "\n",
       "Returns:\n",
       "-------\n",
       "price *float*, new price after discount\n",
       "\n",
       "Example:\n",
       "apply_discount(shoes, 25)\n",
       "\u001b[0;31mFile:\u001b[0m      /var/folders/9k/yl_4hbsx18x4t12kqpmmd2zw0000gn/T/ipykernel_6976/1584528468.py\n",
       "\u001b[0;31mType:\u001b[0m      function"
      ]
     },
     "metadata": {},
     "output_type": "display_data"
    }
   ],
   "source": [
    "?apply_discount"
   ]
  },
  {
   "cell_type": "markdown",
   "metadata": {},
   "source": [
    "### Testing\n",
    "When creating python functions; we also create `test` functions.\n",
    "\n",
    "We put most of our tests (assertions) in a different function that has the prefix `test_`\n",
    "\n",
    "We do this because we use `pytest` to evaluate a complete set of tests. \n",
    "`pytest` is a testing framework for Python that simplifies the process of writing and executing test cases. It provides a wide range of features and capabilities for writing concise and maintainable tests.\n",
    "\n",
    "A `test_ fuction`'s anatomy is similar to any other function, however, we call the original function **inside** and we also pass in some `toy` data so that the original function can be executed.\n",
    "\n",
    "**Toy data** refers to small, simplified not true datasets/observations that are often used for testing. We use `toy data` because it allows us to do the function \"by hand\" and know what the expected answer is. Then we can see if the function is really doing what we think it should be doing.\n",
    "\n",
    "See how a test function is done. Read through the comments."
   ]
  },
  {
   "cell_type": "code",
   "execution_count": 61,
   "metadata": {},
   "outputs": [
    {
     "ename": "ValueError",
     "evalue": "parameter `discount` needs to be of numeric type",
     "output_type": "error",
     "traceback": [
      "\u001b[0;31m---------------------------------------------------------------------------\u001b[0m",
      "\u001b[0;31mValueError\u001b[0m                                Traceback (most recent call last)",
      "Cell \u001b[0;32mIn[61], line 15\u001b[0m\n\u001b[1;32m     12\u001b[0m     \u001b[38;5;66;03m# Test functions usually return None; if you look at your assignment tests, you will see that it returns \"Success\"\u001b[39;00m\n\u001b[1;32m     13\u001b[0m     \u001b[38;5;28;01mreturn\u001b[39;00m\n\u001b[0;32m---> 15\u001b[0m \u001b[43mtest_apply_discount\u001b[49m\u001b[43m(\u001b[49m\u001b[43m)\u001b[49m\n",
      "Cell \u001b[0;32mIn[61], line 11\u001b[0m, in \u001b[0;36mtest_apply_discount\u001b[0;34m()\u001b[0m\n\u001b[1;32m      7\u001b[0m \u001b[38;5;28;01massert\u001b[39;00m \u001b[38;5;241m0\u001b[39m \u001b[38;5;241m<\u001b[39m\u001b[38;5;241m=\u001b[39m apply_discount(shoes, \u001b[38;5;241m12.0\u001b[39m), \u001b[38;5;124m\"\u001b[39m\u001b[38;5;124mWe are giving product away and paying the customer.\u001b[39m\u001b[38;5;124m\"\u001b[39m\n\u001b[1;32m      8\u001b[0m \u001b[38;5;66;03m# Second original assert\u001b[39;00m\n\u001b[1;32m      9\u001b[0m \u001b[38;5;66;03m#assert discounted_price <= product['price'], \"Discounted item is more expensive.\"\u001b[39;00m\n\u001b[1;32m     10\u001b[0m \u001b[38;5;66;03m# Using the function we want to test\u001b[39;00m\n\u001b[0;32m---> 11\u001b[0m \u001b[38;5;28;01massert\u001b[39;00m \u001b[43mapply_discount\u001b[49m\u001b[43m(\u001b[49m\u001b[43mshoes\u001b[49m\u001b[43m,\u001b[49m\u001b[43m \u001b[49m\u001b[38;5;124;43m'\u001b[39;49m\u001b[38;5;124;43m25.0\u001b[39;49m\u001b[38;5;124;43m'\u001b[39;49m\u001b[43m)\u001b[49m \u001b[38;5;241m<\u001b[39m\u001b[38;5;241m=\u001b[39m shoes[\u001b[38;5;124m'\u001b[39m\u001b[38;5;124mprice\u001b[39m\u001b[38;5;124m'\u001b[39m], \u001b[38;5;124m\"\u001b[39m\u001b[38;5;124mAm I charging the customer extra money????\u001b[39m\u001b[38;5;124m\"\u001b[39m\n\u001b[1;32m     12\u001b[0m \u001b[38;5;66;03m# Test functions usually return None; if you look at your assignment tests, you will see that it returns \"Success\"\u001b[39;00m\n\u001b[1;32m     13\u001b[0m \u001b[38;5;28;01mreturn\u001b[39;00m\n",
      "Cell \u001b[0;32mIn[37], line 18\u001b[0m, in \u001b[0;36mapply_discount\u001b[0;34m(product, discount)\u001b[0m\n\u001b[1;32m      2\u001b[0m \u001b[38;5;250m\u001b[39m\u001b[38;5;124;03m'''\u001b[39;00m\n\u001b[1;32m      3\u001b[0m \u001b[38;5;124;03mapply_discount\u001b[39;00m\n\u001b[1;32m      4\u001b[0m \u001b[38;5;124;03mThis is where you write your documentation\u001b[39;00m\n\u001b[0;32m   (...)\u001b[0m\n\u001b[1;32m     15\u001b[0m \u001b[38;5;124;03mapply_discount(shoes, 25)\u001b[39;00m\n\u001b[1;32m     16\u001b[0m \u001b[38;5;124;03m'''\u001b[39;00m\n\u001b[1;32m     17\u001b[0m \u001b[38;5;28;01mif\u001b[39;00m \u001b[38;5;129;01mnot\u001b[39;00m \u001b[38;5;28misinstance\u001b[39m(discount, (\u001b[38;5;28mint\u001b[39m, \u001b[38;5;28mfloat\u001b[39m)):\n\u001b[0;32m---> 18\u001b[0m     \u001b[38;5;28;01mraise\u001b[39;00m \u001b[38;5;167;01mValueError\u001b[39;00m(\u001b[38;5;124m\"\u001b[39m\u001b[38;5;124mparameter `discount` needs to be of numeric type\u001b[39m\u001b[38;5;124m\"\u001b[39m)\n\u001b[1;32m     19\u001b[0m discount \u001b[38;5;241m=\u001b[39m discount\u001b[38;5;241m/\u001b[39m\u001b[38;5;241m100\u001b[39m\n\u001b[1;32m     20\u001b[0m discounted_price \u001b[38;5;241m=\u001b[39m \u001b[38;5;28mint\u001b[39m(product[\u001b[38;5;124m'\u001b[39m\u001b[38;5;124mprice\u001b[39m\u001b[38;5;124m'\u001b[39m] \u001b[38;5;241m*\u001b[39m (\u001b[38;5;241m1.0\u001b[39m \u001b[38;5;241m-\u001b[39m discount))\n",
      "\u001b[0;31mValueError\u001b[0m: parameter `discount` needs to be of numeric type"
     ]
    }
   ],
   "source": [
    "def test_apply_discount():\n",
    "    # Toy data\n",
    "    shoes = {'name': 'Fancy Shoes', 'price': 320} \n",
    "    # The original assert I had earlier\n",
    "    # assert 0 <= discounted_price, \"We are giving product away and paying the customer.\"\n",
    "    # See how instead of asserting on discounted_price, I actually use the function apply_discount:\n",
    "    assert 0 <= apply_discount(shoes, 12.0), \"We are giving product away and paying the customer.\"\n",
    "    # Second original assert\n",
    "    #assert discounted_price <= product['price'], \"Discounted item is more expensive.\"\n",
    "    # Using the function we want to test\n",
    "    assert apply_discount(shoes, '25.0') <= shoes['price'], \"Am I charging the customer extra money????\"\n",
    "    # Test functions usually return None; if you look at your assignment tests, you will see that it returns \"Success\"\n",
    "    return\n",
    "\n",
    "test_apply_discount()"
   ]
  },
  {
   "cell_type": "code",
   "execution_count": 60,
   "metadata": {},
   "outputs": [
    {
     "ename": "ValueError",
     "evalue": "parameter `discount` needs to be of numeric type",
     "output_type": "error",
     "traceback": [
      "\u001b[0;31m---------------------------------------------------------------------------\u001b[0m",
      "\u001b[0;31mValueError\u001b[0m                                Traceback (most recent call last)",
      "Cell \u001b[0;32mIn[60], line 1\u001b[0m\n\u001b[0;32m----> 1\u001b[0m \u001b[43mapply_discount\u001b[49m\u001b[43m(\u001b[49m\u001b[43mshoes\u001b[49m\u001b[43m,\u001b[49m\u001b[43m \u001b[49m\u001b[38;5;124;43m'\u001b[39;49m\u001b[38;5;124;43m25.0\u001b[39;49m\u001b[38;5;124;43m'\u001b[39;49m\u001b[43m)\u001b[49m\n",
      "Cell \u001b[0;32mIn[37], line 18\u001b[0m, in \u001b[0;36mapply_discount\u001b[0;34m(product, discount)\u001b[0m\n\u001b[1;32m      2\u001b[0m \u001b[38;5;250m\u001b[39m\u001b[38;5;124;03m'''\u001b[39;00m\n\u001b[1;32m      3\u001b[0m \u001b[38;5;124;03mapply_discount\u001b[39;00m\n\u001b[1;32m      4\u001b[0m \u001b[38;5;124;03mThis is where you write your documentation\u001b[39;00m\n\u001b[0;32m   (...)\u001b[0m\n\u001b[1;32m     15\u001b[0m \u001b[38;5;124;03mapply_discount(shoes, 25)\u001b[39;00m\n\u001b[1;32m     16\u001b[0m \u001b[38;5;124;03m'''\u001b[39;00m\n\u001b[1;32m     17\u001b[0m \u001b[38;5;28;01mif\u001b[39;00m \u001b[38;5;129;01mnot\u001b[39;00m \u001b[38;5;28misinstance\u001b[39m(discount, (\u001b[38;5;28mint\u001b[39m, \u001b[38;5;28mfloat\u001b[39m)):\n\u001b[0;32m---> 18\u001b[0m     \u001b[38;5;28;01mraise\u001b[39;00m \u001b[38;5;167;01mValueError\u001b[39;00m(\u001b[38;5;124m\"\u001b[39m\u001b[38;5;124mparameter `discount` needs to be of numeric type\u001b[39m\u001b[38;5;124m\"\u001b[39m)\n\u001b[1;32m     19\u001b[0m discount \u001b[38;5;241m=\u001b[39m discount\u001b[38;5;241m/\u001b[39m\u001b[38;5;241m100\u001b[39m\n\u001b[1;32m     20\u001b[0m discounted_price \u001b[38;5;241m=\u001b[39m \u001b[38;5;28mint\u001b[39m(product[\u001b[38;5;124m'\u001b[39m\u001b[38;5;124mprice\u001b[39m\u001b[38;5;124m'\u001b[39m] \u001b[38;5;241m*\u001b[39m (\u001b[38;5;241m1.0\u001b[39m \u001b[38;5;241m-\u001b[39m discount))\n",
      "\u001b[0;31mValueError\u001b[0m: parameter `discount` needs to be of numeric type"
     ]
    }
   ],
   "source": [
    "apply_discount(shoes, '25.0')"
   ]
  },
  {
   "cell_type": "code",
   "execution_count": 51,
   "metadata": {},
   "outputs": [],
   "source": [
    "assert apply_discount(shoes, 25) < shoes['price'], \"I am giving more\""
   ]
  },
  {
   "cell_type": "code",
   "execution_count": 52,
   "metadata": {},
   "outputs": [
    {
     "data": {
      "text/html": [
       "<div>\n",
       "<style scoped>\n",
       "    .dataframe tbody tr th:only-of-type {\n",
       "        vertical-align: middle;\n",
       "    }\n",
       "\n",
       "    .dataframe tbody tr th {\n",
       "        vertical-align: top;\n",
       "    }\n",
       "\n",
       "    .dataframe thead th {\n",
       "        text-align: right;\n",
       "    }\n",
       "</style>\n",
       "<table border=\"1\" class=\"dataframe\">\n",
       "  <thead>\n",
       "    <tr style=\"text-align: right;\">\n",
       "      <th></th>\n",
       "      <th>Animal</th>\n",
       "      <th>Speed</th>\n",
       "    </tr>\n",
       "  </thead>\n",
       "  <tbody>\n",
       "    <tr>\n",
       "      <th>0</th>\n",
       "      <td>Falcon</td>\n",
       "      <td>10</td>\n",
       "    </tr>\n",
       "    <tr>\n",
       "      <th>1</th>\n",
       "      <td>Falcon</td>\n",
       "      <td>11</td>\n",
       "    </tr>\n",
       "    <tr>\n",
       "      <th>2</th>\n",
       "      <td>Parrot</td>\n",
       "      <td>12</td>\n",
       "    </tr>\n",
       "    <tr>\n",
       "      <th>3</th>\n",
       "      <td>Parrot</td>\n",
       "      <td>14</td>\n",
       "    </tr>\n",
       "  </tbody>\n",
       "</table>\n",
       "</div>"
      ],
      "text/plain": [
       "   Animal  Speed\n",
       "0  Falcon     10\n",
       "1  Falcon     11\n",
       "2  Parrot     12\n",
       "3  Parrot     14"
      ]
     },
     "execution_count": 52,
     "metadata": {},
     "output_type": "execute_result"
    }
   ],
   "source": [
    "import pandas as pd\n",
    "\n",
    "data = {'Animal': ['Falcon', 'Falcon', 'Parrot', 'Parrot'],\n",
    "        'Speed': [10,11,12,14]}\n",
    "\n",
    "df = pd.DataFrame(data)\n",
    "df"
   ]
  },
  {
   "cell_type": "code",
   "execution_count": 59,
   "metadata": {},
   "outputs": [
    {
     "data": {
      "text/html": [
       "<div>\n",
       "<style scoped>\n",
       "    .dataframe tbody tr th:only-of-type {\n",
       "        vertical-align: middle;\n",
       "    }\n",
       "\n",
       "    .dataframe tbody tr th {\n",
       "        vertical-align: top;\n",
       "    }\n",
       "\n",
       "    .dataframe thead th {\n",
       "        text-align: right;\n",
       "    }\n",
       "</style>\n",
       "<table border=\"1\" class=\"dataframe\">\n",
       "  <thead>\n",
       "    <tr style=\"text-align: right;\">\n",
       "      <th></th>\n",
       "      <th>Animal</th>\n",
       "      <th>Speed</th>\n",
       "    </tr>\n",
       "  </thead>\n",
       "  <tbody>\n",
       "    <tr>\n",
       "      <th>2</th>\n",
       "      <td>Parrot</td>\n",
       "      <td>12</td>\n",
       "    </tr>\n",
       "    <tr>\n",
       "      <th>3</th>\n",
       "      <td>Parrot</td>\n",
       "      <td>14</td>\n",
       "    </tr>\n",
       "  </tbody>\n",
       "</table>\n",
       "</div>"
      ],
      "text/plain": [
       "   Animal  Speed\n",
       "2  Parrot     12\n",
       "3  Parrot     14"
      ]
     },
     "execution_count": 59,
     "metadata": {},
     "output_type": "execute_result"
    }
   ],
   "source": [
    "df.groupby('Animal').get_group('Parrot')"
   ]
  },
  {
   "cell_type": "code",
   "execution_count": 42,
   "metadata": {},
   "outputs": [],
   "source": [
    "def apply_discount2(item, discount):\n",
    "    ?\n",
    "    pass"
   ]
  },
  {
   "cell_type": "code",
   "execution_count": 46,
   "metadata": {},
   "outputs": [],
   "source": [
    "def test_apply_discount2():\n",
    "    assert apply_discount2(shoes, 25) <= shoes['price'], \"false\"\n",
    "    pass\n",
    "#test_apply_discount2()"
   ]
  },
  {
   "cell_type": "markdown",
   "metadata": {},
   "source": [
    "We may cheat for now... we are only going to write tests that pass easily. But you should actually also check that your functions return errors."
   ]
  },
  {
   "cell_type": "code",
   "execution_count": 67,
   "metadata": {},
   "outputs": [],
   "source": [
    "# Out of scope but for your reference\n",
    "\n",
    "def test_apply_discount():\n",
    "    # Toy data\n",
    "    shoes = {'name': 'Fancy Shoes', 'price': 320} \n",
    "    assert 0 <= apply_discount(shoes, 12.0), \"We are giving product away and paying the customer.\"\n",
    "    assert apply_discount(shoes, 25.0) <= shoes['price'], \"Am I charging the customer extra money????\"\n",
    "    # assert apply_discount(shoes, -25.0) == Error?\n",
    "    try:\n",
    "        apply_discount(shoes, -25.0)\n",
    "    except AssertionError:\n",
    "        pass\n",
    "    else:\n",
    "        raise AssertionError(\"This was supposed to be an error\")\n",
    "    try:\n",
    "        apply_discount(shoes, '10')\n",
    "    except ValueError:\n",
    "        pass\n",
    "    else:\n",
    "        raise AssertionError\n",
    "    return\n",
    "test_apply_discount()"
   ]
  },
  {
   "cell_type": "code",
   "execution_count": 66,
   "metadata": {},
   "outputs": [
    {
     "ename": "AssertionError",
     "evalue": "Discounted item is more expensive.",
     "output_type": "error",
     "traceback": [
      "\u001b[0;31m---------------------------------------------------------------------------\u001b[0m",
      "\u001b[0;31mAssertionError\u001b[0m                            Traceback (most recent call last)",
      "Cell \u001b[0;32mIn[66], line 1\u001b[0m\n\u001b[0;32m----> 1\u001b[0m \u001b[43mapply_discount\u001b[49m\u001b[43m(\u001b[49m\u001b[43mshoes\u001b[49m\u001b[43m,\u001b[49m\u001b[43m \u001b[49m\u001b[38;5;241;43m-\u001b[39;49m\u001b[38;5;241;43m25.0\u001b[39;49m\u001b[43m)\u001b[49m\n",
      "Cell \u001b[0;32mIn[37], line 22\u001b[0m, in \u001b[0;36mapply_discount\u001b[0;34m(product, discount)\u001b[0m\n\u001b[1;32m     20\u001b[0m discounted_price \u001b[38;5;241m=\u001b[39m \u001b[38;5;28mint\u001b[39m(product[\u001b[38;5;124m'\u001b[39m\u001b[38;5;124mprice\u001b[39m\u001b[38;5;124m'\u001b[39m] \u001b[38;5;241m*\u001b[39m (\u001b[38;5;241m1.0\u001b[39m \u001b[38;5;241m-\u001b[39m discount))\n\u001b[1;32m     21\u001b[0m \u001b[38;5;28;01massert\u001b[39;00m \u001b[38;5;241m0\u001b[39m \u001b[38;5;241m<\u001b[39m\u001b[38;5;241m=\u001b[39m discounted_price, \u001b[38;5;124m\"\u001b[39m\u001b[38;5;124mWe are giving product away and paying the customer.\u001b[39m\u001b[38;5;124m\"\u001b[39m\n\u001b[0;32m---> 22\u001b[0m \u001b[38;5;28;01massert\u001b[39;00m discounted_price \u001b[38;5;241m<\u001b[39m\u001b[38;5;241m=\u001b[39m product[\u001b[38;5;124m'\u001b[39m\u001b[38;5;124mprice\u001b[39m\u001b[38;5;124m'\u001b[39m], \u001b[38;5;124m\"\u001b[39m\u001b[38;5;124mDiscounted item is more expensive.\u001b[39m\u001b[38;5;124m\"\u001b[39m\n\u001b[1;32m     24\u001b[0m \u001b[38;5;28;01mreturn\u001b[39;00m discounted_price\n",
      "\u001b[0;31mAssertionError\u001b[0m: Discounted item is more expensive."
     ]
    }
   ],
   "source": [
    "apply_discount(shoes, -25.0)"
   ]
  },
  {
   "cell_type": "markdown",
   "metadata": {},
   "source": [
    "If there is no output above, that means that the tests are not breaking. :) \n",
    "\n",
    "If they were breaking, we will see `AssertionErrors`\n",
    "\n",
    "Testing is a tough work. Usually, you have to ask your users to see when the function is giving errors that you didn't foresee and will have to be updating the testing functions as well as fixing those errors."
   ]
  },
  {
   "cell_type": "code",
   "execution_count": 68,
   "metadata": {},
   "outputs": [
    {
     "ename": "AssertionError",
     "evalue": "Discounted item is more expensive.",
     "output_type": "error",
     "traceback": [
      "\u001b[0;31m---------------------------------------------------------------------------\u001b[0m",
      "\u001b[0;31mAssertionError\u001b[0m                            Traceback (most recent call last)",
      "Cell \u001b[0;32mIn[68], line 1\u001b[0m\n\u001b[0;32m----> 1\u001b[0m \u001b[43mapply_discount\u001b[49m\u001b[43m(\u001b[49m\u001b[43mshoes\u001b[49m\u001b[43m,\u001b[49m\u001b[43m \u001b[49m\u001b[38;5;241;43m-\u001b[39;49m\u001b[38;5;241;43m12.0\u001b[39;49m\u001b[43m)\u001b[49m\n",
      "Cell \u001b[0;32mIn[37], line 22\u001b[0m, in \u001b[0;36mapply_discount\u001b[0;34m(product, discount)\u001b[0m\n\u001b[1;32m     20\u001b[0m discounted_price \u001b[38;5;241m=\u001b[39m \u001b[38;5;28mint\u001b[39m(product[\u001b[38;5;124m'\u001b[39m\u001b[38;5;124mprice\u001b[39m\u001b[38;5;124m'\u001b[39m] \u001b[38;5;241m*\u001b[39m (\u001b[38;5;241m1.0\u001b[39m \u001b[38;5;241m-\u001b[39m discount))\n\u001b[1;32m     21\u001b[0m \u001b[38;5;28;01massert\u001b[39;00m \u001b[38;5;241m0\u001b[39m \u001b[38;5;241m<\u001b[39m\u001b[38;5;241m=\u001b[39m discounted_price, \u001b[38;5;124m\"\u001b[39m\u001b[38;5;124mWe are giving product away and paying the customer.\u001b[39m\u001b[38;5;124m\"\u001b[39m\n\u001b[0;32m---> 22\u001b[0m \u001b[38;5;28;01massert\u001b[39;00m discounted_price \u001b[38;5;241m<\u001b[39m\u001b[38;5;241m=\u001b[39m product[\u001b[38;5;124m'\u001b[39m\u001b[38;5;124mprice\u001b[39m\u001b[38;5;124m'\u001b[39m], \u001b[38;5;124m\"\u001b[39m\u001b[38;5;124mDiscounted item is more expensive.\u001b[39m\u001b[38;5;124m\"\u001b[39m\n\u001b[1;32m     24\u001b[0m \u001b[38;5;28;01mreturn\u001b[39;00m discounted_price\n",
      "\u001b[0;31mAssertionError\u001b[0m: Discounted item is more expensive."
     ]
    }
   ],
   "source": [
    "apply_discount(shoes, -12.0)"
   ]
  },
  {
   "cell_type": "code",
   "execution_count": 69,
   "metadata": {},
   "outputs": [
    {
     "name": "stdout",
     "output_type": "stream",
     "text": [
      "this code will fail gracefully and can continue to be executed\n"
     ]
    }
   ],
   "source": [
    "shoes = {'name': 'Fancy Shoes', 'price': 320} \n",
    "try:\n",
    "    apply_discount(shoes, -12.0)\n",
    "except Exception:\n",
    "    print(\"this code will fail gracefully and can continue to be executed\")"
   ]
  },
  {
   "cell_type": "code",
   "execution_count": null,
   "metadata": {},
   "outputs": [],
   "source": []
  }
 ],
 "metadata": {
  "celltoolbar": "Slideshow",
  "interpreter": {
   "hash": "a75bd6151e265d44863ae447c53c96ded6c20b4779439cdccf9ca698d6566769"
  },
  "kernelspec": {
   "display_name": "Python 3 (ipykernel)",
   "language": "python",
   "name": "python3"
  },
  "language_info": {
   "codemirror_mode": {
    "name": "ipython",
    "version": 3
   },
   "file_extension": ".py",
   "mimetype": "text/x-python",
   "name": "python",
   "nbconvert_exporter": "python",
   "pygments_lexer": "ipython3",
   "version": "3.11.4"
  }
 },
 "nbformat": 4,
 "nbformat_minor": 4
}
