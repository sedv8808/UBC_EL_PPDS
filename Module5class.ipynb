{
 "cells": [
  {
   "cell_type": "markdown",
   "metadata": {
    "slideshow": {
     "slide_type": "slide"
    }
   },
   "source": [
    "# UBC\n",
    "## Programming in Python for DS\n",
    "### Week 5\n",
    "Instructor: Socorro Dominguez-Vidana"
   ]
  },
  {
   "cell_type": "markdown",
   "metadata": {},
   "source": [
    "Overview:\n",
    "- [] Explain the DRY principle and how it can be useful.\n",
    "- [] Write conditional statements with `if`, `elif` and `else` to run different code, depending on the input.\n",
    "- [] Write `for` loops to repeatedly run code.\n",
    "- [] Describe the expected outcome of code with nested loops.\n",
    "- [] Define and use a function that accepts parameters and returns values."
   ]
  },
  {
   "cell_type": "code",
   "execution_count": 1,
   "metadata": {
    "slideshow": {
     "slide_type": "skip"
    }
   },
   "outputs": [],
   "source": [
    "import numpy as np\n",
    "import pandas as pd"
   ]
  },
  {
   "cell_type": "markdown",
   "metadata": {},
   "source": [
    "### `if` statements"
   ]
  },
  {
   "cell_type": "markdown",
   "metadata": {},
   "source": [
    "`if` statements help us check conditions. \n",
    "Here we can state, what happens if we don't have the key in our second dictionary.\n",
    "\n",
    "**Note: Review booleans**"
   ]
  },
  {
   "cell_type": "code",
   "execution_count": 2,
   "metadata": {},
   "outputs": [
    {
     "data": {
      "text/plain": [
       "True"
      ]
     },
     "execution_count": 2,
     "metadata": {},
     "output_type": "execute_result"
    }
   ],
   "source": [
    "True"
   ]
  },
  {
   "cell_type": "code",
   "execution_count": 3,
   "metadata": {},
   "outputs": [
    {
     "data": {
      "text/plain": [
       "False"
      ]
     },
     "execution_count": 3,
     "metadata": {},
     "output_type": "execute_result"
    }
   ],
   "source": [
    "3 == 1+1"
   ]
  },
  {
   "cell_type": "code",
   "execution_count": 4,
   "metadata": {},
   "outputs": [
    {
     "name": "stdout",
     "output_type": "stream",
     "text": [
      "x 's value is not 2 nor 3\n"
     ]
    }
   ],
   "source": [
    "x = 1\n",
    "\n",
    "if x == 2:\n",
    "    #Do something if the condition is met\n",
    "    print(\"x has the value 2\")\n",
    "elif x == 3:\n",
    "    print(\"x has the value 3\")\n",
    "else:\n",
    "    print(\"x 's value is not 2 nor 3\")"
   ]
  },
  {
   "cell_type": "markdown",
   "metadata": {},
   "source": [
    "You can also check if an element exists in another element. For example, is `2` in a list that I have?"
   ]
  },
  {
   "cell_type": "code",
   "execution_count": 5,
   "metadata": {},
   "outputs": [],
   "source": [
    "my_list = [1,2,3,5,7]"
   ]
  },
  {
   "cell_type": "code",
   "execution_count": 6,
   "metadata": {},
   "outputs": [
    {
     "data": {
      "text/plain": [
       "False"
      ]
     },
     "execution_count": 6,
     "metadata": {},
     "output_type": "execute_result"
    }
   ],
   "source": [
    "10 in my_list"
   ]
  },
  {
   "cell_type": "code",
   "execution_count": 7,
   "metadata": {},
   "outputs": [
    {
     "name": "stdout",
     "output_type": "stream",
     "text": [
      "2 is in the list\n"
     ]
    }
   ],
   "source": [
    "if 2 in my_list:\n",
    "    print(\"2 is in the list\")\n",
    "else:\n",
    "    print(\"Print this other line\")"
   ]
  },
  {
   "cell_type": "markdown",
   "metadata": {},
   "source": [
    "Sometimes, if the 1st condition is not met, we simply want to continue running the code that is not related to that statement."
   ]
  },
  {
   "cell_type": "code",
   "execution_count": 8,
   "metadata": {},
   "outputs": [
    {
     "name": "stdout",
     "output_type": "stream",
     "text": [
      "2 is in the list\n",
      "10 is not in the list\n",
      "Print this other line\n"
     ]
    }
   ],
   "source": [
    "if 2 in my_list:\n",
    "    print(\"2 is in the list\")\n",
    "    if 10 in my_list:\n",
    "        print(\"10 is in the list\")\n",
    "    else:\n",
    "        print(\"10 is not in the list\")\n",
    "else:\n",
    "    print(\"2 is not in the list\")\n",
    "print(\"Print this other line\")"
   ]
  },
  {
   "cell_type": "markdown",
   "metadata": {},
   "source": [
    "**NOTE:** When you have nested `if` statements and they all have `else` statements attached to them, make sure to close the inner most `if` before closing the outer `if`.\n",
    "\n",
    "```python\n",
    "if x == 2:\n",
    "    print(\"1st condition met\")\n",
    "    if 2 in my_list:\n",
    "        print(\"2nd condition met\")\n",
    "        if 2 in list:\n",
    "            #steps to do\n",
    "        elif 3 in list:\n",
    "            #steps\n",
    "        else:\n",
    "            #steps to do\n",
    "    else:\n",
    "        print(\"1st condition met. 2nd condition not met\")\n",
    "elif x == 3:\n",
    "    # do other steps\n",
    "else:\n",
    "    # other steps\n",
    "```"
   ]
  },
  {
   "cell_type": "markdown",
   "metadata": {},
   "source": [
    "### `for` loops"
   ]
  },
  {
   "cell_type": "markdown",
   "metadata": {},
   "source": [
    "Imagine you had a list of numbers. \n",
    "\n",
    "You want to add **5** to each number. "
   ]
  },
  {
   "cell_type": "code",
   "execution_count": 9,
   "metadata": {},
   "outputs": [],
   "source": [
    "a_list = [1, 4, 5, 10, 11]\n"
   ]
  },
  {
   "cell_type": "markdown",
   "metadata": {},
   "source": [
    "Would you do:\n",
    "```python\n",
    "a_list[0] = a_list[0] + 5\n",
    "a_list[1] = a_list[1] + 5\n",
    "a_list[2] = a_list[0] + 5\n",
    "a_list[3] = a_list[3] + 5\n",
    "a_list[4] = a_list[4] + 5\n",
    "```\n",
    "?\n",
    "\n",
    "That looks risky and **error-prone**.\n",
    "\n",
    "To avoid repeating ourselves, and avoid making errors, we use `for` loops: a way to repeat a set of instructions for a specified number of times or for each item in an iterative element (such as a list)."
   ]
  },
  {
   "cell_type": "markdown",
   "metadata": {},
   "source": [
    "How does a `for` loop work:\n",
    "\n",
    "```python\n",
    "for item in a_collection:\n",
    "    # set of instructions\n",
    "    print(item)\n",
    "```\n",
    "\n",
    "- `for` is a keyword to initialize the for loop.\n",
    "- `item` is a variable - you can name it whatever you want (not just `item`; it is a placeholder **variable** that you will be calling inside the for loop.\n",
    "- `in` is also a keyword to specify in which iterator you will be looping through.\n",
    "- `:` indicates that you will start the instructions block."
   ]
  },
  {
   "cell_type": "code",
   "execution_count": 10,
   "metadata": {},
   "outputs": [
    {
     "data": {
      "text/plain": [
       "[1, 4, 5, 10, 11]"
      ]
     },
     "execution_count": 10,
     "metadata": {},
     "output_type": "execute_result"
    }
   ],
   "source": [
    "a_list"
   ]
  },
  {
   "cell_type": "code",
   "execution_count": 11,
   "metadata": {},
   "outputs": [
    {
     "name": "stdout",
     "output_type": "stream",
     "text": [
      "1\n",
      "4\n",
      "5\n",
      "10\n",
      "11\n"
     ]
    }
   ],
   "source": [
    "for i in a_list:\n",
    "    print(i)"
   ]
  },
  {
   "cell_type": "code",
   "execution_count": 12,
   "metadata": {},
   "outputs": [],
   "source": [
    "b_list = ['a', 'b', 'c']"
   ]
  },
  {
   "cell_type": "code",
   "execution_count": 13,
   "metadata": {},
   "outputs": [
    {
     "name": "stdout",
     "output_type": "stream",
     "text": [
      "a\n",
      "b\n",
      "c\n"
     ]
    }
   ],
   "source": [
    "# If you need to access the indices of the list:\n",
    "for i in range(0, len(b_list)):\n",
    "    print(b_list[i])"
   ]
  },
  {
   "cell_type": "code",
   "execution_count": 14,
   "metadata": {},
   "outputs": [
    {
     "data": {
      "text/plain": [
       "[1, 4, 5, 10, 11]"
      ]
     },
     "execution_count": 14,
     "metadata": {},
     "output_type": "execute_result"
    }
   ],
   "source": [
    "a_list"
   ]
  },
  {
   "cell_type": "code",
   "execution_count": 15,
   "metadata": {},
   "outputs": [
    {
     "name": "stdout",
     "output_type": "stream",
     "text": [
      "<class 'int'>\n",
      "hello\n",
      "<class 'int'>\n",
      "hello\n",
      "<class 'int'>\n",
      "hello\n",
      "<class 'int'>\n",
      "hello\n",
      "<class 'int'>\n",
      "hello\n"
     ]
    }
   ],
   "source": [
    "x = 4\n",
    "for i in a_list:\n",
    "    print(type(i))\n",
    "    print(\"hello\")"
   ]
  },
  {
   "cell_type": "code",
   "execution_count": 16,
   "metadata": {},
   "outputs": [
    {
     "name": "stdout",
     "output_type": "stream",
     "text": [
      "hey!\n",
      "1\n",
      "hey!\n",
      "4\n",
      "hey!\n",
      "5\n",
      "hey!\n",
      "10\n",
      "hey!\n",
      "11\n"
     ]
    }
   ],
   "source": [
    "for idx in a_list: # see how I didn't name it i\n",
    "    print(\"hey!\")\n",
    "    print(idx)"
   ]
  },
  {
   "cell_type": "markdown",
   "metadata": {},
   "source": [
    "To play more with your `for` loops, explore the following link:\n",
    "[Python Tutor](https://pythontutor.com/)"
   ]
  },
  {
   "cell_type": "markdown",
   "metadata": {},
   "source": [
    "What if we want to modify a list?\n",
    "Remember we saw `.append()`  last module. \n",
    "However, remember it had a special way of working."
   ]
  },
  {
   "cell_type": "code",
   "execution_count": 17,
   "metadata": {},
   "outputs": [],
   "source": [
    "import numpy as np\n",
    "a_list.append(None)"
   ]
  },
  {
   "cell_type": "markdown",
   "metadata": {},
   "source": [
    "**Never** do\n",
    "```python\n",
    "a_list = a_list.append(4)\n",
    "```\n",
    "as this will overwrite your list with a `NoneType` value\n",
    "\n",
    "The correct way is:\n",
    "```python\n",
    "a_list.append(4)\n",
    "```"
   ]
  },
  {
   "cell_type": "code",
   "execution_count": 18,
   "metadata": {},
   "outputs": [],
   "source": [
    "a_list = [1, 4, 5, 10]"
   ]
  },
  {
   "cell_type": "code",
   "execution_count": 19,
   "metadata": {},
   "outputs": [
    {
     "name": "stdout",
     "output_type": "stream",
     "text": [
      "Number is now 1\n",
      "y is now 11\n",
      "Finished steps, next iteration\n",
      "Number is now 4\n",
      "y is now 14\n",
      "Finished steps, next iteration\n",
      "Number is now 5\n",
      "y is now 15\n",
      "Finished steps, next iteration\n",
      "Number is now 10\n",
      "y is now 20\n",
      "Finished steps, next iteration\n"
     ]
    }
   ],
   "source": [
    "new_list = [] # Initialize a new list to append new values\n",
    "for number in a_list:\n",
    "    print(f\"Number is now {number}\")\n",
    "    y = number + 10\n",
    "    print(f\"y is now {y}\")\n",
    "    new_list.append(y)\n",
    "    print(\"Finished steps, next iteration\")"
   ]
  },
  {
   "cell_type": "code",
   "execution_count": 20,
   "metadata": {},
   "outputs": [
    {
     "data": {
      "text/plain": [
       "[11, 14, 15, 20]"
      ]
     },
     "execution_count": 20,
     "metadata": {},
     "output_type": "execute_result"
    }
   ],
   "source": [
    "new_list"
   ]
  },
  {
   "cell_type": "code",
   "execution_count": 21,
   "metadata": {},
   "outputs": [],
   "source": [
    "# Sometimes you will also be counting or adding steps/things\n",
    "counter = 0 # Initialize the counter\n",
    "for number in new_list:\n",
    "    if number >=15:\n",
    "        counter += 1"
   ]
  },
  {
   "cell_type": "code",
   "execution_count": 22,
   "metadata": {},
   "outputs": [
    {
     "data": {
      "text/plain": [
       "2"
      ]
     },
     "execution_count": 22,
     "metadata": {},
     "output_type": "execute_result"
    }
   ],
   "source": [
    "counter"
   ]
  },
  {
   "cell_type": "markdown",
   "metadata": {},
   "source": [
    "If you don't initialize the list or counter, you will find the following error:\n",
    "<!-- language: Python -->\n",
    "\n",
    "    NameError: {variable} is not defined.\n",
    "\n",
    "The ` +=` is the same as calling the variable and adding a number; example:\n",
    "\n",
    "```python\n",
    "counter += 1\n",
    "counter = counter + 1\n",
    "```"
   ]
  },
  {
   "cell_type": "markdown",
   "metadata": {},
   "source": [
    "Sometimes, you will also have **nested** `for` loops."
   ]
  },
  {
   "cell_type": "code",
   "execution_count": 23,
   "metadata": {},
   "outputs": [
    {
     "data": {
      "text/plain": [
       "[1, 4, 5, 10]"
      ]
     },
     "execution_count": 23,
     "metadata": {},
     "output_type": "execute_result"
    }
   ],
   "source": [
    "a_list"
   ]
  },
  {
   "cell_type": "code",
   "execution_count": 24,
   "metadata": {},
   "outputs": [
    {
     "data": {
      "text/plain": [
       "['a', 'b', 'c']"
      ]
     },
     "execution_count": 24,
     "metadata": {},
     "output_type": "execute_result"
    }
   ],
   "source": [
    "another_list = ['a','b','c']\n",
    "another_list"
   ]
  },
  {
   "cell_type": "code",
   "execution_count": 25,
   "metadata": {},
   "outputs": [
    {
     "name": "stdout",
     "output_type": "stream",
     "text": [
      "first loop\n",
      "second loop\n",
      "1 a\n",
      "second loop\n",
      "1 b\n",
      "second loop\n",
      "1 c\n",
      "first loop\n",
      "second loop\n",
      "4 a\n",
      "second loop\n",
      "4 b\n",
      "second loop\n",
      "4 c\n",
      "first loop\n",
      "second loop\n",
      "5 a\n",
      "second loop\n",
      "5 b\n",
      "second loop\n",
      "5 c\n",
      "first loop\n",
      "second loop\n",
      "10 a\n",
      "second loop\n",
      "10 b\n",
      "second loop\n",
      "10 c\n"
     ]
    }
   ],
   "source": [
    "for number in a_list:\n",
    "    print(\"first loop\")\n",
    "    for letter in another_list:\n",
    "        print(\"second loop\")\n",
    "        print(number, letter)"
   ]
  },
  {
   "cell_type": "markdown",
   "metadata": {},
   "source": [
    "```python\n",
    "number = 1\n",
    "    letter = 'a'\n",
    "    letter = 'b'\n",
    "    letter = 'c'\n",
    "number = 4\n",
    "    letter = 'a'\n",
    "    letter = 'b'\n",
    "    letter = 'c'\n",
    "...\n",
    "```\n",
    "    "
   ]
  },
  {
   "cell_type": "markdown",
   "metadata": {},
   "source": [
    "Regarding variable/placeholder naming: make it something meaningful and self-explanatory."
   ]
  },
  {
   "cell_type": "markdown",
   "metadata": {},
   "source": [
    "## `for` loops in a `dictionary`"
   ]
  },
  {
   "cell_type": "markdown",
   "metadata": {},
   "source": [
    "```python\n",
    "my_dict['pasta']\n",
    "```"
   ]
  },
  {
   "cell_type": "markdown",
   "metadata": {},
   "source": [
    "Let's remember the structure of a dictionary:\n",
    "\n",
    "```python\n",
    "\n",
    "my_pantry = {'pasta': 3, 'garlic': 4,'sauce': 2,\n",
    "             'basil': 2, 'salt': 3, 'olive oil': 3,\n",
    "             'rice': 3, 'bread': 3}\n",
    "```\n",
    "\n",
    "Who are the `keys` and `values`?"
   ]
  },
  {
   "cell_type": "code",
   "execution_count": 26,
   "metadata": {},
   "outputs": [],
   "source": [
    "my_pantry = {'pasta': 3, 'garlic': 4,'sauce': 2,\n",
    "             'basil': 2, 'salt': 3, 'olive oil': 3,\n",
    "             'rice': 3, 'bread': 3}"
   ]
  },
  {
   "cell_type": "code",
   "execution_count": 27,
   "metadata": {},
   "outputs": [
    {
     "data": {
      "text/plain": [
       "dict_keys(['pasta', 'garlic', 'sauce', 'basil', 'salt', 'olive oil', 'rice', 'bread'])"
      ]
     },
     "execution_count": 27,
     "metadata": {},
     "output_type": "execute_result"
    }
   ],
   "source": [
    "my_pantry.keys()"
   ]
  },
  {
   "cell_type": "code",
   "execution_count": 28,
   "metadata": {},
   "outputs": [
    {
     "data": {
      "text/plain": [
       "dict_values([3, 4, 2, 2, 3, 3, 3, 3])"
      ]
     },
     "execution_count": 28,
     "metadata": {},
     "output_type": "execute_result"
    }
   ],
   "source": [
    "my_pantry.values()"
   ]
  },
  {
   "cell_type": "code",
   "execution_count": 29,
   "metadata": {},
   "outputs": [
    {
     "data": {
      "text/plain": [
       "dict_items([('pasta', 3), ('garlic', 4), ('sauce', 2), ('basil', 2), ('salt', 3), ('olive oil', 3), ('rice', 3), ('bread', 3)])"
      ]
     },
     "execution_count": 29,
     "metadata": {},
     "output_type": "execute_result"
    }
   ],
   "source": [
    "my_pantry.items()"
   ]
  },
  {
   "cell_type": "code",
   "execution_count": 30,
   "metadata": {},
   "outputs": [
    {
     "data": {
      "text/plain": [
       "4"
      ]
     },
     "execution_count": 30,
     "metadata": {},
     "output_type": "execute_result"
    }
   ],
   "source": [
    "my_pantry['garlic']"
   ]
  },
  {
   "cell_type": "markdown",
   "metadata": {},
   "source": [
    "The trick:\n",
    "> Remember that to access a dictionary's key's value, you can do:\n",
    ">```python\n",
    "my_pantry['pasta']\n",
    "```"
   ]
  },
  {
   "cell_type": "markdown",
   "metadata": {},
   "source": [
    "```python\n",
    "my_shopping['pasta']\n",
    "my_pantry['pasta']\n",
    "\n",
    "ing = \"pasta\"\n",
    "my_shopping[ing] - my_pantry[ing]\n",
    "```"
   ]
  },
  {
   "cell_type": "markdown",
   "metadata": {},
   "source": [
    "How can we iterate over them?"
   ]
  },
  {
   "cell_type": "code",
   "execution_count": 31,
   "metadata": {},
   "outputs": [
    {
     "name": "stdout",
     "output_type": "stream",
     "text": [
      "pasta 3\n",
      "garlic 4\n",
      "sauce 2\n",
      "basil 2\n",
      "salt 3\n",
      "olive oil 3\n",
      "rice 3\n",
      "bread 3\n"
     ]
    }
   ],
   "source": [
    "for i in my_pantry:\n",
    "    print(i, my_pantry[i])\n",
    "    #print(f\"Key: {key} - value: {my_pantry[key]}\")\n",
    "    "
   ]
  },
  {
   "cell_type": "code",
   "execution_count": 32,
   "metadata": {},
   "outputs": [
    {
     "name": "stdout",
     "output_type": "stream",
     "text": [
      "3\n",
      "4\n",
      "2\n",
      "2\n",
      "3\n",
      "3\n",
      "3\n",
      "3\n"
     ]
    }
   ],
   "source": [
    "# You can print only the values / or keys\n",
    "for value in my_pantry.values():\n",
    "    print(value)"
   ]
  },
  {
   "cell_type": "code",
   "execution_count": 33,
   "metadata": {},
   "outputs": [
    {
     "data": {
      "text/plain": [
       "dict_items([('pasta', 3), ('garlic', 4), ('sauce', 2), ('basil', 2), ('salt', 3), ('olive oil', 3), ('rice', 3), ('bread', 3)])"
      ]
     },
     "execution_count": 33,
     "metadata": {},
     "output_type": "execute_result"
    }
   ],
   "source": [
    "my_pantry.items()"
   ]
  },
  {
   "cell_type": "code",
   "execution_count": 34,
   "metadata": {},
   "outputs": [
    {
     "name": "stdout",
     "output_type": "stream",
     "text": [
      "pasta 3\n",
      "garlic 4\n",
      "sauce 2\n",
      "basil 2\n",
      "salt 3\n",
      "olive oil 3\n",
      "rice 3\n",
      "bread 3\n"
     ]
    }
   ],
   "source": [
    "# For dictionary vs dictionary comparison, avoid this one.\n",
    "for key, value in my_pantry.items():\n",
    "    print(key, value)"
   ]
  },
  {
   "cell_type": "markdown",
   "metadata": {},
   "source": [
    "Which is more convenient if you are comparing two dictionaries that have the same keys?"
   ]
  },
  {
   "cell_type": "code",
   "execution_count": 35,
   "metadata": {},
   "outputs": [
    {
     "data": {
      "text/plain": [
       "{'pasta': 3,\n",
       " 'garlic': 4,\n",
       " 'sauce': 2,\n",
       " 'basil': 2,\n",
       " 'salt': 3,\n",
       " 'olive oil': 3,\n",
       " 'rice': 3,\n",
       " 'bread': 3}"
      ]
     },
     "execution_count": 35,
     "metadata": {},
     "output_type": "execute_result"
    }
   ],
   "source": [
    "my_pantry"
   ]
  },
  {
   "cell_type": "code",
   "execution_count": 36,
   "metadata": {},
   "outputs": [
    {
     "data": {
      "text/plain": [
       "{'pasta': 2,\n",
       " 'garlic': 1,\n",
       " 'sauce': 0,\n",
       " 'basil': 1,\n",
       " 'salt': 5,\n",
       " 'olive oil': 4,\n",
       " 'rice': 1,\n",
       " 'bread': 5,\n",
       " 'something': 0}"
      ]
     },
     "execution_count": 36,
     "metadata": {},
     "output_type": "execute_result"
    }
   ],
   "source": [
    "cooking_dict = {'pasta': 2, 'garlic': 1, 'sauce':0,\n",
    "             'basil': 1, 'salt': 5, 'olive oil': 4,\n",
    "             'rice': 1, 'bread': 5, 'something':0}\n",
    "cooking_dict"
   ]
  },
  {
   "cell_type": "code",
   "execution_count": 37,
   "metadata": {},
   "outputs": [
    {
     "data": {
      "text/plain": [
       "False"
      ]
     },
     "execution_count": 37,
     "metadata": {},
     "output_type": "execute_result"
    }
   ],
   "source": [
    "my_pantry['pasta']<cooking_dict['pasta']"
   ]
  },
  {
   "cell_type": "markdown",
   "metadata": {},
   "source": [
    "If the problem is, what do I need to shop based on a `recipe`and a `pantry`, think of the steps you would take in your everyday life:\n",
    "\n",
    "1. Download recipe (no code for this one)\n",
    "2. Look down at ingredient 1\n",
    "3. See if I have ingredient 1 in my pantry\n",
    "4. If I do, do I have enough?\n",
    "5. If I have enough, do nothing.\n",
    "6. If I don't have enough, how much more do I need?\n",
    "7. If I don't even have the ingredient, add it to the list."
   ]
  },
  {
   "cell_type": "code",
   "execution_count": 38,
   "metadata": {},
   "outputs": [
    {
     "data": {
      "text/plain": [
       "{'pasta': 1,\n",
       " 'garlic': 3,\n",
       " 'sauce': 2,\n",
       " 'basil': 1,\n",
       " 'salt': -2,\n",
       " 'olive oil': -1,\n",
       " 'rice': 2,\n",
       " 'bread': -2}"
      ]
     },
     "execution_count": 38,
     "metadata": {},
     "output_type": "execute_result"
    }
   ],
   "source": [
    "shopping_dict = {}\n",
    "for ingredient in cooking_dict:\n",
    "    if ingredient in my_pantry:\n",
    "        shopping_dict[ingredient] = my_pantry[ingredient] - cooking_dict[ingredient]\n",
    "\n",
    "shopping_dict"
   ]
  },
  {
   "cell_type": "code",
   "execution_count": 39,
   "metadata": {},
   "outputs": [
    {
     "data": {
      "text/plain": [
       "{'pasta': 3,\n",
       " 'garlic': 4,\n",
       " 'sauce': 2,\n",
       " 'basil': 2,\n",
       " 'salt': 3,\n",
       " 'olive oil': 3,\n",
       " 'rice': 3,\n",
       " 'bread': 3}"
      ]
     },
     "execution_count": 39,
     "metadata": {},
     "output_type": "execute_result"
    }
   ],
   "source": [
    "my_pantry"
   ]
  },
  {
   "cell_type": "code",
   "execution_count": 40,
   "metadata": {},
   "outputs": [
    {
     "data": {
      "text/plain": [
       "{'pasta': 2,\n",
       " 'garlic': 1,\n",
       " 'sauce': 0,\n",
       " 'basil': 1,\n",
       " 'salt': 5,\n",
       " 'olive oil': 4,\n",
       " 'rice': 1,\n",
       " 'bread': 5,\n",
       " 'something': 0}"
      ]
     },
     "execution_count": 40,
     "metadata": {},
     "output_type": "execute_result"
    }
   ],
   "source": [
    "cooking_dict"
   ]
  },
  {
   "cell_type": "markdown",
   "metadata": {},
   "source": [
    "- We want to compare the values.\n",
    "- However, we want to compare the values BASED on each item.\n",
    "- I want to compare `pasta` against `pasta` and `olive oil` against `olive oil`."
   ]
  },
  {
   "cell_type": "markdown",
   "metadata": {},
   "source": [
    "> What happens if I add 'pickles' only to  cooking_dict."
   ]
  },
  {
   "cell_type": "code",
   "execution_count": 41,
   "metadata": {},
   "outputs": [],
   "source": [
    "cooking_dict = {'pasta': 2, 'garlic': 1,\n",
    "             'basil': 1, 'salt': 5, 'olive oil': 4,\n",
    "             'rice': 1, 'bread': 5, 'pickles':5}"
   ]
  },
  {
   "cell_type": "code",
   "execution_count": 42,
   "metadata": {},
   "outputs": [
    {
     "name": "stdout",
     "output_type": "stream",
     "text": [
      "-1\n",
      "-3\n",
      "-1\n",
      "2\n",
      "1\n",
      "-2\n",
      "2\n"
     ]
    }
   ],
   "source": [
    "for ingredient in cooking_dict:\n",
    "    if ingredient in my_pantry:\n",
    "        print(cooking_dict[ingredient] - my_pantry[ingredient])\n",
    "    else:\n",
    "        shopping_dict[ingredient] = cooking_dict[ingredient]\n",
    "        "
   ]
  },
  {
   "cell_type": "markdown",
   "metadata": {},
   "source": [
    "### Creating a new dictionary where we can save the values:"
   ]
  },
  {
   "cell_type": "code",
   "execution_count": 43,
   "metadata": {},
   "outputs": [
    {
     "name": "stdout",
     "output_type": "stream",
     "text": [
      "pickles not available\n"
     ]
    },
    {
     "data": {
      "text/plain": [
       "{'pasta': -1,\n",
       " 'garlic': -3,\n",
       " 'basil': -1,\n",
       " 'salt': 2,\n",
       " 'olive oil': 1,\n",
       " 'rice': -2,\n",
       " 'bread': 2}"
      ]
     },
     "execution_count": 43,
     "metadata": {},
     "output_type": "execute_result"
    }
   ],
   "source": [
    "shopping_dict = {}\n",
    "for ingredient in cooking_dict:\n",
    "    if ingredient in my_pantry:\n",
    "        shopping_dict[ingredient] = cooking_dict[ingredient] - my_pantry[ingredient]\n",
    "    else: \n",
    "        print(f\"{ingredient} not available\")\n",
    "        # You have to think how you handle this case. \n",
    "        # How would you add the whole key and value \n",
    "        # to your shopping list.\n",
    "shopping_dict"
   ]
  },
  {
   "cell_type": "markdown",
   "metadata": {
    "slideshow": {
     "slide_type": "slide"
    },
    "tags": []
   },
   "source": [
    "## Functions"
   ]
  },
  {
   "cell_type": "markdown",
   "metadata": {
    "slideshow": {
     "slide_type": "fragment"
    }
   },
   "source": [
    "A function is a relationship or mapping between one or more inputs and a set of outputs.\n",
    "\n",
    "In mathematics, we represent a function typically like this:\n",
    "\n",
    "> $z = f(x,y)$\n",
    "\n",
    "> $ y = mx + b$\n",
    "\n",
    "* $z$ is the output.\n",
    "* $x$ and $y$ are the inputs.\n",
    "* $f()$ represents \"what happens\" in the function."
   ]
  },
  {
   "cell_type": "markdown",
   "metadata": {
    "slideshow": {
     "slide_type": "slide"
    }
   },
   "source": [
    "For example:\n",
    "> $z = sum(x, y)$\n",
    "\n",
    "When $x = 3$ and $y = 2$, then:  \n",
    "> $5 = sum(3, 2)$  \n",
    "> $11 = sum(6, 5)$"
   ]
  },
  {
   "cell_type": "markdown",
   "metadata": {},
   "source": [
    "#### Built-in Functions"
   ]
  },
  {
   "cell_type": "code",
   "execution_count": 1,
   "metadata": {},
   "outputs": [],
   "source": [
    "a = [1,2,4]"
   ]
  },
  {
   "cell_type": "code",
   "execution_count": 3,
   "metadata": {
    "slideshow": {
     "slide_type": "fragment"
    }
   },
   "outputs": [
    {
     "data": {
      "text/plain": [
       "3"
      ]
     },
     "execution_count": 3,
     "metadata": {},
     "output_type": "execute_result"
    }
   ],
   "source": [
    "len(a)"
   ]
  },
  {
   "cell_type": "code",
   "execution_count": 7,
   "metadata": {},
   "outputs": [
    {
     "data": {
      "text/plain": [
       "{'__name__': '__main__',\n",
       " '__doc__': 'Automatically created module for IPython interactive environment',\n",
       " '__package__': None,\n",
       " '__loader__': None,\n",
       " '__spec__': None,\n",
       " '__builtin__': <module 'builtins' (built-in)>,\n",
       " '__builtins__': <module 'builtins' (built-in)>,\n",
       " '_ih': ['',\n",
       "  'a = [1,2,4]',\n",
       "  'sum(a)',\n",
       "  'len(a)',\n",
       "  'globals()',\n",
       "  \"pd.read_csv('data/file.csv')\",\n",
       "  'import pandas as pd',\n",
       "  'globals()'],\n",
       " '_oh': {2: 7, 3: 3, 4: {...}},\n",
       " '_dh': [PosixPath('/Users/sedv8808/HT-Data/Instructor/UBC/Instructor/UBC_EL_PPDS')],\n",
       " 'In': ['',\n",
       "  'a = [1,2,4]',\n",
       "  'sum(a)',\n",
       "  'len(a)',\n",
       "  'globals()',\n",
       "  \"pd.read_csv('data/file.csv')\",\n",
       "  'import pandas as pd',\n",
       "  'globals()'],\n",
       " 'Out': {2: 7, 3: 3, 4: {...}},\n",
       " 'get_ipython': <bound method InteractiveShell.get_ipython of <ipykernel.zmqshell.ZMQInteractiveShell object at 0x106dc6850>>,\n",
       " 'exit': <IPython.core.autocall.ZMQExitAutocall at 0x106dd70d0>,\n",
       " 'quit': <IPython.core.autocall.ZMQExitAutocall at 0x106dd70d0>,\n",
       " 'open': <function io.open(file, mode='r', buffering=-1, encoding=None, errors=None, newline=None, closefd=True, opener=None)>,\n",
       " '_': {...},\n",
       " '__': 3,\n",
       " '___': 7,\n",
       " '__session__': '/Users/sedv8808/HT-Data/Instructor/UBC/Instructor/UBC_EL_PPDS/Module5class.ipynb',\n",
       " '_i': 'import pandas as pd',\n",
       " '_ii': \"pd.read_csv('data/file.csv')\",\n",
       " '_iii': 'globals()',\n",
       " '_i1': 'a = [1,2,4]',\n",
       " 'a': [1, 2, 4],\n",
       " '_i2': 'sum(a)',\n",
       " '_2': 7,\n",
       " '_i3': 'len(a)',\n",
       " '_3': 3,\n",
       " '_i4': 'globals()',\n",
       " '_4': {...},\n",
       " '_i5': \"pd.read_csv('data/file.csv')\",\n",
       " '_i6': 'import pandas as pd',\n",
       " 'pd': <module 'pandas' from '/Users/sedv8808/miniconda3/lib/python3.11/site-packages/pandas/__init__.py'>,\n",
       " '_i7': 'globals()'}"
      ]
     },
     "execution_count": 7,
     "metadata": {},
     "output_type": "execute_result"
    }
   ],
   "source": [
    "globals()"
   ]
  },
  {
   "cell_type": "code",
   "execution_count": 8,
   "metadata": {},
   "outputs": [
    {
     "ename": "FileNotFoundError",
     "evalue": "[Errno 2] No such file or directory: 'data/file.csv'",
     "output_type": "error",
     "traceback": [
      "\u001b[0;31m---------------------------------------------------------------------------\u001b[0m",
      "\u001b[0;31mFileNotFoundError\u001b[0m                         Traceback (most recent call last)",
      "Cell \u001b[0;32mIn[8], line 1\u001b[0m\n\u001b[0;32m----> 1\u001b[0m \u001b[43mpd\u001b[49m\u001b[38;5;241;43m.\u001b[39;49m\u001b[43mread_csv\u001b[49m\u001b[43m(\u001b[49m\u001b[38;5;124;43m'\u001b[39;49m\u001b[38;5;124;43mdata/file.csv\u001b[39;49m\u001b[38;5;124;43m'\u001b[39;49m\u001b[43m)\u001b[49m\n",
      "File \u001b[0;32m~/miniconda3/lib/python3.11/site-packages/pandas/io/parsers/readers.py:912\u001b[0m, in \u001b[0;36mread_csv\u001b[0;34m(filepath_or_buffer, sep, delimiter, header, names, index_col, usecols, dtype, engine, converters, true_values, false_values, skipinitialspace, skiprows, skipfooter, nrows, na_values, keep_default_na, na_filter, verbose, skip_blank_lines, parse_dates, infer_datetime_format, keep_date_col, date_parser, date_format, dayfirst, cache_dates, iterator, chunksize, compression, thousands, decimal, lineterminator, quotechar, quoting, doublequote, escapechar, comment, encoding, encoding_errors, dialect, on_bad_lines, delim_whitespace, low_memory, memory_map, float_precision, storage_options, dtype_backend)\u001b[0m\n\u001b[1;32m    899\u001b[0m kwds_defaults \u001b[38;5;241m=\u001b[39m _refine_defaults_read(\n\u001b[1;32m    900\u001b[0m     dialect,\n\u001b[1;32m    901\u001b[0m     delimiter,\n\u001b[0;32m   (...)\u001b[0m\n\u001b[1;32m    908\u001b[0m     dtype_backend\u001b[38;5;241m=\u001b[39mdtype_backend,\n\u001b[1;32m    909\u001b[0m )\n\u001b[1;32m    910\u001b[0m kwds\u001b[38;5;241m.\u001b[39mupdate(kwds_defaults)\n\u001b[0;32m--> 912\u001b[0m \u001b[38;5;28;01mreturn\u001b[39;00m \u001b[43m_read\u001b[49m\u001b[43m(\u001b[49m\u001b[43mfilepath_or_buffer\u001b[49m\u001b[43m,\u001b[49m\u001b[43m \u001b[49m\u001b[43mkwds\u001b[49m\u001b[43m)\u001b[49m\n",
      "File \u001b[0;32m~/miniconda3/lib/python3.11/site-packages/pandas/io/parsers/readers.py:577\u001b[0m, in \u001b[0;36m_read\u001b[0;34m(filepath_or_buffer, kwds)\u001b[0m\n\u001b[1;32m    574\u001b[0m _validate_names(kwds\u001b[38;5;241m.\u001b[39mget(\u001b[38;5;124m\"\u001b[39m\u001b[38;5;124mnames\u001b[39m\u001b[38;5;124m\"\u001b[39m, \u001b[38;5;28;01mNone\u001b[39;00m))\n\u001b[1;32m    576\u001b[0m \u001b[38;5;66;03m# Create the parser.\u001b[39;00m\n\u001b[0;32m--> 577\u001b[0m parser \u001b[38;5;241m=\u001b[39m \u001b[43mTextFileReader\u001b[49m\u001b[43m(\u001b[49m\u001b[43mfilepath_or_buffer\u001b[49m\u001b[43m,\u001b[49m\u001b[43m \u001b[49m\u001b[38;5;241;43m*\u001b[39;49m\u001b[38;5;241;43m*\u001b[39;49m\u001b[43mkwds\u001b[49m\u001b[43m)\u001b[49m\n\u001b[1;32m    579\u001b[0m \u001b[38;5;28;01mif\u001b[39;00m chunksize \u001b[38;5;129;01mor\u001b[39;00m iterator:\n\u001b[1;32m    580\u001b[0m     \u001b[38;5;28;01mreturn\u001b[39;00m parser\n",
      "File \u001b[0;32m~/miniconda3/lib/python3.11/site-packages/pandas/io/parsers/readers.py:1407\u001b[0m, in \u001b[0;36mTextFileReader.__init__\u001b[0;34m(self, f, engine, **kwds)\u001b[0m\n\u001b[1;32m   1404\u001b[0m     \u001b[38;5;28mself\u001b[39m\u001b[38;5;241m.\u001b[39moptions[\u001b[38;5;124m\"\u001b[39m\u001b[38;5;124mhas_index_names\u001b[39m\u001b[38;5;124m\"\u001b[39m] \u001b[38;5;241m=\u001b[39m kwds[\u001b[38;5;124m\"\u001b[39m\u001b[38;5;124mhas_index_names\u001b[39m\u001b[38;5;124m\"\u001b[39m]\n\u001b[1;32m   1406\u001b[0m \u001b[38;5;28mself\u001b[39m\u001b[38;5;241m.\u001b[39mhandles: IOHandles \u001b[38;5;241m|\u001b[39m \u001b[38;5;28;01mNone\u001b[39;00m \u001b[38;5;241m=\u001b[39m \u001b[38;5;28;01mNone\u001b[39;00m\n\u001b[0;32m-> 1407\u001b[0m \u001b[38;5;28mself\u001b[39m\u001b[38;5;241m.\u001b[39m_engine \u001b[38;5;241m=\u001b[39m \u001b[38;5;28;43mself\u001b[39;49m\u001b[38;5;241;43m.\u001b[39;49m\u001b[43m_make_engine\u001b[49m\u001b[43m(\u001b[49m\u001b[43mf\u001b[49m\u001b[43m,\u001b[49m\u001b[43m \u001b[49m\u001b[38;5;28;43mself\u001b[39;49m\u001b[38;5;241;43m.\u001b[39;49m\u001b[43mengine\u001b[49m\u001b[43m)\u001b[49m\n",
      "File \u001b[0;32m~/miniconda3/lib/python3.11/site-packages/pandas/io/parsers/readers.py:1661\u001b[0m, in \u001b[0;36mTextFileReader._make_engine\u001b[0;34m(self, f, engine)\u001b[0m\n\u001b[1;32m   1659\u001b[0m     \u001b[38;5;28;01mif\u001b[39;00m \u001b[38;5;124m\"\u001b[39m\u001b[38;5;124mb\u001b[39m\u001b[38;5;124m\"\u001b[39m \u001b[38;5;129;01mnot\u001b[39;00m \u001b[38;5;129;01min\u001b[39;00m mode:\n\u001b[1;32m   1660\u001b[0m         mode \u001b[38;5;241m+\u001b[39m\u001b[38;5;241m=\u001b[39m \u001b[38;5;124m\"\u001b[39m\u001b[38;5;124mb\u001b[39m\u001b[38;5;124m\"\u001b[39m\n\u001b[0;32m-> 1661\u001b[0m \u001b[38;5;28mself\u001b[39m\u001b[38;5;241m.\u001b[39mhandles \u001b[38;5;241m=\u001b[39m \u001b[43mget_handle\u001b[49m\u001b[43m(\u001b[49m\n\u001b[1;32m   1662\u001b[0m \u001b[43m    \u001b[49m\u001b[43mf\u001b[49m\u001b[43m,\u001b[49m\n\u001b[1;32m   1663\u001b[0m \u001b[43m    \u001b[49m\u001b[43mmode\u001b[49m\u001b[43m,\u001b[49m\n\u001b[1;32m   1664\u001b[0m \u001b[43m    \u001b[49m\u001b[43mencoding\u001b[49m\u001b[38;5;241;43m=\u001b[39;49m\u001b[38;5;28;43mself\u001b[39;49m\u001b[38;5;241;43m.\u001b[39;49m\u001b[43moptions\u001b[49m\u001b[38;5;241;43m.\u001b[39;49m\u001b[43mget\u001b[49m\u001b[43m(\u001b[49m\u001b[38;5;124;43m\"\u001b[39;49m\u001b[38;5;124;43mencoding\u001b[39;49m\u001b[38;5;124;43m\"\u001b[39;49m\u001b[43m,\u001b[49m\u001b[43m \u001b[49m\u001b[38;5;28;43;01mNone\u001b[39;49;00m\u001b[43m)\u001b[49m\u001b[43m,\u001b[49m\n\u001b[1;32m   1665\u001b[0m \u001b[43m    \u001b[49m\u001b[43mcompression\u001b[49m\u001b[38;5;241;43m=\u001b[39;49m\u001b[38;5;28;43mself\u001b[39;49m\u001b[38;5;241;43m.\u001b[39;49m\u001b[43moptions\u001b[49m\u001b[38;5;241;43m.\u001b[39;49m\u001b[43mget\u001b[49m\u001b[43m(\u001b[49m\u001b[38;5;124;43m\"\u001b[39;49m\u001b[38;5;124;43mcompression\u001b[39;49m\u001b[38;5;124;43m\"\u001b[39;49m\u001b[43m,\u001b[49m\u001b[43m \u001b[49m\u001b[38;5;28;43;01mNone\u001b[39;49;00m\u001b[43m)\u001b[49m\u001b[43m,\u001b[49m\n\u001b[1;32m   1666\u001b[0m \u001b[43m    \u001b[49m\u001b[43mmemory_map\u001b[49m\u001b[38;5;241;43m=\u001b[39;49m\u001b[38;5;28;43mself\u001b[39;49m\u001b[38;5;241;43m.\u001b[39;49m\u001b[43moptions\u001b[49m\u001b[38;5;241;43m.\u001b[39;49m\u001b[43mget\u001b[49m\u001b[43m(\u001b[49m\u001b[38;5;124;43m\"\u001b[39;49m\u001b[38;5;124;43mmemory_map\u001b[39;49m\u001b[38;5;124;43m\"\u001b[39;49m\u001b[43m,\u001b[49m\u001b[43m \u001b[49m\u001b[38;5;28;43;01mFalse\u001b[39;49;00m\u001b[43m)\u001b[49m\u001b[43m,\u001b[49m\n\u001b[1;32m   1667\u001b[0m \u001b[43m    \u001b[49m\u001b[43mis_text\u001b[49m\u001b[38;5;241;43m=\u001b[39;49m\u001b[43mis_text\u001b[49m\u001b[43m,\u001b[49m\n\u001b[1;32m   1668\u001b[0m \u001b[43m    \u001b[49m\u001b[43merrors\u001b[49m\u001b[38;5;241;43m=\u001b[39;49m\u001b[38;5;28;43mself\u001b[39;49m\u001b[38;5;241;43m.\u001b[39;49m\u001b[43moptions\u001b[49m\u001b[38;5;241;43m.\u001b[39;49m\u001b[43mget\u001b[49m\u001b[43m(\u001b[49m\u001b[38;5;124;43m\"\u001b[39;49m\u001b[38;5;124;43mencoding_errors\u001b[39;49m\u001b[38;5;124;43m\"\u001b[39;49m\u001b[43m,\u001b[49m\u001b[43m \u001b[49m\u001b[38;5;124;43m\"\u001b[39;49m\u001b[38;5;124;43mstrict\u001b[39;49m\u001b[38;5;124;43m\"\u001b[39;49m\u001b[43m)\u001b[49m\u001b[43m,\u001b[49m\n\u001b[1;32m   1669\u001b[0m \u001b[43m    \u001b[49m\u001b[43mstorage_options\u001b[49m\u001b[38;5;241;43m=\u001b[39;49m\u001b[38;5;28;43mself\u001b[39;49m\u001b[38;5;241;43m.\u001b[39;49m\u001b[43moptions\u001b[49m\u001b[38;5;241;43m.\u001b[39;49m\u001b[43mget\u001b[49m\u001b[43m(\u001b[49m\u001b[38;5;124;43m\"\u001b[39;49m\u001b[38;5;124;43mstorage_options\u001b[39;49m\u001b[38;5;124;43m\"\u001b[39;49m\u001b[43m,\u001b[49m\u001b[43m \u001b[49m\u001b[38;5;28;43;01mNone\u001b[39;49;00m\u001b[43m)\u001b[49m\u001b[43m,\u001b[49m\n\u001b[1;32m   1670\u001b[0m \u001b[43m\u001b[49m\u001b[43m)\u001b[49m\n\u001b[1;32m   1671\u001b[0m \u001b[38;5;28;01massert\u001b[39;00m \u001b[38;5;28mself\u001b[39m\u001b[38;5;241m.\u001b[39mhandles \u001b[38;5;129;01mis\u001b[39;00m \u001b[38;5;129;01mnot\u001b[39;00m \u001b[38;5;28;01mNone\u001b[39;00m\n\u001b[1;32m   1672\u001b[0m f \u001b[38;5;241m=\u001b[39m \u001b[38;5;28mself\u001b[39m\u001b[38;5;241m.\u001b[39mhandles\u001b[38;5;241m.\u001b[39mhandle\n",
      "File \u001b[0;32m~/miniconda3/lib/python3.11/site-packages/pandas/io/common.py:859\u001b[0m, in \u001b[0;36mget_handle\u001b[0;34m(path_or_buf, mode, encoding, compression, memory_map, is_text, errors, storage_options)\u001b[0m\n\u001b[1;32m    854\u001b[0m \u001b[38;5;28;01melif\u001b[39;00m \u001b[38;5;28misinstance\u001b[39m(handle, \u001b[38;5;28mstr\u001b[39m):\n\u001b[1;32m    855\u001b[0m     \u001b[38;5;66;03m# Check whether the filename is to be opened in binary mode.\u001b[39;00m\n\u001b[1;32m    856\u001b[0m     \u001b[38;5;66;03m# Binary mode does not support 'encoding' and 'newline'.\u001b[39;00m\n\u001b[1;32m    857\u001b[0m     \u001b[38;5;28;01mif\u001b[39;00m ioargs\u001b[38;5;241m.\u001b[39mencoding \u001b[38;5;129;01mand\u001b[39;00m \u001b[38;5;124m\"\u001b[39m\u001b[38;5;124mb\u001b[39m\u001b[38;5;124m\"\u001b[39m \u001b[38;5;129;01mnot\u001b[39;00m \u001b[38;5;129;01min\u001b[39;00m ioargs\u001b[38;5;241m.\u001b[39mmode:\n\u001b[1;32m    858\u001b[0m         \u001b[38;5;66;03m# Encoding\u001b[39;00m\n\u001b[0;32m--> 859\u001b[0m         handle \u001b[38;5;241m=\u001b[39m \u001b[38;5;28;43mopen\u001b[39;49m\u001b[43m(\u001b[49m\n\u001b[1;32m    860\u001b[0m \u001b[43m            \u001b[49m\u001b[43mhandle\u001b[49m\u001b[43m,\u001b[49m\n\u001b[1;32m    861\u001b[0m \u001b[43m            \u001b[49m\u001b[43mioargs\u001b[49m\u001b[38;5;241;43m.\u001b[39;49m\u001b[43mmode\u001b[49m\u001b[43m,\u001b[49m\n\u001b[1;32m    862\u001b[0m \u001b[43m            \u001b[49m\u001b[43mencoding\u001b[49m\u001b[38;5;241;43m=\u001b[39;49m\u001b[43mioargs\u001b[49m\u001b[38;5;241;43m.\u001b[39;49m\u001b[43mencoding\u001b[49m\u001b[43m,\u001b[49m\n\u001b[1;32m    863\u001b[0m \u001b[43m            \u001b[49m\u001b[43merrors\u001b[49m\u001b[38;5;241;43m=\u001b[39;49m\u001b[43merrors\u001b[49m\u001b[43m,\u001b[49m\n\u001b[1;32m    864\u001b[0m \u001b[43m            \u001b[49m\u001b[43mnewline\u001b[49m\u001b[38;5;241;43m=\u001b[39;49m\u001b[38;5;124;43m\"\u001b[39;49m\u001b[38;5;124;43m\"\u001b[39;49m\u001b[43m,\u001b[49m\n\u001b[1;32m    865\u001b[0m \u001b[43m        \u001b[49m\u001b[43m)\u001b[49m\n\u001b[1;32m    866\u001b[0m     \u001b[38;5;28;01melse\u001b[39;00m:\n\u001b[1;32m    867\u001b[0m         \u001b[38;5;66;03m# Binary mode\u001b[39;00m\n\u001b[1;32m    868\u001b[0m         handle \u001b[38;5;241m=\u001b[39m \u001b[38;5;28mopen\u001b[39m(handle, ioargs\u001b[38;5;241m.\u001b[39mmode)\n",
      "\u001b[0;31mFileNotFoundError\u001b[0m: [Errno 2] No such file or directory: 'data/file.csv'"
     ]
    }
   ],
   "source": [
    "pd.read_csv('data/file.csv')"
   ]
  },
  {
   "cell_type": "code",
   "execution_count": 6,
   "metadata": {},
   "outputs": [],
   "source": [
    "import pandas as pd"
   ]
  },
  {
   "cell_type": "markdown",
   "metadata": {
    "slideshow": {
     "slide_type": "slide"
    }
   },
   "source": [
    "A built-in functions performs a specific task!\n",
    "\n",
    "The code that accomplishes this task is defined **somewhere** - but you don’t need to know where. You don't even need to know how the code works.\n",
    "\n",
    "You need to understand the function’s interface: \n",
    "> * What arguments (if any) it takes \n",
    "> * What values (if any) it returns\n",
    "\n",
    "Then you call the function and pass the appropriate arguments."
   ]
  },
  {
   "cell_type": "markdown",
   "metadata": {},
   "source": [
    "#### User Defined Functions"
   ]
  },
  {
   "cell_type": "markdown",
   "metadata": {},
   "source": [
    "Anatomy of function:\n",
    "```python\n",
    "def func_name(inputs):\n",
    "    # Set of instructions\n",
    "    output = inputs*3\n",
    "    return output\n",
    "```\n",
    "- `def` establishes that you will start a function\n",
    "- `func_name`, you choose what you are going to name your function\n",
    "- `inputs`, what inputs your function needs and will manipulate\n",
    "- `return` keyword to specify what you wanted to be the output/return value. "
   ]
  },
  {
   "cell_type": "code",
   "execution_count": 47,
   "metadata": {},
   "outputs": [],
   "source": [
    "import numpy as np\n",
    "import pandas as pd\n",
    "\n",
    "def log_function1(number):\n",
    "    z = np.log(number)\n",
    "    print(f\"This is the log of the number you gave, {z}\")\n",
    "    return z"
   ]
  },
  {
   "cell_type": "code",
   "execution_count": 48,
   "metadata": {},
   "outputs": [
    {
     "data": {
      "text/plain": [
       "5"
      ]
     },
     "execution_count": 48,
     "metadata": {},
     "output_type": "execute_result"
    }
   ],
   "source": [
    "m = sum([2,3])\n",
    "m"
   ]
  },
  {
   "cell_type": "code",
   "execution_count": 49,
   "metadata": {},
   "outputs": [
    {
     "name": "stdout",
     "output_type": "stream",
     "text": [
      "This is the log of the number you gave, 1.0986122886681098\n"
     ]
    }
   ],
   "source": [
    "x = log_function1(3)"
   ]
  },
  {
   "cell_type": "code",
   "execution_count": 50,
   "metadata": {},
   "outputs": [
    {
     "data": {
      "text/plain": [
       "1.0986122886681098"
      ]
     },
     "execution_count": 50,
     "metadata": {},
     "output_type": "execute_result"
    }
   ],
   "source": [
    "x"
   ]
  },
  {
   "cell_type": "code",
   "execution_count": 51,
   "metadata": {},
   "outputs": [
    {
     "name": "stdout",
     "output_type": "stream",
     "text": [
      "This is the log of the number you gave, 2.302585092994046\n"
     ]
    },
    {
     "data": {
      "text/plain": [
       "2.302585092994046"
      ]
     },
     "execution_count": 51,
     "metadata": {},
     "output_type": "execute_result"
    }
   ],
   "source": [
    "log_function1(10)"
   ]
  },
  {
   "cell_type": "code",
   "execution_count": 52,
   "metadata": {
    "slideshow": {
     "slide_type": "fragment"
    }
   },
   "outputs": [],
   "source": [
    "def log_function(number, word='hello', word_2='world'):\n",
    "    z = np.log(number)\n",
    "    print(word, word_2)\n",
    "    print(f\"The log of {number} is {z}.\")\n",
    "    return z"
   ]
  },
  {
   "cell_type": "code",
   "execution_count": 53,
   "metadata": {},
   "outputs": [
    {
     "name": "stdout",
     "output_type": "stream",
     "text": [
      "hello world\n",
      "The log of 3 is 1.0986122886681098.\n"
     ]
    },
    {
     "data": {
      "text/plain": [
       "1.0986122886681098"
      ]
     },
     "execution_count": 53,
     "metadata": {},
     "output_type": "execute_result"
    }
   ],
   "source": [
    "log_function(3)"
   ]
  },
  {
   "cell_type": "code",
   "execution_count": 54,
   "metadata": {},
   "outputs": [
    {
     "name": "stdout",
     "output_type": "stream",
     "text": [
      "goodbye world\n",
      "The log of 3 is 1.0986122886681098.\n"
     ]
    }
   ],
   "source": [
    "m = log_function(3, word = \"goodbye\")"
   ]
  },
  {
   "cell_type": "code",
   "execution_count": 55,
   "metadata": {},
   "outputs": [
    {
     "data": {
      "text/plain": [
       "1.0986122886681098"
      ]
     },
     "execution_count": 55,
     "metadata": {},
     "output_type": "execute_result"
    }
   ],
   "source": [
    "m"
   ]
  },
  {
   "cell_type": "markdown",
   "metadata": {
    "slideshow": {
     "slide_type": "fragment"
    }
   },
   "source": [
    "What is the \"error\" here?\n",
    "\n",
    "> Try saving log_function(5) and store it in a variable named `y`. "
   ]
  },
  {
   "cell_type": "code",
   "execution_count": 56,
   "metadata": {
    "slideshow": {
     "slide_type": "fragment"
    }
   },
   "outputs": [
    {
     "name": "stdout",
     "output_type": "stream",
     "text": [
      "hello world\n",
      "The log of 5 is 1.6094379124341003.\n"
     ]
    }
   ],
   "source": [
    "y = log_function(5)"
   ]
  },
  {
   "cell_type": "code",
   "execution_count": 57,
   "metadata": {},
   "outputs": [
    {
     "data": {
      "text/plain": [
       "1.6094379124341003"
      ]
     },
     "execution_count": 57,
     "metadata": {},
     "output_type": "execute_result"
    }
   ],
   "source": [
    "y"
   ]
  },
  {
   "cell_type": "markdown",
   "metadata": {
    "slideshow": {
     "slide_type": "slide"
    }
   },
   "source": [
    "Here is when we realize we need our `return` statement. This is the only thing that will allow us to \"save\" the output that we want.\n",
    "\n",
    "**NOTE** - **Do not** `return` a `print` statement as it will return a null object."
   ]
  },
  {
   "cell_type": "markdown",
   "metadata": {
    "slideshow": {
     "slide_type": "slide"
    }
   },
   "source": [
    "### Abstraction and Reusability\n",
    "Suppose you write some code that does something useful task. And it is a task that you do several times.\n",
    "You could \"Copy-paste\" but…\n",
    "Later on, you’ll probably modify the code, or maybe you find a bug or you need to update it…\n",
    "If you copied-pasted, you’ll need to make the necessary changes in every location.\n",
    "\n",
    "\n",
    "Instead, use a function!! The abstraction of functionality into a function definition is an example of the **DRY** Principle of software development. This is arguably the strongest motivation for using functions."
   ]
  },
  {
   "cell_type": "markdown",
   "metadata": {
    "slideshow": {
     "slide_type": "slide"
    }
   },
   "source": [
    "### Modularity\n",
    "Functions allow complex processes to be broken up into smaller steps.\n",
    "Imagine, for example, that you have a program that reads in a file, processes the file contents, and then writes an output file. Your code could look like this:"
   ]
  },
  {
   "cell_type": "markdown",
   "metadata": {
    "slideshow": {
     "slide_type": "fragment"
    }
   },
   "source": [
    "```\n",
    "# Main program\n",
    "# Code to read file in\n",
    "<statement>\n",
    "<statement>\n",
    "<statement>\n",
    "<statement>\n",
    "# Code to process file\n",
    "<statement>\n",
    "<statement>\n",
    "<statement>\n",
    "<statement>\n",
    "# Code to write file out\n",
    "<statement>\n",
    "<statement>\n",
    "<statement>\n",
    "<statement>\n",
    "```"
   ]
  },
  {
   "cell_type": "markdown",
   "metadata": {
    "slideshow": {
     "slide_type": "slide"
    }
   },
   "source": [
    "Alternatively, you could structure the code more like the following:\n",
    "\n",
    "```\n",
    "# Main program\n",
    "read_file()\n",
    "process_file()\n",
    "write_file()\n",
    "```"
   ]
  },
  {
   "cell_type": "markdown",
   "metadata": {
    "slideshow": {
     "slide_type": "fragment"
    }
   },
   "source": [
    "PS. Here, you do have three scripts where you have defined the functions.  For example:\n",
    "```\n",
    "def read_file():\n",
    "    # Code to read file in\n",
    "    <statement>\n",
    "    <statement>\n",
    "    <statement>\n",
    "    <statement>\n",
    "```"
   ]
  },
  {
   "cell_type": "code",
   "execution_count": null,
   "metadata": {},
   "outputs": [],
   "source": []
  }
 ],
 "metadata": {
  "celltoolbar": "Slideshow",
  "interpreter": {
   "hash": "a75bd6151e265d44863ae447c53c96ded6c20b4779439cdccf9ca698d6566769"
  },
  "kernelspec": {
   "display_name": "Python 3 (ipykernel)",
   "language": "python",
   "name": "python3"
  },
  "language_info": {
   "codemirror_mode": {
    "name": "ipython",
    "version": 3
   },
   "file_extension": ".py",
   "mimetype": "text/x-python",
   "name": "python",
   "nbconvert_exporter": "python",
   "pygments_lexer": "ipython3",
   "version": "3.11.4"
  }
 },
 "nbformat": 4,
 "nbformat_minor": 4
}
