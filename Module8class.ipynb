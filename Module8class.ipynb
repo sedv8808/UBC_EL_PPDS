{
 "cells": [
  {
   "cell_type": "markdown",
   "metadata": {},
   "source": [
    "# UBC\n",
    "## Programming in Python for DS\n",
    "### Week 8\n",
    "\n",
    "Instructor: Socorro Dominguez-Vidana"
   ]
  },
  {
   "cell_type": "code",
   "execution_count": 1,
   "metadata": {},
   "outputs": [],
   "source": [
    "# Import libraries needed for this lab\n",
    "import pandas as pd\n",
    "import numpy as np"
   ]
  },
  {
   "cell_type": "markdown",
   "metadata": {},
   "source": [
    "Overview\n",
    "\n",
    "- [] Use NumPy to create ndarrays with np.array() and from functions such as np.arange(), np.linspace() and np.ones().\n",
    "- [] Describe the shape, dimension and size of an array.\n",
    "- [] Identify null values in a dataframe and manage them by removing them using .dropna() or replacing them using .fillna().\n",
    "- [] Manipulate non-standard date/time formats into standard Pandas datetime using pd.to_datetime().\n",
    "- [] Find, and replace text from a dataframe using verbs such as .replace() and .contains()"
   ]
  },
  {
   "cell_type": "markdown",
   "metadata": {},
   "source": [
    "### NumPy\n",
    "\n",
    "$NumPy = Numerical Python (Extension)$\n",
    "\n",
    "A NumPy array is like a container in Python that can hold a grid of numbers (or other data).\n",
    "It facilitates doing math work."
   ]
  },
  {
   "cell_type": "code",
   "execution_count": 3,
   "metadata": {},
   "outputs": [
    {
     "data": {
      "text/html": [
       "<div>\n",
       "<style scoped>\n",
       "    .dataframe tbody tr th:only-of-type {\n",
       "        vertical-align: middle;\n",
       "    }\n",
       "\n",
       "    .dataframe tbody tr th {\n",
       "        vertical-align: top;\n",
       "    }\n",
       "\n",
       "    .dataframe thead th {\n",
       "        text-align: right;\n",
       "    }\n",
       "</style>\n",
       "<table border=\"1\" class=\"dataframe\">\n",
       "  <thead>\n",
       "    <tr style=\"text-align: right;\">\n",
       "      <th></th>\n",
       "      <th>col1</th>\n",
       "      <th>col1a</th>\n",
       "      <th>col2</th>\n",
       "    </tr>\n",
       "  </thead>\n",
       "  <tbody>\n",
       "    <tr>\n",
       "      <th>0</th>\n",
       "      <td>1</td>\n",
       "      <td>2</td>\n",
       "      <td>a</td>\n",
       "    </tr>\n",
       "    <tr>\n",
       "      <th>1</th>\n",
       "      <td>2</td>\n",
       "      <td>3</td>\n",
       "      <td>b</td>\n",
       "    </tr>\n",
       "    <tr>\n",
       "      <th>2</th>\n",
       "      <td>3</td>\n",
       "      <td>5</td>\n",
       "      <td>c</td>\n",
       "    </tr>\n",
       "  </tbody>\n",
       "</table>\n",
       "</div>"
      ],
      "text/plain": [
       "   col1  col1a col2\n",
       "0     1      2    a\n",
       "1     2      3    b\n",
       "2     3      5    c"
      ]
     },
     "execution_count": 3,
     "metadata": {},
     "output_type": "execute_result"
    }
   ],
   "source": [
    "data = {'col1': [1,2,3],\n",
    "        'col1a': [2,3,5],\n",
    "        'col2': ['a','b','c']}\n",
    "df = pd.DataFrame(data)\n",
    "df"
   ]
  },
  {
   "cell_type": "code",
   "execution_count": null,
   "metadata": {},
   "outputs": [],
   "source": []
  },
  {
   "cell_type": "markdown",
   "metadata": {},
   "source": [
    "Creating:\n",
    "- With `np.arange()`, you can create sequence arrays:"
   ]
  },
  {
   "cell_type": "code",
   "execution_count": 5,
   "metadata": {},
   "outputs": [
    {
     "data": {
      "text/plain": [
       "array([0, 1, 2, 3, 4, 5, 6, 7, 8, 9])"
      ]
     },
     "execution_count": 5,
     "metadata": {},
     "output_type": "execute_result"
    }
   ],
   "source": [
    "np.arange(0, 10, 1)"
   ]
  },
  {
   "cell_type": "markdown",
   "metadata": {},
   "source": [
    "- With `np.linspace()`, you can create an array that generates evenly spaced values within a specified range:"
   ]
  },
  {
   "cell_type": "code",
   "execution_count": 7,
   "metadata": {},
   "outputs": [
    {
     "data": {
      "text/plain": [
       "array([0.        , 0.07142857, 0.14285714, 0.21428571, 0.28571429,\n",
       "       0.35714286, 0.42857143, 0.5       , 0.57142857, 0.64285714,\n",
       "       0.71428571, 0.78571429, 0.85714286, 0.92857143, 1.        ])"
      ]
     },
     "execution_count": 7,
     "metadata": {},
     "output_type": "execute_result"
    }
   ],
   "source": [
    "np.linspace(0, 1, 15)"
   ]
  },
  {
   "cell_type": "markdown",
   "metadata": {},
   "source": [
    "- With `np.ones()`, you can create an array filled with ones"
   ]
  },
  {
   "cell_type": "code",
   "execution_count": 8,
   "metadata": {},
   "outputs": [
    {
     "data": {
      "text/plain": [
       "array([[1., 1., 1.],\n",
       "       [1., 1., 1.]])"
      ]
     },
     "execution_count": 8,
     "metadata": {},
     "output_type": "execute_result"
    }
   ],
   "source": [
    "np.ones((2, 3))"
   ]
  },
  {
   "cell_type": "markdown",
   "metadata": {},
   "source": [
    "Knowing the **shape**, **dimension**, and **size** of an array helps us understand the structure and characteristics of the data stored in the array.\n",
    "\n",
    "We can then decide which operations we can/should do."
   ]
  },
  {
   "cell_type": "code",
   "execution_count": 9,
   "metadata": {},
   "outputs": [
    {
     "data": {
      "text/plain": [
       "[1, 1, 1]"
      ]
     },
     "execution_count": 9,
     "metadata": {},
     "output_type": "execute_result"
    }
   ],
   "source": [
    "my_list = [1,1,1]\n",
    "my_list"
   ]
  },
  {
   "cell_type": "code",
   "execution_count": 12,
   "metadata": {},
   "outputs": [
    {
     "ename": "TypeError",
     "evalue": "can only concatenate list (not \"int\") to list",
     "output_type": "error",
     "traceback": [
      "\u001b[0;31m---------------------------------------------------------------------------\u001b[0m",
      "\u001b[0;31mTypeError\u001b[0m                                 Traceback (most recent call last)",
      "Cell \u001b[0;32mIn[12], line 1\u001b[0m\n\u001b[0;32m----> 1\u001b[0m \u001b[43mmy_list\u001b[49m\u001b[38;5;241;43m+\u001b[39;49m\u001b[38;5;241;43m3\u001b[39;49m\n",
      "\u001b[0;31mTypeError\u001b[0m: can only concatenate list (not \"int\") to list"
     ]
    }
   ],
   "source": [
    "my_list+3"
   ]
  },
  {
   "cell_type": "code",
   "execution_count": 10,
   "metadata": {},
   "outputs": [
    {
     "data": {
      "text/plain": [
       "[4, 4, 4]"
      ]
     },
     "execution_count": 10,
     "metadata": {},
     "output_type": "execute_result"
    }
   ],
   "source": [
    "[i + 3 for i in my_list]"
   ]
  },
  {
   "cell_type": "code",
   "execution_count": 11,
   "metadata": {},
   "outputs": [
    {
     "data": {
      "text/plain": [
       "array([[1., 1., 1.],\n",
       "       [1., 1., 1.]])"
      ]
     },
     "execution_count": 11,
     "metadata": {},
     "output_type": "execute_result"
    }
   ],
   "source": [
    "array_ones = np.ones((2, 3))\n",
    "array_ones"
   ]
  },
  {
   "cell_type": "code",
   "execution_count": 13,
   "metadata": {},
   "outputs": [
    {
     "data": {
      "text/plain": [
       "array([[4., 4., 4.],\n",
       "       [4., 4., 4.]])"
      ]
     },
     "execution_count": 13,
     "metadata": {},
     "output_type": "execute_result"
    }
   ],
   "source": [
    "array_ones+3"
   ]
  },
  {
   "cell_type": "code",
   "execution_count": 16,
   "metadata": {},
   "outputs": [
    {
     "data": {
      "text/plain": [
       "array([[1., 1., 1.],\n",
       "       [7., 7., 7.]])"
      ]
     },
     "execution_count": 16,
     "metadata": {},
     "output_type": "execute_result"
    }
   ],
   "source": [
    "array_ones[1] = array_ones[1]+3\n",
    "array_ones"
   ]
  },
  {
   "cell_type": "markdown",
   "metadata": {},
   "source": [
    "More about np.arrays:  \n",
    "https://realpython.com/numpy-scipy-pandas-correlation-python/  \n",
    "https://realpython.com/numpy-array-programming/  "
   ]
  },
  {
   "cell_type": "markdown",
   "metadata": {},
   "source": [
    "### Filling NAs"
   ]
  },
  {
   "cell_type": "code",
   "execution_count": 17,
   "metadata": {},
   "outputs": [
    {
     "data": {
      "text/html": [
       "<div>\n",
       "<style scoped>\n",
       "    .dataframe tbody tr th:only-of-type {\n",
       "        vertical-align: middle;\n",
       "    }\n",
       "\n",
       "    .dataframe tbody tr th {\n",
       "        vertical-align: top;\n",
       "    }\n",
       "\n",
       "    .dataframe thead th {\n",
       "        text-align: right;\n",
       "    }\n",
       "</style>\n",
       "<table border=\"1\" class=\"dataframe\">\n",
       "  <thead>\n",
       "    <tr style=\"text-align: right;\">\n",
       "      <th></th>\n",
       "      <th>A</th>\n",
       "      <th>B</th>\n",
       "      <th>C</th>\n",
       "    </tr>\n",
       "  </thead>\n",
       "  <tbody>\n",
       "    <tr>\n",
       "      <th>0</th>\n",
       "      <td>1.0</td>\n",
       "      <td>5.0</td>\n",
       "      <td>9</td>\n",
       "    </tr>\n",
       "    <tr>\n",
       "      <th>1</th>\n",
       "      <td>2.0</td>\n",
       "      <td>NaN</td>\n",
       "      <td>10</td>\n",
       "    </tr>\n",
       "    <tr>\n",
       "      <th>2</th>\n",
       "      <td>NaN</td>\n",
       "      <td>7.0</td>\n",
       "      <td>11</td>\n",
       "    </tr>\n",
       "    <tr>\n",
       "      <th>3</th>\n",
       "      <td>4.0</td>\n",
       "      <td>8.0</td>\n",
       "      <td>12</td>\n",
       "    </tr>\n",
       "  </tbody>\n",
       "</table>\n",
       "</div>"
      ],
      "text/plain": [
       "     A    B   C\n",
       "0  1.0  5.0   9\n",
       "1  2.0  NaN  10\n",
       "2  NaN  7.0  11\n",
       "3  4.0  8.0  12"
      ]
     },
     "execution_count": 17,
     "metadata": {},
     "output_type": "execute_result"
    }
   ],
   "source": [
    "data = {'A': [1, 2, np.nan, 4],\n",
    "        'B': [5, np.nan, 7, 8],\n",
    "        'C': [9, 10, 11, 12]}\n",
    "\n",
    "df = pd.DataFrame(data)\n",
    "df"
   ]
  },
  {
   "cell_type": "code",
   "execution_count": 20,
   "metadata": {},
   "outputs": [
    {
     "data": {
      "text/html": [
       "<div>\n",
       "<style scoped>\n",
       "    .dataframe tbody tr th:only-of-type {\n",
       "        vertical-align: middle;\n",
       "    }\n",
       "\n",
       "    .dataframe tbody tr th {\n",
       "        vertical-align: top;\n",
       "    }\n",
       "\n",
       "    .dataframe thead th {\n",
       "        text-align: right;\n",
       "    }\n",
       "</style>\n",
       "<table border=\"1\" class=\"dataframe\">\n",
       "  <thead>\n",
       "    <tr style=\"text-align: right;\">\n",
       "      <th></th>\n",
       "      <th>A</th>\n",
       "      <th>B</th>\n",
       "      <th>C</th>\n",
       "    </tr>\n",
       "  </thead>\n",
       "  <tbody>\n",
       "    <tr>\n",
       "      <th>0</th>\n",
       "      <td>1.0</td>\n",
       "      <td>5.0</td>\n",
       "      <td>9</td>\n",
       "    </tr>\n",
       "    <tr>\n",
       "      <th>1</th>\n",
       "      <td>2.0</td>\n",
       "      <td>0.0</td>\n",
       "      <td>10</td>\n",
       "    </tr>\n",
       "    <tr>\n",
       "      <th>2</th>\n",
       "      <td>0.0</td>\n",
       "      <td>7.0</td>\n",
       "      <td>11</td>\n",
       "    </tr>\n",
       "    <tr>\n",
       "      <th>3</th>\n",
       "      <td>4.0</td>\n",
       "      <td>8.0</td>\n",
       "      <td>12</td>\n",
       "    </tr>\n",
       "  </tbody>\n",
       "</table>\n",
       "</div>"
      ],
      "text/plain": [
       "     A    B   C\n",
       "0  1.0  5.0   9\n",
       "1  2.0  0.0  10\n",
       "2  0.0  7.0  11\n",
       "3  4.0  8.0  12"
      ]
     },
     "execution_count": 20,
     "metadata": {},
     "output_type": "execute_result"
    }
   ],
   "source": [
    "df_filled = df.fillna(0)\n",
    "df_filled"
   ]
  },
  {
   "cell_type": "markdown",
   "metadata": {},
   "source": [
    ".sum(axis = 1)"
   ]
  },
  {
   "cell_type": "markdown",
   "metadata": {},
   "source": [
    "### Droppping Rows"
   ]
  },
  {
   "cell_type": "code",
   "execution_count": 21,
   "metadata": {},
   "outputs": [
    {
     "data": {
      "text/html": [
       "<div>\n",
       "<style scoped>\n",
       "    .dataframe tbody tr th:only-of-type {\n",
       "        vertical-align: middle;\n",
       "    }\n",
       "\n",
       "    .dataframe tbody tr th {\n",
       "        vertical-align: top;\n",
       "    }\n",
       "\n",
       "    .dataframe thead th {\n",
       "        text-align: right;\n",
       "    }\n",
       "</style>\n",
       "<table border=\"1\" class=\"dataframe\">\n",
       "  <thead>\n",
       "    <tr style=\"text-align: right;\">\n",
       "      <th></th>\n",
       "      <th>A</th>\n",
       "      <th>B</th>\n",
       "      <th>C</th>\n",
       "    </tr>\n",
       "  </thead>\n",
       "  <tbody>\n",
       "    <tr>\n",
       "      <th>0</th>\n",
       "      <td>1.0</td>\n",
       "      <td>5.0</td>\n",
       "      <td>9</td>\n",
       "    </tr>\n",
       "    <tr>\n",
       "      <th>1</th>\n",
       "      <td>2.0</td>\n",
       "      <td>NaN</td>\n",
       "      <td>10</td>\n",
       "    </tr>\n",
       "    <tr>\n",
       "      <th>2</th>\n",
       "      <td>NaN</td>\n",
       "      <td>7.0</td>\n",
       "      <td>11</td>\n",
       "    </tr>\n",
       "    <tr>\n",
       "      <th>3</th>\n",
       "      <td>4.0</td>\n",
       "      <td>8.0</td>\n",
       "      <td>12</td>\n",
       "    </tr>\n",
       "  </tbody>\n",
       "</table>\n",
       "</div>"
      ],
      "text/plain": [
       "     A    B   C\n",
       "0  1.0  5.0   9\n",
       "1  2.0  NaN  10\n",
       "2  NaN  7.0  11\n",
       "3  4.0  8.0  12"
      ]
     },
     "execution_count": 21,
     "metadata": {},
     "output_type": "execute_result"
    }
   ],
   "source": [
    "df"
   ]
  },
  {
   "cell_type": "code",
   "execution_count": 22,
   "metadata": {},
   "outputs": [
    {
     "data": {
      "text/html": [
       "<div>\n",
       "<style scoped>\n",
       "    .dataframe tbody tr th:only-of-type {\n",
       "        vertical-align: middle;\n",
       "    }\n",
       "\n",
       "    .dataframe tbody tr th {\n",
       "        vertical-align: top;\n",
       "    }\n",
       "\n",
       "    .dataframe thead th {\n",
       "        text-align: right;\n",
       "    }\n",
       "</style>\n",
       "<table border=\"1\" class=\"dataframe\">\n",
       "  <thead>\n",
       "    <tr style=\"text-align: right;\">\n",
       "      <th></th>\n",
       "      <th>A</th>\n",
       "      <th>B</th>\n",
       "      <th>C</th>\n",
       "    </tr>\n",
       "  </thead>\n",
       "  <tbody>\n",
       "    <tr>\n",
       "      <th>0</th>\n",
       "      <td>1.0</td>\n",
       "      <td>5.0</td>\n",
       "      <td>9</td>\n",
       "    </tr>\n",
       "    <tr>\n",
       "      <th>3</th>\n",
       "      <td>4.0</td>\n",
       "      <td>8.0</td>\n",
       "      <td>12</td>\n",
       "    </tr>\n",
       "  </tbody>\n",
       "</table>\n",
       "</div>"
      ],
      "text/plain": [
       "     A    B   C\n",
       "0  1.0  5.0   9\n",
       "3  4.0  8.0  12"
      ]
     },
     "execution_count": 22,
     "metadata": {},
     "output_type": "execute_result"
    }
   ],
   "source": [
    "df_dropped = df.dropna()\n",
    "df_dropped"
   ]
  },
  {
   "cell_type": "code",
   "execution_count": null,
   "metadata": {},
   "outputs": [],
   "source": [
    "df.dropna(subset='B')"
   ]
  },
  {
   "cell_type": "markdown",
   "metadata": {},
   "source": [
    "### DateTime Wrangling "
   ]
  },
  {
   "cell_type": "code",
   "execution_count": 25,
   "metadata": {},
   "outputs": [
    {
     "name": "stdout",
     "output_type": "stream",
     "text": [
      "<class 'pandas.core.frame.DataFrame'>\n",
      "RangeIndex: 569 entries, 0 to 568\n",
      "Data columns (total 20 columns):\n",
      " #   Column            Non-Null Count  Dtype \n",
      "---  ------            --------------  ----- \n",
      " 0   season            569 non-null    int64 \n",
      " 1   season_episode    569 non-null    int64 \n",
      " 2   series_episode    569 non-null    int64 \n",
      " 3   episode_name      569 non-null    object\n",
      " 4   episode_notes     456 non-null    object\n",
      " 5   air_date          569 non-null    object\n",
      " 6   judge1            568 non-null    object\n",
      " 7   judge2            568 non-null    object\n",
      " 8   judge3            568 non-null    object\n",
      " 9   appetizer         569 non-null    object\n",
      " 10  entree            569 non-null    object\n",
      " 11  dessert           568 non-null    object\n",
      " 12  contestant1       568 non-null    object\n",
      " 13  contestant1_info  556 non-null    object\n",
      " 14  contestant2       569 non-null    object\n",
      " 15  contestant2_info  555 non-null    object\n",
      " 16  contestant3       569 non-null    object\n",
      " 17  contestant3_info  556 non-null    object\n",
      " 18  contestant4       569 non-null    object\n",
      " 19  contestant4_info  555 non-null    object\n",
      "dtypes: int64(3), object(17)\n",
      "memory usage: 89.0+ KB\n"
     ]
    }
   ],
   "source": [
    "df = pd.read_csv('data/chopped.csv')\n",
    "df.info()"
   ]
  },
  {
   "cell_type": "code",
   "execution_count": 26,
   "metadata": {
    "nbgrader": {
     "grade": false,
     "grade_id": "cell-88f46c5a55749a6c",
     "locked": false,
     "schema_version": 3,
     "solution": true,
     "task": false
    },
    "scrolled": true
   },
   "outputs": [
    {
     "data": {
      "text/html": [
       "<div>\n",
       "<style scoped>\n",
       "    .dataframe tbody tr th:only-of-type {\n",
       "        vertical-align: middle;\n",
       "    }\n",
       "\n",
       "    .dataframe tbody tr th {\n",
       "        vertical-align: top;\n",
       "    }\n",
       "\n",
       "    .dataframe thead th {\n",
       "        text-align: right;\n",
       "    }\n",
       "</style>\n",
       "<table border=\"1\" class=\"dataframe\">\n",
       "  <thead>\n",
       "    <tr style=\"text-align: right;\">\n",
       "      <th></th>\n",
       "      <th>season</th>\n",
       "      <th>season_episode</th>\n",
       "      <th>series_episode</th>\n",
       "      <th>episode_name</th>\n",
       "      <th>episode_notes</th>\n",
       "      <th>air_date</th>\n",
       "      <th>judge1</th>\n",
       "      <th>judge2</th>\n",
       "      <th>judge3</th>\n",
       "      <th>appetizer</th>\n",
       "      <th>entree</th>\n",
       "      <th>dessert</th>\n",
       "      <th>contestant1</th>\n",
       "      <th>contestant1_info</th>\n",
       "      <th>contestant2</th>\n",
       "      <th>contestant2_info</th>\n",
       "      <th>contestant3</th>\n",
       "      <th>contestant3_info</th>\n",
       "      <th>contestant4</th>\n",
       "      <th>contestant4_info</th>\n",
       "    </tr>\n",
       "  </thead>\n",
       "  <tbody>\n",
       "    <tr>\n",
       "      <th>0</th>\n",
       "      <td>1</td>\n",
       "      <td>1</td>\n",
       "      <td>1</td>\n",
       "      <td>\"Octopus, Duck, Animal Crackers\"</td>\n",
       "      <td>This is the first episode with only three offi...</td>\n",
       "      <td>2009-01-13</td>\n",
       "      <td>Marc Murphy</td>\n",
       "      <td>Alex Guarnaschelli</td>\n",
       "      <td>Aarón Sánchez</td>\n",
       "      <td>baby octopus, bok choy, oyster sauce, smoked ...</td>\n",
       "      <td>duck breast, green onions, ginger, honey</td>\n",
       "      <td>prunes, animal crackers, cream cheese</td>\n",
       "      <td>Summer Kriegshauser</td>\n",
       "      <td>Private Chef and Nutrition Coach  New York  NY</td>\n",
       "      <td>Perry Pollaci</td>\n",
       "      <td>Private Chef and Sous chef  Bar Blanc  New Yo...</td>\n",
       "      <td>Katie Rosenhouse</td>\n",
       "      <td>Pastry Chef  Olana Restaurant  New York  NY</td>\n",
       "      <td>Sandy Davis</td>\n",
       "      <td>Catering Chef  Showstoppers Catering at Union...</td>\n",
       "    </tr>\n",
       "    <tr>\n",
       "      <th>1</th>\n",
       "      <td>1</td>\n",
       "      <td>2</td>\n",
       "      <td>2</td>\n",
       "      <td>\"Tofu, Blueberries, Oysters\"</td>\n",
       "      <td>This is the first of a few episodes with five ...</td>\n",
       "      <td>2009-01-20</td>\n",
       "      <td>Aarón Sánchez</td>\n",
       "      <td>Alex Guarnaschelli</td>\n",
       "      <td>Marc Murphy</td>\n",
       "      <td>firm tofu, tomato paste, prosciutto</td>\n",
       "      <td>daikon, pork loin, Napa cabbage, Thai chiles,...</td>\n",
       "      <td>phyllo dough, gorgonzola cheese, pineapple ri...</td>\n",
       "      <td>Raymond Jackson</td>\n",
       "      <td>Private Caterer and Culinary Instructor  West...</td>\n",
       "      <td>Klaus Kronsteiner</td>\n",
       "      <td>Chef de cuisine  Liberty National Golf Course...</td>\n",
       "      <td>Christopher Jackson</td>\n",
       "      <td>Executive Chef and Owner  Ted and Honey  Broo...</td>\n",
       "      <td>Pippa Calland</td>\n",
       "      <td>Owner and Chef  Chef for Hire LLC  Newville  PA</td>\n",
       "    </tr>\n",
       "    <tr>\n",
       "      <th>2</th>\n",
       "      <td>1</td>\n",
       "      <td>3</td>\n",
       "      <td>3</td>\n",
       "      <td>\"Avocado, Tahini, Bran Flakes\"</td>\n",
       "      <td>NaN</td>\n",
       "      <td>2009-01-27</td>\n",
       "      <td>Aarón Sánchez</td>\n",
       "      <td>Alex Guarnaschelli</td>\n",
       "      <td>Marc Murphy</td>\n",
       "      <td>lump crab meat, dried shiitake mushrooms, pin...</td>\n",
       "      <td>ground beef, cannellini beans, tahini paste, ...</td>\n",
       "      <td>brioche, cantaloupe, pecans, avocados</td>\n",
       "      <td>Margaritte Malfy</td>\n",
       "      <td>Executive Chef and Co-owner  La Palapa  New Y...</td>\n",
       "      <td>Rachelle Rodwell</td>\n",
       "      <td>Chef de cuisine  SoHo Grand Hotel  New York  NY</td>\n",
       "      <td>Chris Burke</td>\n",
       "      <td>Private Chef  New York  NY</td>\n",
       "      <td>Andre Marrero</td>\n",
       "      <td>Chef tournant  L’Atelier de Joël Robuchon  Ne...</td>\n",
       "    </tr>\n",
       "    <tr>\n",
       "      <th>3</th>\n",
       "      <td>1</td>\n",
       "      <td>4</td>\n",
       "      <td>4</td>\n",
       "      <td>\"Banana, Collard Greens, Grits\"</td>\n",
       "      <td>In the appetizer round, Chef Chuboda refused t...</td>\n",
       "      <td>2009-02-03</td>\n",
       "      <td>Scott Conant</td>\n",
       "      <td>Amanda Freitag</td>\n",
       "      <td>Geoffrey Zakarian</td>\n",
       "      <td>ground beef, wonton wrappers, cream of mushro...</td>\n",
       "      <td>scallops, collard greens, anchovies, sour cream</td>\n",
       "      <td>maple syrup, black plums, almond butter, waln...</td>\n",
       "      <td>Sean Chudoba</td>\n",
       "      <td>Executive Chef  Ayza Wine Bar  New York  NY</td>\n",
       "      <td>Kyle Shadix</td>\n",
       "      <td>Chef  Registered Dietician and Culinary Consu...</td>\n",
       "      <td>Luis Gonzales</td>\n",
       "      <td>Executive Chef  Knickerbocker Bar &amp; Grill  Ne...</td>\n",
       "      <td>Einat Admony</td>\n",
       "      <td>Chef and Owner  Taïm  New York  NY</td>\n",
       "    </tr>\n",
       "    <tr>\n",
       "      <th>4</th>\n",
       "      <td>1</td>\n",
       "      <td>5</td>\n",
       "      <td>5</td>\n",
       "      <td>\"Yucca, Watermelon, Tortillas\"</td>\n",
       "      <td>NaN</td>\n",
       "      <td>2009-02-10</td>\n",
       "      <td>Geoffrey Zakarian</td>\n",
       "      <td>Alex Guarnaschelli</td>\n",
       "      <td>Marc Murphy</td>\n",
       "      <td>watermelon, canned sardines, pepper jack chee...</td>\n",
       "      <td>beef shoulder, yucca, raisins, ancho chiles, ...</td>\n",
       "      <td>flour tortillas, prosecco, Canadian bacon, ro...</td>\n",
       "      <td>John Keller</td>\n",
       "      <td>Personal Chef  New York  NY</td>\n",
       "      <td>Andrea Bergquist</td>\n",
       "      <td>Executive Chef  New York  NY</td>\n",
       "      <td>Ed Witt</td>\n",
       "      <td>Executive Chef / Wine Director  Bloomingdale ...</td>\n",
       "      <td>Josh Emett</td>\n",
       "      <td>Chef de cuisine  Gordon Ramsay at The London ...</td>\n",
       "    </tr>\n",
       "  </tbody>\n",
       "</table>\n",
       "</div>"
      ],
      "text/plain": [
       "   season  season_episode  series_episode                      episode_name   \n",
       "0       1               1               1  \"Octopus, Duck, Animal Crackers\"  \\\n",
       "1       1               2               2      \"Tofu, Blueberries, Oysters\"   \n",
       "2       1               3               3    \"Avocado, Tahini, Bran Flakes\"   \n",
       "3       1               4               4   \"Banana, Collard Greens, Grits\"   \n",
       "4       1               5               5    \"Yucca, Watermelon, Tortillas\"   \n",
       "\n",
       "                                       episode_notes   air_date   \n",
       "0  This is the first episode with only three offi... 2009-01-13  \\\n",
       "1  This is the first of a few episodes with five ... 2009-01-20   \n",
       "2                                                NaN 2009-01-27   \n",
       "3  In the appetizer round, Chef Chuboda refused t... 2009-02-03   \n",
       "4                                                NaN 2009-02-10   \n",
       "\n",
       "              judge1              judge2             judge3   \n",
       "0        Marc Murphy  Alex Guarnaschelli      Aarón Sánchez  \\\n",
       "1      Aarón Sánchez  Alex Guarnaschelli        Marc Murphy   \n",
       "2      Aarón Sánchez  Alex Guarnaschelli        Marc Murphy   \n",
       "3       Scott Conant      Amanda Freitag  Geoffrey Zakarian   \n",
       "4  Geoffrey Zakarian  Alex Guarnaschelli        Marc Murphy   \n",
       "\n",
       "                                           appetizer   \n",
       "0   baby octopus, bok choy, oyster sauce, smoked ...  \\\n",
       "1               firm tofu, tomato paste, prosciutto    \n",
       "2   lump crab meat, dried shiitake mushrooms, pin...   \n",
       "3   ground beef, wonton wrappers, cream of mushro...   \n",
       "4   watermelon, canned sardines, pepper jack chee...   \n",
       "\n",
       "                                              entree   \n",
       "0          duck breast, green onions, ginger, honey   \\\n",
       "1   daikon, pork loin, Napa cabbage, Thai chiles,...   \n",
       "2   ground beef, cannellini beans, tahini paste, ...   \n",
       "3   scallops, collard greens, anchovies, sour cream    \n",
       "4   beef shoulder, yucca, raisins, ancho chiles, ...   \n",
       "\n",
       "                                             dessert          contestant1   \n",
       "0              prunes, animal crackers, cream cheese  Summer Kriegshauser  \\\n",
       "1   phyllo dough, gorgonzola cheese, pineapple ri...      Raymond Jackson   \n",
       "2              brioche, cantaloupe, pecans, avocados     Margaritte Malfy   \n",
       "3   maple syrup, black plums, almond butter, waln...         Sean Chudoba   \n",
       "4   flour tortillas, prosecco, Canadian bacon, ro...          John Keller   \n",
       "\n",
       "                                    contestant1_info         contestant2   \n",
       "0    Private Chef and Nutrition Coach  New York  NY        Perry Pollaci  \\\n",
       "1   Private Caterer and Culinary Instructor  West...   Klaus Kronsteiner   \n",
       "2   Executive Chef and Co-owner  La Palapa  New Y...    Rachelle Rodwell   \n",
       "3       Executive Chef  Ayza Wine Bar  New York  NY          Kyle Shadix   \n",
       "4                       Personal Chef  New York  NY     Andrea Bergquist   \n",
       "\n",
       "                                    contestant2_info           contestant3   \n",
       "0   Private Chef and Sous chef  Bar Blanc  New Yo...      Katie Rosenhouse  \\\n",
       "1   Chef de cuisine  Liberty National Golf Course...   Christopher Jackson   \n",
       "2   Chef de cuisine  SoHo Grand Hotel  New York  NY            Chris Burke   \n",
       "3   Chef  Registered Dietician and Culinary Consu...         Luis Gonzales   \n",
       "4                      Executive Chef  New York  NY                Ed Witt   \n",
       "\n",
       "                                    contestant3_info     contestant4   \n",
       "0       Pastry Chef  Olana Restaurant  New York  NY      Sandy Davis  \\\n",
       "1   Executive Chef and Owner  Ted and Honey  Broo...   Pippa Calland   \n",
       "2                        Private Chef  New York  NY    Andre Marrero   \n",
       "3   Executive Chef  Knickerbocker Bar & Grill  Ne...    Einat Admony   \n",
       "4   Executive Chef / Wine Director  Bloomingdale ...      Josh Emett   \n",
       "\n",
       "                                    contestant4_info  \n",
       "0   Catering Chef  Showstoppers Catering at Union...  \n",
       "1   Owner and Chef  Chef for Hire LLC  Newville  PA   \n",
       "2   Chef tournant  L’Atelier de Joël Robuchon  Ne...  \n",
       "3                Chef and Owner  Taïm  New York  NY   \n",
       "4   Chef de cuisine  Gordon Ramsay at The London ...  "
      ]
     },
     "execution_count": 26,
     "metadata": {},
     "output_type": "execute_result"
    }
   ],
   "source": [
    "chopped = pd.read_csv('data/chopped.csv', parse_dates=[\"air_date\"])\n",
    "chopped.head()"
   ]
  },
  {
   "cell_type": "code",
   "execution_count": 27,
   "metadata": {},
   "outputs": [
    {
     "name": "stdout",
     "output_type": "stream",
     "text": [
      "<class 'pandas.core.frame.DataFrame'>\n",
      "RangeIndex: 569 entries, 0 to 568\n",
      "Data columns (total 20 columns):\n",
      " #   Column            Non-Null Count  Dtype         \n",
      "---  ------            --------------  -----         \n",
      " 0   season            569 non-null    int64         \n",
      " 1   season_episode    569 non-null    int64         \n",
      " 2   series_episode    569 non-null    int64         \n",
      " 3   episode_name      569 non-null    object        \n",
      " 4   episode_notes     456 non-null    object        \n",
      " 5   air_date          569 non-null    datetime64[ns]\n",
      " 6   judge1            568 non-null    object        \n",
      " 7   judge2            568 non-null    object        \n",
      " 8   judge3            568 non-null    object        \n",
      " 9   appetizer         569 non-null    object        \n",
      " 10  entree            569 non-null    object        \n",
      " 11  dessert           568 non-null    object        \n",
      " 12  contestant1       568 non-null    object        \n",
      " 13  contestant1_info  556 non-null    object        \n",
      " 14  contestant2       569 non-null    object        \n",
      " 15  contestant2_info  555 non-null    object        \n",
      " 16  contestant3       569 non-null    object        \n",
      " 17  contestant3_info  556 non-null    object        \n",
      " 18  contestant4       569 non-null    object        \n",
      " 19  contestant4_info  555 non-null    object        \n",
      "dtypes: datetime64[ns](1), int64(3), object(16)\n",
      "memory usage: 89.0+ KB\n"
     ]
    }
   ],
   "source": [
    "chopped.info()"
   ]
  },
  {
   "cell_type": "markdown",
   "metadata": {},
   "source": [
    "How can we look at the difference of dates?"
   ]
  },
  {
   "cell_type": "code",
   "execution_count": 29,
   "metadata": {},
   "outputs": [
    {
     "data": {
      "text/plain": [
       "Timestamp('2020-08-04 00:00:00')"
      ]
     },
     "execution_count": 29,
     "metadata": {},
     "output_type": "execute_result"
    }
   ],
   "source": [
    "chopped[\"air_date\"].max()"
   ]
  },
  {
   "cell_type": "code",
   "execution_count": 30,
   "metadata": {},
   "outputs": [
    {
     "data": {
      "text/plain": [
       "Timedelta('4221 days 00:00:00')"
      ]
     },
     "execution_count": 30,
     "metadata": {},
     "output_type": "execute_result"
    }
   ],
   "source": [
    "my_diff = chopped[\"air_date\"].max()-chopped[\"air_date\"].min()\n",
    "my_diff"
   ]
  },
  {
   "cell_type": "code",
   "execution_count": 31,
   "metadata": {},
   "outputs": [
    {
     "data": {
      "text/plain": [
       "4221"
      ]
     },
     "execution_count": 31,
     "metadata": {},
     "output_type": "execute_result"
    }
   ],
   "source": [
    "my_diff.days"
   ]
  },
  {
   "cell_type": "code",
   "execution_count": 32,
   "metadata": {},
   "outputs": [
    {
     "data": {
      "text/plain": [
       "4221"
      ]
     },
     "execution_count": 32,
     "metadata": {},
     "output_type": "execute_result"
    }
   ],
   "source": [
    "(chopped[\"air_date\"].max() - chopped[\"air_date\"].min()).days"
   ]
  },
  {
   "cell_type": "markdown",
   "metadata": {},
   "source": [
    "How can I check the differences between dates in the whole data frame?"
   ]
  },
  {
   "cell_type": "code",
   "execution_count": 33,
   "metadata": {},
   "outputs": [
    {
     "data": {
      "text/plain": [
       "0     2009-01-13\n",
       "1     2009-01-20\n",
       "2     2009-01-27\n",
       "3     2009-02-03\n",
       "4     2009-02-10\n",
       "         ...    \n",
       "564   2020-06-23\n",
       "565   2020-06-30\n",
       "566   2020-07-07\n",
       "567   2020-07-21\n",
       "568   2020-07-28\n",
       "Name: air_date, Length: 569, dtype: datetime64[ns]"
      ]
     },
     "execution_count": 33,
     "metadata": {},
     "output_type": "execute_result"
    }
   ],
   "source": [
    "chopped[\"air_date\"]"
   ]
  },
  {
   "cell_type": "code",
   "execution_count": 34,
   "metadata": {
    "nbgrader": {
     "grade": false,
     "grade_id": "cell-3f9dd8e88f540a44",
     "locked": false,
     "schema_version": 3,
     "solution": true,
     "task": false
    },
    "scrolled": true
   },
   "outputs": [
    {
     "data": {
      "text/plain": [
       "0         NaT\n",
       "1      7 days\n",
       "2      7 days\n",
       "3      7 days\n",
       "4      7 days\n",
       "        ...  \n",
       "564    7 days\n",
       "565    7 days\n",
       "566    7 days\n",
       "567   14 days\n",
       "568    7 days\n",
       "Name: air_date, Length: 569, dtype: timedelta64[ns]"
      ]
     },
     "execution_count": 34,
     "metadata": {},
     "output_type": "execute_result"
    }
   ],
   "source": [
    "chopped[\"air_date\"].diff()\n",
    "# Notice the first NaT"
   ]
  },
  {
   "cell_type": "code",
   "execution_count": 35,
   "metadata": {
    "scrolled": true
   },
   "outputs": [
    {
     "data": {
      "text/plain": [
       "0       January\n",
       "1       January\n",
       "2       January\n",
       "3      February\n",
       "4      February\n",
       "         ...   \n",
       "564        June\n",
       "565        June\n",
       "566        July\n",
       "567        July\n",
       "568        July\n",
       "Name: air_date, Length: 569, dtype: object"
      ]
     },
     "execution_count": 35,
     "metadata": {},
     "output_type": "execute_result"
    }
   ],
   "source": [
    "chopped['air_date'].dt.month_name()"
   ]
  },
  {
   "cell_type": "markdown",
   "metadata": {},
   "source": [
    "### Replacing Strings in Data Frame"
   ]
  },
  {
   "cell_type": "code",
   "execution_count": 54,
   "metadata": {
    "scrolled": true
   },
   "outputs": [
    {
     "data": {
      "text/html": [
       "<div>\n",
       "<style scoped>\n",
       "    .dataframe tbody tr th:only-of-type {\n",
       "        vertical-align: middle;\n",
       "    }\n",
       "\n",
       "    .dataframe tbody tr th {\n",
       "        vertical-align: top;\n",
       "    }\n",
       "\n",
       "    .dataframe thead th {\n",
       "        text-align: right;\n",
       "    }\n",
       "</style>\n",
       "<table border=\"1\" class=\"dataframe\">\n",
       "  <thead>\n",
       "    <tr style=\"text-align: right;\">\n",
       "      <th></th>\n",
       "      <th>A</th>\n",
       "      <th>B</th>\n",
       "      <th>C</th>\n",
       "    </tr>\n",
       "  </thead>\n",
       "  <tbody>\n",
       "    <tr>\n",
       "      <th>0</th>\n",
       "      <td>Africa</td>\n",
       "      <td>5.0</td>\n",
       "      <td>9</td>\n",
       "    </tr>\n",
       "    <tr>\n",
       "      <th>1</th>\n",
       "      <td>Asia</td>\n",
       "      <td>NaN</td>\n",
       "      <td>10</td>\n",
       "    </tr>\n",
       "    <tr>\n",
       "      <th>2</th>\n",
       "      <td>America</td>\n",
       "      <td>7.0</td>\n",
       "      <td>11</td>\n",
       "    </tr>\n",
       "    <tr>\n",
       "      <th>3</th>\n",
       "      <td>Asia</td>\n",
       "      <td>8.0</td>\n",
       "      <td>12</td>\n",
       "    </tr>\n",
       "  </tbody>\n",
       "</table>\n",
       "</div>"
      ],
      "text/plain": [
       "         A    B   C\n",
       "0   Africa  5.0   9\n",
       "1     Asia  NaN  10\n",
       "2  America  7.0  11\n",
       "3     Asia  8.0  12"
      ]
     },
     "execution_count": 54,
     "metadata": {},
     "output_type": "execute_result"
    }
   ],
   "source": [
    "data = {'A': [\"Africa\", \"  Asia\", \"America\", \"Asia\"],\n",
    "        'B': [5, np.nan, 7, 8],\n",
    "        'C': [9, 10, 11, 12]}\n",
    "\n",
    "df = pd.DataFrame(data)\n",
    "df"
   ]
  },
  {
   "cell_type": "code",
   "execution_count": 55,
   "metadata": {},
   "outputs": [
    {
     "data": {
      "text/plain": [
       "A\n",
       "Africa     1\n",
       "  Asia     1\n",
       "America    1\n",
       "Asia       1\n",
       "Name: count, dtype: int64"
      ]
     },
     "execution_count": 55,
     "metadata": {},
     "output_type": "execute_result"
    }
   ],
   "source": [
    "df['A'].value_counts()"
   ]
  },
  {
   "cell_type": "code",
   "execution_count": 50,
   "metadata": {},
   "outputs": [
    {
     "data": {
      "text/plain": [
       "0       Africa\n",
       "1      A s i a\n",
       "2      America\n",
       "3      A s i a\n",
       "Name: A, dtype: object"
      ]
     },
     "execution_count": 50,
     "metadata": {},
     "output_type": "execute_result"
    }
   ],
   "source": [
    "df['A']"
   ]
  },
  {
   "cell_type": "code",
   "execution_count": 51,
   "metadata": {},
   "outputs": [],
   "source": [
    "df['A'] = df['A'].str.replace('A s i a', 'Asia')"
   ]
  },
  {
   "cell_type": "code",
   "execution_count": 52,
   "metadata": {},
   "outputs": [],
   "source": [
    "assert df.shape == (4,3), \"Shape wrong!\""
   ]
  },
  {
   "cell_type": "code",
   "execution_count": 46,
   "metadata": {},
   "outputs": [
    {
     "data": {
      "text/plain": [
       "(4,)"
      ]
     },
     "execution_count": 46,
     "metadata": {},
     "output_type": "execute_result"
    }
   ],
   "source": [
    "df.shape"
   ]
  },
  {
   "cell_type": "code",
   "execution_count": 56,
   "metadata": {},
   "outputs": [],
   "source": [
    "df['A'] = df['A'].str.strip()"
   ]
  },
  {
   "cell_type": "code",
   "execution_count": 57,
   "metadata": {},
   "outputs": [
    {
     "data": {
      "text/plain": [
       "A\n",
       "Asia       2\n",
       "Africa     1\n",
       "America    1\n",
       "Name: count, dtype: int64"
      ]
     },
     "execution_count": 57,
     "metadata": {},
     "output_type": "execute_result"
    }
   ],
   "source": [
    "df['A'].value_counts()"
   ]
  },
  {
   "cell_type": "code",
   "execution_count": 58,
   "metadata": {},
   "outputs": [
    {
     "data": {
      "text/html": [
       "<div>\n",
       "<style scoped>\n",
       "    .dataframe tbody tr th:only-of-type {\n",
       "        vertical-align: middle;\n",
       "    }\n",
       "\n",
       "    .dataframe tbody tr th {\n",
       "        vertical-align: top;\n",
       "    }\n",
       "\n",
       "    .dataframe thead th {\n",
       "        text-align: right;\n",
       "    }\n",
       "</style>\n",
       "<table border=\"1\" class=\"dataframe\">\n",
       "  <thead>\n",
       "    <tr style=\"text-align: right;\">\n",
       "      <th></th>\n",
       "      <th>A</th>\n",
       "      <th>B</th>\n",
       "      <th>C</th>\n",
       "    </tr>\n",
       "  </thead>\n",
       "  <tbody>\n",
       "    <tr>\n",
       "      <th>2</th>\n",
       "      <td>America</td>\n",
       "      <td>7.0</td>\n",
       "      <td>11</td>\n",
       "    </tr>\n",
       "  </tbody>\n",
       "</table>\n",
       "</div>"
      ],
      "text/plain": [
       "         A    B   C\n",
       "2  America  7.0  11"
      ]
     },
     "execution_count": 58,
     "metadata": {},
     "output_type": "execute_result"
    }
   ],
   "source": [
    "df[df['A'].str.contains('Am')]"
   ]
  },
  {
   "cell_type": "markdown",
   "metadata": {},
   "source": [
    "#### Assignment Question 3: Cleaning the dirty data frame"
   ]
  },
  {
   "cell_type": "code",
   "execution_count": null,
   "metadata": {},
   "outputs": [],
   "source": [
    "#clean.copy()"
   ]
  },
  {
   "cell_type": "code",
   "execution_count": 59,
   "metadata": {
    "scrolled": true
   },
   "outputs": [
    {
     "data": {
      "text/html": [
       "<div>\n",
       "<style scoped>\n",
       "    .dataframe tbody tr th:only-of-type {\n",
       "        vertical-align: middle;\n",
       "    }\n",
       "\n",
       "    .dataframe tbody tr th {\n",
       "        vertical-align: top;\n",
       "    }\n",
       "\n",
       "    .dataframe thead th {\n",
       "        text-align: right;\n",
       "    }\n",
       "</style>\n",
       "<table border=\"1\" class=\"dataframe\">\n",
       "  <thead>\n",
       "    <tr style=\"text-align: right;\">\n",
       "      <th></th>\n",
       "      <th>year</th>\n",
       "      <th>pop</th>\n",
       "      <th>lifeExp</th>\n",
       "      <th>gdpPercap</th>\n",
       "      <th>continent</th>\n",
       "      <th>country</th>\n",
       "    </tr>\n",
       "  </thead>\n",
       "  <tbody>\n",
       "    <tr>\n",
       "      <th>0</th>\n",
       "      <td>1952</td>\n",
       "      <td>8425333.0</td>\n",
       "      <td>28.801</td>\n",
       "      <td>779.445314</td>\n",
       "      <td>Asia</td>\n",
       "      <td>Afghanistan</td>\n",
       "    </tr>\n",
       "    <tr>\n",
       "      <th>1</th>\n",
       "      <td>1957</td>\n",
       "      <td>9240934.0</td>\n",
       "      <td>30.332</td>\n",
       "      <td>820.853030</td>\n",
       "      <td>Asia</td>\n",
       "      <td>Afghanistan</td>\n",
       "    </tr>\n",
       "  </tbody>\n",
       "</table>\n",
       "</div>"
      ],
      "text/plain": [
       "   year        pop  lifeExp   gdpPercap continent      country\n",
       "0  1952  8425333.0   28.801  779.445314      Asia  Afghanistan\n",
       "1  1957  9240934.0   30.332  820.853030      Asia  Afghanistan"
      ]
     },
     "execution_count": 59,
     "metadata": {},
     "output_type": "execute_result"
    }
   ],
   "source": [
    "dirty = pd.read_csv('data/dirty_gapminder.csv')\n",
    "dirty.head(2)"
   ]
  },
  {
   "cell_type": "code",
   "execution_count": 60,
   "metadata": {},
   "outputs": [
    {
     "data": {
      "text/html": [
       "<div>\n",
       "<style scoped>\n",
       "    .dataframe tbody tr th:only-of-type {\n",
       "        vertical-align: middle;\n",
       "    }\n",
       "\n",
       "    .dataframe tbody tr th {\n",
       "        vertical-align: top;\n",
       "    }\n",
       "\n",
       "    .dataframe thead th {\n",
       "        text-align: right;\n",
       "    }\n",
       "</style>\n",
       "<table border=\"1\" class=\"dataframe\">\n",
       "  <thead>\n",
       "    <tr style=\"text-align: right;\">\n",
       "      <th></th>\n",
       "      <th>country</th>\n",
       "      <th>year</th>\n",
       "      <th>pop</th>\n",
       "      <th>continent</th>\n",
       "      <th>lifeExp</th>\n",
       "      <th>gdpPercap</th>\n",
       "    </tr>\n",
       "  </thead>\n",
       "  <tbody>\n",
       "    <tr>\n",
       "      <th>0</th>\n",
       "      <td>Afghanistan</td>\n",
       "      <td>1952</td>\n",
       "      <td>8425333.0</td>\n",
       "      <td>Asia</td>\n",
       "      <td>28.801</td>\n",
       "      <td>779.445314</td>\n",
       "    </tr>\n",
       "    <tr>\n",
       "      <th>1</th>\n",
       "      <td>Afghanistan</td>\n",
       "      <td>1957</td>\n",
       "      <td>9240934.0</td>\n",
       "      <td>Asia</td>\n",
       "      <td>30.332</td>\n",
       "      <td>820.853030</td>\n",
       "    </tr>\n",
       "  </tbody>\n",
       "</table>\n",
       "</div>"
      ],
      "text/plain": [
       "       country  year        pop continent  lifeExp   gdpPercap\n",
       "0  Afghanistan  1952  8425333.0      Asia   28.801  779.445314\n",
       "1  Afghanistan  1957  9240934.0      Asia   30.332  820.853030"
      ]
     },
     "execution_count": 60,
     "metadata": {},
     "output_type": "execute_result"
    }
   ],
   "source": [
    "clean = pd.read_csv('data/clean_gapminder.csv')\n",
    "clean.head(2)"
   ]
  },
  {
   "cell_type": "markdown",
   "metadata": {},
   "source": [
    "Motivation: Make dirty look the same way as clean"
   ]
  },
  {
   "cell_type": "code",
   "execution_count": 62,
   "metadata": {},
   "outputs": [
    {
     "data": {
      "text/html": [
       "<div>\n",
       "<style scoped>\n",
       "    .dataframe tbody tr th:only-of-type {\n",
       "        vertical-align: middle;\n",
       "    }\n",
       "\n",
       "    .dataframe tbody tr th {\n",
       "        vertical-align: top;\n",
       "    }\n",
       "\n",
       "    .dataframe thead th {\n",
       "        text-align: right;\n",
       "    }\n",
       "</style>\n",
       "<table border=\"1\" class=\"dataframe\">\n",
       "  <thead>\n",
       "    <tr style=\"text-align: right;\">\n",
       "      <th></th>\n",
       "      <th>year</th>\n",
       "      <th>pop</th>\n",
       "      <th>lifeExp</th>\n",
       "      <th>gdpPercap</th>\n",
       "      <th>continent</th>\n",
       "      <th>country</th>\n",
       "    </tr>\n",
       "  </thead>\n",
       "  <tbody>\n",
       "    <tr>\n",
       "      <th>240</th>\n",
       "      <td>1952</td>\n",
       "      <td>1.478558e+07</td>\n",
       "      <td>68.75000</td>\n",
       "      <td>11367.161120</td>\n",
       "      <td>NaN</td>\n",
       "      <td>Canada</td>\n",
       "    </tr>\n",
       "    <tr>\n",
       "      <th>241</th>\n",
       "      <td>1957</td>\n",
       "      <td>1.701015e+07</td>\n",
       "      <td>69.96000</td>\n",
       "      <td>12489.950060</td>\n",
       "      <td>NaN</td>\n",
       "      <td>Canada</td>\n",
       "    </tr>\n",
       "    <tr>\n",
       "      <th>242</th>\n",
       "      <td>1962</td>\n",
       "      <td>1.898585e+07</td>\n",
       "      <td>71.30000</td>\n",
       "      <td>13462.485550</td>\n",
       "      <td>NaN</td>\n",
       "      <td>Canada</td>\n",
       "    </tr>\n",
       "    <tr>\n",
       "      <th>243</th>\n",
       "      <td>1967</td>\n",
       "      <td>2.081977e+07</td>\n",
       "      <td>72.13000</td>\n",
       "      <td>16076.588030</td>\n",
       "      <td>NaN</td>\n",
       "      <td>Canada</td>\n",
       "    </tr>\n",
       "    <tr>\n",
       "      <th>244</th>\n",
       "      <td>1972</td>\n",
       "      <td>2.228450e+07</td>\n",
       "      <td>72.88000</td>\n",
       "      <td>18970.570860</td>\n",
       "      <td>NaN</td>\n",
       "      <td>Canada</td>\n",
       "    </tr>\n",
       "    <tr>\n",
       "      <th>245</th>\n",
       "      <td>1977</td>\n",
       "      <td>2.379640e+07</td>\n",
       "      <td>74.21000</td>\n",
       "      <td>22090.883060</td>\n",
       "      <td>NaN</td>\n",
       "      <td>Canada</td>\n",
       "    </tr>\n",
       "    <tr>\n",
       "      <th>246</th>\n",
       "      <td>1982</td>\n",
       "      <td>2.520190e+07</td>\n",
       "      <td>75.76000</td>\n",
       "      <td>22898.792140</td>\n",
       "      <td>NaN</td>\n",
       "      <td>Canada</td>\n",
       "    </tr>\n",
       "    <tr>\n",
       "      <th>247</th>\n",
       "      <td>1987</td>\n",
       "      <td>2.654970e+07</td>\n",
       "      <td>76.86000</td>\n",
       "      <td>26626.515030</td>\n",
       "      <td>NaN</td>\n",
       "      <td>Canada</td>\n",
       "    </tr>\n",
       "    <tr>\n",
       "      <th>248</th>\n",
       "      <td>1992</td>\n",
       "      <td>2.852350e+07</td>\n",
       "      <td>77.95000</td>\n",
       "      <td>26342.884260</td>\n",
       "      <td>NaN</td>\n",
       "      <td>Canada</td>\n",
       "    </tr>\n",
       "    <tr>\n",
       "      <th>249</th>\n",
       "      <td>1997</td>\n",
       "      <td>3.030584e+07</td>\n",
       "      <td>78.61000</td>\n",
       "      <td>28954.925890</td>\n",
       "      <td>NaN</td>\n",
       "      <td>Canada</td>\n",
       "    </tr>\n",
       "    <tr>\n",
       "      <th>250</th>\n",
       "      <td>2002</td>\n",
       "      <td>3.190227e+07</td>\n",
       "      <td>79.77000</td>\n",
       "      <td>33328.965070</td>\n",
       "      <td>NaN</td>\n",
       "      <td>Canada</td>\n",
       "    </tr>\n",
       "    <tr>\n",
       "      <th>251</th>\n",
       "      <td>2007</td>\n",
       "      <td>3.339014e+07</td>\n",
       "      <td>80.65300</td>\n",
       "      <td>36319.235010</td>\n",
       "      <td>NaN</td>\n",
       "      <td>Canada</td>\n",
       "    </tr>\n",
       "    <tr>\n",
       "      <th>257</th>\n",
       "      <td>1977</td>\n",
       "      <td>2.167533e+06</td>\n",
       "      <td>46.77500</td>\n",
       "      <td>1109.374338</td>\n",
       "      <td>Africa</td>\n",
       "      <td>Central african republic</td>\n",
       "    </tr>\n",
       "    <tr>\n",
       "      <th>258</th>\n",
       "      <td>1982</td>\n",
       "      <td>2.476971e+06</td>\n",
       "      <td>48.29500</td>\n",
       "      <td>956.752991</td>\n",
       "      <td>Africa</td>\n",
       "      <td>Central african republic</td>\n",
       "    </tr>\n",
       "    <tr>\n",
       "      <th>259</th>\n",
       "      <td>1987</td>\n",
       "      <td>2.840009e+06</td>\n",
       "      <td>50.48500</td>\n",
       "      <td>844.876350</td>\n",
       "      <td>Africa</td>\n",
       "      <td>Central african republic</td>\n",
       "    </tr>\n",
       "    <tr>\n",
       "      <th>260</th>\n",
       "      <td>1992</td>\n",
       "      <td>3.265124e+06</td>\n",
       "      <td>49.39600</td>\n",
       "      <td>747.905525</td>\n",
       "      <td>Africa</td>\n",
       "      <td>Central african republic</td>\n",
       "    </tr>\n",
       "    <tr>\n",
       "      <th>293</th>\n",
       "      <td>1977</td>\n",
       "      <td>9.434550e+08</td>\n",
       "      <td>63.96736</td>\n",
       "      <td>741.237470</td>\n",
       "      <td>Asia</td>\n",
       "      <td>china</td>\n",
       "    </tr>\n",
       "    <tr>\n",
       "      <th>294</th>\n",
       "      <td>1982</td>\n",
       "      <td>1.000281e+09</td>\n",
       "      <td>65.52500</td>\n",
       "      <td>962.421381</td>\n",
       "      <td>Asia</td>\n",
       "      <td>china</td>\n",
       "    </tr>\n",
       "    <tr>\n",
       "      <th>295</th>\n",
       "      <td>1987</td>\n",
       "      <td>1.084035e+09</td>\n",
       "      <td>67.27400</td>\n",
       "      <td>1378.904018</td>\n",
       "      <td>Asia</td>\n",
       "      <td>china</td>\n",
       "    </tr>\n",
       "    <tr>\n",
       "      <th>296</th>\n",
       "      <td>1992</td>\n",
       "      <td>1.164970e+09</td>\n",
       "      <td>68.69000</td>\n",
       "      <td>1655.784158</td>\n",
       "      <td>Asia</td>\n",
       "      <td>china</td>\n",
       "    </tr>\n",
       "    <tr>\n",
       "      <th>302</th>\n",
       "      <td>1962</td>\n",
       "      <td>1.700988e+07</td>\n",
       "      <td>57.86300</td>\n",
       "      <td>2492.351109</td>\n",
       "      <td>Americas</td>\n",
       "      <td>Colombia</td>\n",
       "    </tr>\n",
       "    <tr>\n",
       "      <th>303</th>\n",
       "      <td>1967</td>\n",
       "      <td>1.976403e+07</td>\n",
       "      <td>59.96300</td>\n",
       "      <td>2678.729839</td>\n",
       "      <td>Americas</td>\n",
       "      <td>Colombia</td>\n",
       "    </tr>\n",
       "    <tr>\n",
       "      <th>328</th>\n",
       "      <td>1972</td>\n",
       "      <td>2.300767e+07</td>\n",
       "      <td>45.98900</td>\n",
       "      <td>904.896068</td>\n",
       "      <td>Africa</td>\n",
       "      <td>Democratic Republic of the Congo</td>\n",
       "    </tr>\n",
       "    <tr>\n",
       "      <th>333</th>\n",
       "      <td>1997</td>\n",
       "      <td>4.779899e+07</td>\n",
       "      <td>42.58700</td>\n",
       "      <td>312.188423</td>\n",
       "      <td>Africa</td>\n",
       "      <td>Congo, Democratic Republic</td>\n",
       "    </tr>\n",
       "    <tr>\n",
       "      <th>369</th>\n",
       "      <td>1997</td>\n",
       "      <td>1.462597e+07</td>\n",
       "      <td>47.99100</td>\n",
       "      <td>1786.265407</td>\n",
       "      <td>Africa</td>\n",
       "      <td>Cote d'Ivore</td>\n",
       "    </tr>\n",
       "    <tr>\n",
       "      <th>815</th>\n",
       "      <td>2007</td>\n",
       "      <td>6.053193e+06</td>\n",
       "      <td>72.53500</td>\n",
       "      <td>4519.461171</td>\n",
       "      <td>Asia</td>\n",
       "      <td>Jordan</td>\n",
       "    </tr>\n",
       "    <tr>\n",
       "      <th>828</th>\n",
       "      <td>1952</td>\n",
       "      <td>8.865488e+06</td>\n",
       "      <td>50.05600</td>\n",
       "      <td>1088.277758</td>\n",
       "      <td>Asia</td>\n",
       "      <td>Korea, Dem. Rep.</td>\n",
       "    </tr>\n",
       "    <tr>\n",
       "      <th>829</th>\n",
       "      <td>1957</td>\n",
       "      <td>9.411381e+06</td>\n",
       "      <td>54.08100</td>\n",
       "      <td>1571.134655</td>\n",
       "      <td>Asia</td>\n",
       "      <td>Korea, Dem. Rep.</td>\n",
       "    </tr>\n",
       "  </tbody>\n",
       "</table>\n",
       "</div>"
      ],
      "text/plain": [
       "     year           pop   lifeExp     gdpPercap continent   \n",
       "240  1952  1.478558e+07  68.75000  11367.161120       NaN  \\\n",
       "241  1957  1.701015e+07  69.96000  12489.950060       NaN   \n",
       "242  1962  1.898585e+07  71.30000  13462.485550       NaN   \n",
       "243  1967  2.081977e+07  72.13000  16076.588030       NaN   \n",
       "244  1972  2.228450e+07  72.88000  18970.570860       NaN   \n",
       "245  1977  2.379640e+07  74.21000  22090.883060       NaN   \n",
       "246  1982  2.520190e+07  75.76000  22898.792140       NaN   \n",
       "247  1987  2.654970e+07  76.86000  26626.515030       NaN   \n",
       "248  1992  2.852350e+07  77.95000  26342.884260       NaN   \n",
       "249  1997  3.030584e+07  78.61000  28954.925890       NaN   \n",
       "250  2002  3.190227e+07  79.77000  33328.965070       NaN   \n",
       "251  2007  3.339014e+07  80.65300  36319.235010       NaN   \n",
       "257  1977  2.167533e+06  46.77500   1109.374338    Africa   \n",
       "258  1982  2.476971e+06  48.29500    956.752991    Africa   \n",
       "259  1987  2.840009e+06  50.48500    844.876350    Africa   \n",
       "260  1992  3.265124e+06  49.39600    747.905525    Africa   \n",
       "293  1977  9.434550e+08  63.96736    741.237470      Asia   \n",
       "294  1982  1.000281e+09  65.52500    962.421381      Asia   \n",
       "295  1987  1.084035e+09  67.27400   1378.904018      Asia   \n",
       "296  1992  1.164970e+09  68.69000   1655.784158      Asia   \n",
       "302  1962  1.700988e+07  57.86300   2492.351109  Americas   \n",
       "303  1967  1.976403e+07  59.96300   2678.729839  Americas   \n",
       "328  1972  2.300767e+07  45.98900    904.896068    Africa   \n",
       "333  1997  4.779899e+07  42.58700    312.188423    Africa   \n",
       "369  1997  1.462597e+07  47.99100   1786.265407    Africa   \n",
       "815  2007  6.053193e+06  72.53500   4519.461171      Asia   \n",
       "828  1952  8.865488e+06  50.05600   1088.277758      Asia   \n",
       "829  1957  9.411381e+06  54.08100   1571.134655      Asia   \n",
       "\n",
       "                              country  \n",
       "240                            Canada  \n",
       "241                            Canada  \n",
       "242                            Canada  \n",
       "243                            Canada  \n",
       "244                            Canada  \n",
       "245                            Canada  \n",
       "246                            Canada  \n",
       "247                            Canada  \n",
       "248                            Canada  \n",
       "249                            Canada  \n",
       "250                            Canada  \n",
       "251                            Canada  \n",
       "257          Central african republic  \n",
       "258          Central african republic  \n",
       "259          Central african republic  \n",
       "260          Central african republic  \n",
       "293                             china  \n",
       "294                             china  \n",
       "295                             china  \n",
       "296                             china  \n",
       "302                      Colombia      \n",
       "303                      Colombia      \n",
       "328  Democratic Republic of the Congo  \n",
       "333        Congo, Democratic Republic  \n",
       "369                      Cote d'Ivore  \n",
       "815                            Jordan  \n",
       "828                  Korea, Dem. Rep.  \n",
       "829                  Korea, Dem. Rep.  "
      ]
     },
     "execution_count": 62,
     "metadata": {},
     "output_type": "execute_result"
    }
   ],
   "source": [
    "dirty[(~clean.eq(dirty)).any(axis=1)]#.shape"
   ]
  },
  {
   "cell_type": "code",
   "execution_count": 63,
   "metadata": {},
   "outputs": [
    {
     "data": {
      "text/html": [
       "<div>\n",
       "<style scoped>\n",
       "    .dataframe tbody tr th:only-of-type {\n",
       "        vertical-align: middle;\n",
       "    }\n",
       "\n",
       "    .dataframe tbody tr th {\n",
       "        vertical-align: top;\n",
       "    }\n",
       "\n",
       "    .dataframe thead th {\n",
       "        text-align: right;\n",
       "    }\n",
       "</style>\n",
       "<table border=\"1\" class=\"dataframe\">\n",
       "  <thead>\n",
       "    <tr style=\"text-align: right;\">\n",
       "      <th></th>\n",
       "      <th>country</th>\n",
       "      <th>year</th>\n",
       "      <th>pop</th>\n",
       "      <th>continent</th>\n",
       "      <th>lifeExp</th>\n",
       "      <th>gdpPercap</th>\n",
       "    </tr>\n",
       "  </thead>\n",
       "  <tbody>\n",
       "    <tr>\n",
       "      <th>240</th>\n",
       "      <td>Canada</td>\n",
       "      <td>1952</td>\n",
       "      <td>1.478558e+07</td>\n",
       "      <td>Americas</td>\n",
       "      <td>68.75000</td>\n",
       "      <td>11367.161120</td>\n",
       "    </tr>\n",
       "    <tr>\n",
       "      <th>241</th>\n",
       "      <td>Canada</td>\n",
       "      <td>1957</td>\n",
       "      <td>1.701015e+07</td>\n",
       "      <td>Americas</td>\n",
       "      <td>69.96000</td>\n",
       "      <td>12489.950060</td>\n",
       "    </tr>\n",
       "    <tr>\n",
       "      <th>242</th>\n",
       "      <td>Canada</td>\n",
       "      <td>1962</td>\n",
       "      <td>1.898585e+07</td>\n",
       "      <td>Americas</td>\n",
       "      <td>71.30000</td>\n",
       "      <td>13462.485550</td>\n",
       "    </tr>\n",
       "    <tr>\n",
       "      <th>243</th>\n",
       "      <td>Canada</td>\n",
       "      <td>1967</td>\n",
       "      <td>2.081977e+07</td>\n",
       "      <td>Americas</td>\n",
       "      <td>72.13000</td>\n",
       "      <td>16076.588030</td>\n",
       "    </tr>\n",
       "    <tr>\n",
       "      <th>244</th>\n",
       "      <td>Canada</td>\n",
       "      <td>1972</td>\n",
       "      <td>2.228450e+07</td>\n",
       "      <td>Americas</td>\n",
       "      <td>72.88000</td>\n",
       "      <td>18970.570860</td>\n",
       "    </tr>\n",
       "    <tr>\n",
       "      <th>245</th>\n",
       "      <td>Canada</td>\n",
       "      <td>1977</td>\n",
       "      <td>2.379640e+07</td>\n",
       "      <td>Americas</td>\n",
       "      <td>74.21000</td>\n",
       "      <td>22090.883060</td>\n",
       "    </tr>\n",
       "    <tr>\n",
       "      <th>246</th>\n",
       "      <td>Canada</td>\n",
       "      <td>1982</td>\n",
       "      <td>2.520190e+07</td>\n",
       "      <td>Americas</td>\n",
       "      <td>75.76000</td>\n",
       "      <td>22898.792140</td>\n",
       "    </tr>\n",
       "    <tr>\n",
       "      <th>247</th>\n",
       "      <td>Canada</td>\n",
       "      <td>1987</td>\n",
       "      <td>2.654970e+07</td>\n",
       "      <td>Americas</td>\n",
       "      <td>76.86000</td>\n",
       "      <td>26626.515030</td>\n",
       "    </tr>\n",
       "    <tr>\n",
       "      <th>248</th>\n",
       "      <td>Canada</td>\n",
       "      <td>1992</td>\n",
       "      <td>2.852350e+07</td>\n",
       "      <td>Americas</td>\n",
       "      <td>77.95000</td>\n",
       "      <td>26342.884260</td>\n",
       "    </tr>\n",
       "    <tr>\n",
       "      <th>249</th>\n",
       "      <td>Canada</td>\n",
       "      <td>1997</td>\n",
       "      <td>3.030584e+07</td>\n",
       "      <td>Americas</td>\n",
       "      <td>78.61000</td>\n",
       "      <td>28954.925890</td>\n",
       "    </tr>\n",
       "    <tr>\n",
       "      <th>250</th>\n",
       "      <td>Canada</td>\n",
       "      <td>2002</td>\n",
       "      <td>3.190227e+07</td>\n",
       "      <td>Americas</td>\n",
       "      <td>79.77000</td>\n",
       "      <td>33328.965070</td>\n",
       "    </tr>\n",
       "    <tr>\n",
       "      <th>251</th>\n",
       "      <td>Canada</td>\n",
       "      <td>2007</td>\n",
       "      <td>3.339014e+07</td>\n",
       "      <td>Americas</td>\n",
       "      <td>80.65300</td>\n",
       "      <td>36319.235010</td>\n",
       "    </tr>\n",
       "    <tr>\n",
       "      <th>257</th>\n",
       "      <td>Central African Republic</td>\n",
       "      <td>1977</td>\n",
       "      <td>2.167533e+06</td>\n",
       "      <td>Africa</td>\n",
       "      <td>46.77500</td>\n",
       "      <td>1109.374338</td>\n",
       "    </tr>\n",
       "    <tr>\n",
       "      <th>258</th>\n",
       "      <td>Central African Republic</td>\n",
       "      <td>1982</td>\n",
       "      <td>2.476971e+06</td>\n",
       "      <td>Africa</td>\n",
       "      <td>48.29500</td>\n",
       "      <td>956.752991</td>\n",
       "    </tr>\n",
       "    <tr>\n",
       "      <th>259</th>\n",
       "      <td>Central African Republic</td>\n",
       "      <td>1987</td>\n",
       "      <td>2.840009e+06</td>\n",
       "      <td>Africa</td>\n",
       "      <td>50.48500</td>\n",
       "      <td>844.876350</td>\n",
       "    </tr>\n",
       "    <tr>\n",
       "      <th>260</th>\n",
       "      <td>Central African Republic</td>\n",
       "      <td>1992</td>\n",
       "      <td>3.265124e+06</td>\n",
       "      <td>Africa</td>\n",
       "      <td>49.39600</td>\n",
       "      <td>747.905525</td>\n",
       "    </tr>\n",
       "    <tr>\n",
       "      <th>293</th>\n",
       "      <td>China</td>\n",
       "      <td>1977</td>\n",
       "      <td>9.434550e+08</td>\n",
       "      <td>Asia</td>\n",
       "      <td>63.96736</td>\n",
       "      <td>741.237470</td>\n",
       "    </tr>\n",
       "    <tr>\n",
       "      <th>294</th>\n",
       "      <td>China</td>\n",
       "      <td>1982</td>\n",
       "      <td>1.000281e+09</td>\n",
       "      <td>Asia</td>\n",
       "      <td>65.52500</td>\n",
       "      <td>962.421381</td>\n",
       "    </tr>\n",
       "    <tr>\n",
       "      <th>295</th>\n",
       "      <td>China</td>\n",
       "      <td>1987</td>\n",
       "      <td>1.084035e+09</td>\n",
       "      <td>Asia</td>\n",
       "      <td>67.27400</td>\n",
       "      <td>1378.904018</td>\n",
       "    </tr>\n",
       "    <tr>\n",
       "      <th>296</th>\n",
       "      <td>China</td>\n",
       "      <td>1992</td>\n",
       "      <td>1.164970e+09</td>\n",
       "      <td>Asia</td>\n",
       "      <td>68.69000</td>\n",
       "      <td>1655.784158</td>\n",
       "    </tr>\n",
       "    <tr>\n",
       "      <th>302</th>\n",
       "      <td>Colombia</td>\n",
       "      <td>1962</td>\n",
       "      <td>1.700988e+07</td>\n",
       "      <td>Americas</td>\n",
       "      <td>57.86300</td>\n",
       "      <td>2492.351109</td>\n",
       "    </tr>\n",
       "    <tr>\n",
       "      <th>303</th>\n",
       "      <td>Colombia</td>\n",
       "      <td>1967</td>\n",
       "      <td>1.976403e+07</td>\n",
       "      <td>Americas</td>\n",
       "      <td>59.96300</td>\n",
       "      <td>2678.729839</td>\n",
       "    </tr>\n",
       "    <tr>\n",
       "      <th>328</th>\n",
       "      <td>Congo, Dem. Rep.</td>\n",
       "      <td>1972</td>\n",
       "      <td>2.300767e+07</td>\n",
       "      <td>Africa</td>\n",
       "      <td>45.98900</td>\n",
       "      <td>904.896068</td>\n",
       "    </tr>\n",
       "    <tr>\n",
       "      <th>333</th>\n",
       "      <td>Congo, Dem. Rep.</td>\n",
       "      <td>1997</td>\n",
       "      <td>4.779899e+07</td>\n",
       "      <td>Africa</td>\n",
       "      <td>42.58700</td>\n",
       "      <td>312.188423</td>\n",
       "    </tr>\n",
       "    <tr>\n",
       "      <th>369</th>\n",
       "      <td>Cote d'Ivoire</td>\n",
       "      <td>1997</td>\n",
       "      <td>1.462597e+07</td>\n",
       "      <td>Africa</td>\n",
       "      <td>47.99100</td>\n",
       "      <td>1786.265407</td>\n",
       "    </tr>\n",
       "    <tr>\n",
       "      <th>815</th>\n",
       "      <td>Jordan</td>\n",
       "      <td>2007</td>\n",
       "      <td>6.053193e+06</td>\n",
       "      <td>Asia</td>\n",
       "      <td>72.53500</td>\n",
       "      <td>4519.461171</td>\n",
       "    </tr>\n",
       "    <tr>\n",
       "      <th>828</th>\n",
       "      <td>Korea, Dem. Rep.</td>\n",
       "      <td>1952</td>\n",
       "      <td>8.865488e+06</td>\n",
       "      <td>Asia</td>\n",
       "      <td>50.05600</td>\n",
       "      <td>1088.277758</td>\n",
       "    </tr>\n",
       "    <tr>\n",
       "      <th>829</th>\n",
       "      <td>Korea, Dem. Rep.</td>\n",
       "      <td>1957</td>\n",
       "      <td>9.411381e+06</td>\n",
       "      <td>Asia</td>\n",
       "      <td>54.08100</td>\n",
       "      <td>1571.134655</td>\n",
       "    </tr>\n",
       "  </tbody>\n",
       "</table>\n",
       "</div>"
      ],
      "text/plain": [
       "                      country  year           pop continent   lifeExp   \n",
       "240                    Canada  1952  1.478558e+07  Americas  68.75000  \\\n",
       "241                    Canada  1957  1.701015e+07  Americas  69.96000   \n",
       "242                    Canada  1962  1.898585e+07  Americas  71.30000   \n",
       "243                    Canada  1967  2.081977e+07  Americas  72.13000   \n",
       "244                    Canada  1972  2.228450e+07  Americas  72.88000   \n",
       "245                    Canada  1977  2.379640e+07  Americas  74.21000   \n",
       "246                    Canada  1982  2.520190e+07  Americas  75.76000   \n",
       "247                    Canada  1987  2.654970e+07  Americas  76.86000   \n",
       "248                    Canada  1992  2.852350e+07  Americas  77.95000   \n",
       "249                    Canada  1997  3.030584e+07  Americas  78.61000   \n",
       "250                    Canada  2002  3.190227e+07  Americas  79.77000   \n",
       "251                    Canada  2007  3.339014e+07  Americas  80.65300   \n",
       "257  Central African Republic  1977  2.167533e+06    Africa  46.77500   \n",
       "258  Central African Republic  1982  2.476971e+06    Africa  48.29500   \n",
       "259  Central African Republic  1987  2.840009e+06    Africa  50.48500   \n",
       "260  Central African Republic  1992  3.265124e+06    Africa  49.39600   \n",
       "293                     China  1977  9.434550e+08      Asia  63.96736   \n",
       "294                     China  1982  1.000281e+09      Asia  65.52500   \n",
       "295                     China  1987  1.084035e+09      Asia  67.27400   \n",
       "296                     China  1992  1.164970e+09      Asia  68.69000   \n",
       "302                  Colombia  1962  1.700988e+07  Americas  57.86300   \n",
       "303                  Colombia  1967  1.976403e+07  Americas  59.96300   \n",
       "328          Congo, Dem. Rep.  1972  2.300767e+07    Africa  45.98900   \n",
       "333          Congo, Dem. Rep.  1997  4.779899e+07    Africa  42.58700   \n",
       "369             Cote d'Ivoire  1997  1.462597e+07    Africa  47.99100   \n",
       "815                    Jordan  2007  6.053193e+06      Asia  72.53500   \n",
       "828          Korea, Dem. Rep.  1952  8.865488e+06      Asia  50.05600   \n",
       "829          Korea, Dem. Rep.  1957  9.411381e+06      Asia  54.08100   \n",
       "\n",
       "        gdpPercap  \n",
       "240  11367.161120  \n",
       "241  12489.950060  \n",
       "242  13462.485550  \n",
       "243  16076.588030  \n",
       "244  18970.570860  \n",
       "245  22090.883060  \n",
       "246  22898.792140  \n",
       "247  26626.515030  \n",
       "248  26342.884260  \n",
       "249  28954.925890  \n",
       "250  33328.965070  \n",
       "251  36319.235010  \n",
       "257   1109.374338  \n",
       "258    956.752991  \n",
       "259    844.876350  \n",
       "260    747.905525  \n",
       "293    741.237470  \n",
       "294    962.421381  \n",
       "295   1378.904018  \n",
       "296   1655.784158  \n",
       "302   2492.351109  \n",
       "303   2678.729839  \n",
       "328    904.896068  \n",
       "333    312.188423  \n",
       "369   1786.265407  \n",
       "815   4519.461171  \n",
       "828   1088.277758  \n",
       "829   1571.134655  "
      ]
     },
     "execution_count": 63,
     "metadata": {},
     "output_type": "execute_result"
    }
   ],
   "source": [
    "# This is the goal\n",
    "clean[(~clean.eq(dirty)).any(axis=1)]"
   ]
  },
  {
   "cell_type": "markdown",
   "metadata": {},
   "source": [
    "```python\n",
    "def data_cleaner(dirty):\n",
    "    steps 1\n",
    "    steps 2\n",
    "    steps 3\n",
    "    return cleaned_data\n",
    "```"
   ]
  },
  {
   "cell_type": "markdown",
   "metadata": {},
   "source": [
    "```python\n",
    "new_data = data_cleaner(dirty_df)\n",
    "```\n",
    "```python\n",
    "clean[(~clean.eq(new_data)).any(axis=1)]\n",
    "```"
   ]
  },
  {
   "cell_type": "code",
   "execution_count": null,
   "metadata": {},
   "outputs": [],
   "source": []
  },
  {
   "cell_type": "code",
   "execution_count": null,
   "metadata": {},
   "outputs": [],
   "source": []
  },
  {
   "cell_type": "code",
   "execution_count": null,
   "metadata": {},
   "outputs": [],
   "source": []
  },
  {
   "cell_type": "code",
   "execution_count": null,
   "metadata": {},
   "outputs": [],
   "source": []
  },
  {
   "cell_type": "code",
   "execution_count": null,
   "metadata": {},
   "outputs": [],
   "source": [
    "##On Wednesday"
   ]
  },
  {
   "cell_type": "code",
   "execution_count": null,
   "metadata": {
    "scrolled": true
   },
   "outputs": [],
   "source": [
    "dirty[dirty.isnull().any(axis=1)]"
   ]
  },
  {
   "cell_type": "code",
   "execution_count": null,
   "metadata": {
    "nbgrader": {
     "grade": false,
     "grade_id": "cell-91958e9802fb7ae9",
     "locked": false,
     "schema_version": 3,
     "solution": true,
     "task": false
    },
    "scrolled": true
   },
   "outputs": [],
   "source": [
    "def cleaned_gapminder(dirty_df):\n",
    "    \n",
    "    # Let's fill the na's with `.fillna()`\n",
    "    dirty_df = dirty_df.fillna(value=\"Americas\")\n",
    "    dirty_df.columns = ['country', 'year', 'pop', 'continent', 'lifeExp', 'gdpPercap']\n",
    "\n",
    "    return dirty_df"
   ]
  },
  {
   "cell_type": "code",
   "execution_count": null,
   "metadata": {},
   "outputs": [],
   "source": [
    "cleaned_data = cleaned_gapminder(dirty)"
   ]
  },
  {
   "cell_type": "code",
   "execution_count": null,
   "metadata": {
    "nbgrader": {
     "grade": true,
     "grade_id": "cell-4d822c98c340d7d7",
     "locked": true,
     "points": 8,
     "schema_version": 3,
     "solution": false,
     "task": false
    }
   },
   "outputs": [],
   "source": [
    "clean[(~cleaned_data.eq(clean)).any(axis=1)].head(2)"
   ]
  },
  {
   "cell_type": "code",
   "execution_count": null,
   "metadata": {},
   "outputs": [],
   "source": [
    "clean.columns"
   ]
  },
  {
   "cell_type": "code",
   "execution_count": null,
   "metadata": {},
   "outputs": [],
   "source": [
    "cleaned_data[(~cleaned_data.eq(clean)).any(axis=1)].head(2)"
   ]
  },
  {
   "cell_type": "code",
   "execution_count": null,
   "metadata": {},
   "outputs": [],
   "source": []
  },
  {
   "cell_type": "code",
   "execution_count": null,
   "metadata": {},
   "outputs": [],
   "source": []
  },
  {
   "cell_type": "code",
   "execution_count": null,
   "metadata": {},
   "outputs": [],
   "source": []
  },
  {
   "cell_type": "code",
   "execution_count": 65,
   "metadata": {},
   "outputs": [],
   "source": [
    "grouped_chopped = chopped.groupby('season')"
   ]
  },
  {
   "cell_type": "code",
   "execution_count": 66,
   "metadata": {},
   "outputs": [
    {
     "data": {
      "text/plain": [
       "<pandas.core.groupby.generic.DataFrameGroupBy object at 0x10a374ed0>"
      ]
     },
     "execution_count": 66,
     "metadata": {},
     "output_type": "execute_result"
    }
   ],
   "source": [
    "grouped_chopped"
   ]
  },
  {
   "cell_type": "code",
   "execution_count": 71,
   "metadata": {},
   "outputs": [
    {
     "name": "stdout",
     "output_type": "stream",
     "text": [
      "1\n",
      "7 days 00:00:00\n",
      "7 days 00:00:00\n",
      "2\n",
      "2 days 00:00:00\n",
      "14 days 00:00:00\n",
      "3\n",
      "7 days 00:00:00\n",
      "96 days 00:00:00\n",
      "4\n",
      "7 days 00:00:00\n",
      "21 days 00:00:00\n",
      "5\n",
      "7 days 00:00:00\n",
      "28 days 00:00:00\n",
      "6\n",
      "7 days 00:00:00\n",
      "33 days 00:00:00\n",
      "7\n",
      "7 days 00:00:00\n",
      "7 days 00:00:00\n",
      "8\n",
      "7 days 00:00:00\n",
      "61 days 00:00:00\n",
      "9\n",
      "7 days 00:00:00\n",
      "14 days 00:00:00\n",
      "10\n",
      "5 days 00:00:00\n",
      "63 days 00:00:00\n",
      "11\n",
      "7 days 00:00:00\n",
      "161 days 00:00:00\n",
      "12\n",
      "7 days 00:00:00\n",
      "42 days 00:00:00\n",
      "13\n",
      "7 days 00:00:00\n",
      "37 days 00:00:00\n",
      "14\n",
      "7 days 00:00:00\n",
      "28 days 00:00:00\n",
      "15\n",
      "2 days 00:00:00\n",
      "35 days 00:00:00\n",
      "16\n",
      "2 days 00:00:00\n",
      "56 days 00:00:00\n",
      "17\n",
      "5 days 00:00:00\n",
      "16 days 00:00:00\n",
      "18\n",
      "2 days 00:00:00\n",
      "43 days 00:00:00\n",
      "19\n",
      "5 days 00:00:00\n",
      "21 days 00:00:00\n",
      "20\n",
      "7 days 00:00:00\n",
      "92 days 00:00:00\n",
      "21\n",
      "5 days 00:00:00\n",
      "105 days 00:00:00\n",
      "22\n",
      "7 days 00:00:00\n",
      "42 days 00:00:00\n",
      "23\n",
      "7 days 00:00:00\n",
      "56 days 00:00:00\n",
      "24\n",
      "7 days 00:00:00\n",
      "42 days 00:00:00\n",
      "25\n",
      "2 days 00:00:00\n",
      "27 days 00:00:00\n",
      "26\n",
      "2 days 00:00:00\n",
      "17 days 00:00:00\n",
      "27\n",
      "2 days 00:00:00\n",
      "7 days 00:00:00\n",
      "28\n",
      "7 days 00:00:00\n",
      "7 days 00:00:00\n",
      "29\n",
      "2 days 00:00:00\n",
      "7 days 00:00:00\n",
      "30\n",
      "3 days 00:00:00\n",
      "34 days 00:00:00\n",
      "31\n",
      "2 days 00:00:00\n",
      "7 days 00:00:00\n",
      "32\n",
      "7 days 00:00:00\n",
      "49 days 00:00:00\n",
      "33\n",
      "7 days 00:00:00\n",
      "21 days 00:00:00\n",
      "34\n",
      "7 days 00:00:00\n",
      "91 days 00:00:00\n",
      "35\n",
      "2 days 00:00:00\n",
      "42 days 00:00:00\n",
      "36\n",
      "7 days 00:00:00\n",
      "56 days 00:00:00\n",
      "37\n",
      "7 days 00:00:00\n",
      "105 days 00:00:00\n",
      "38\n",
      "7 days 00:00:00\n",
      "161 days 00:00:00\n",
      "39\n",
      "7 days 00:00:00\n",
      "91 days 00:00:00\n",
      "40\n",
      "7 days 00:00:00\n",
      "175 days 00:00:00\n",
      "41\n",
      "7 days 00:00:00\n",
      "182 days 00:00:00\n",
      "42\n",
      "7 days 00:00:00\n",
      "301 days 00:00:00\n",
      "43\n",
      "7 days 00:00:00\n",
      "119 days 00:00:00\n",
      "44\n",
      "0 days 00:00:00\n",
      "77 days 00:00:00\n",
      "45\n",
      "7 days 00:00:00\n",
      "63 days 00:00:00\n"
     ]
    }
   ],
   "source": [
    "counter = 0\n",
    "for group, rows in grouped_chopped:\n",
    "    print(group)\n",
    "    print(rows['air_date'].diff().min())\n",
    "    print(rows['air_date'].diff().max())\n",
    "    if rows['air_date'].diff().min() == rows['air_date'].diff().max() == 7:\n",
    "        counter += 1"
   ]
  },
  {
   "cell_type": "code",
   "execution_count": null,
   "metadata": {},
   "outputs": [],
   "source": []
  }
 ],
 "metadata": {
  "celltoolbar": "Create Assignment",
  "kernelspec": {
   "display_name": "Python 3 (ipykernel)",
   "language": "python",
   "name": "python3"
  },
  "language_info": {
   "codemirror_mode": {
    "name": "ipython",
    "version": 3
   },
   "file_extension": ".py",
   "mimetype": "text/x-python",
   "name": "python",
   "nbconvert_exporter": "python",
   "pygments_lexer": "ipython3",
   "version": "3.11.4"
  },
  "toc": {
   "base_numbering": 1,
   "nav_menu": {},
   "number_sections": true,
   "sideBar": true,
   "skip_h1_title": true,
   "title_cell": "Table of Contents",
   "title_sidebar": "Contents",
   "toc_cell": true,
   "toc_position": {},
   "toc_section_display": true,
   "toc_window_display": false
  }
 },
 "nbformat": 4,
 "nbformat_minor": 4
}
